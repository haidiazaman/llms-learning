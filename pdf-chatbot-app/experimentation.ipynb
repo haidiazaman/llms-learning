{
 "cells": [
  {
   "cell_type": "markdown",
   "id": "21f394f6-9a55-456c-a09a-f6264d8dea1d",
   "metadata": {},
   "source": [
    "# Build a Conversational RAG app with Custom PDF ingestion using Ollama-Langchain\n",
    "* use open-source LLM from Ollama for ChatCompletion\n",
    "* use open-source embedding model from HuggingFace for Embeddings for VectorStore\n",
    "* once done, convert to python script\n",
    "\n",
    "* should also have a version whre you can pass links and then ingest using import requests, but will have less control"
   ]
  },
  {
   "cell_type": "code",
   "execution_count": null,
   "id": "e92bd32a-4304-4dc6-a466-5103fee47db2",
   "metadata": {},
   "outputs": [],
   "source": [
    "https://hastie.su.domains/ElemStatLearn/printings/ESLII_print12_toc.pdf"
   ]
  },
  {
   "cell_type": "code",
   "execution_count": 3,
   "id": "698e238f-61ff-4257-8a38-4b7cf8ccd75c",
   "metadata": {},
   "outputs": [
    {
     "name": "stderr",
     "output_type": "stream",
     "text": [
      "/Users/I748920/Library/Python/3.9/lib/python/site-packages/pypdf/_crypt_providers/_cryptography.py:32: CryptographyDeprecationWarning: ARC4 has been moved to cryptography.hazmat.decrepit.ciphers.algorithms.ARC4 and will be removed from this module in 48.0.0.\n",
      "  from cryptography.hazmat.primitives.ciphers.algorithms import AES, ARC4\n"
     ]
    }
   ],
   "source": [
    "from langchain_community.document_loaders import PyPDFLoader\n",
    "\n",
    "file_path = 'sample.pdf'\n",
    "loader = PyPDFLoader(file_path = file_path)\n",
    "documents = loader.load()"
   ]
  },
  {
   "cell_type": "code",
   "execution_count": 15,
   "id": "c41e5e5f-255a-4c7c-bb4c-8633a39f58ab",
   "metadata": {},
   "outputs": [
    {
     "data": {
      "text/plain": [
       "'2.6 Statistical Models, Supervised Learning and Function Ap proximation 31\\n•••\\n•••\\n••••\\n••\\n•••\\n••••\\n•••\\n••\\n•••\\n•\\n•\\n••\\n••• ••••\\n••\\n•••\\n•••\\n•\\n••\\n••\\n•••\\n•\\n••\\n•••\\n•\\n•••\\n••••\\n•••\\n•\\n••\\nFIGURE 2.10. Least squares ﬁtting of a function of two inputs. The paramet ers\\noffθ(x)are chosen so as to minimize the sum-of-squared vertical err ors.\\nprinciple for estimation is maximum likelihood estimation . Suppose we have\\na random sample yi, i= 1,...,Nfrom a density Pr θ(y) indexed by some\\nparameters θ. The log-probability of the observed sample is\\nL(θ) =N∑\\ni=1logPrθ(yi). (2.33)\\nThe principle of maximum likelihood assumes that the most re asonable\\nvalues forθare those for which the probability of the observed sample is\\nlargest. Least squares for the additive error model Y=fθ(X) +ε, with\\nε∼N(0,σ2), is equivalent to maximum likelihood using the conditiona l\\nlikelihood\\nPr(Y|X,θ) =N(fθ(X),σ2). (2.34)\\nSo although the additional assumption of normality seems mo re restrictive,\\nthe results are the same. The log-likelihood of the data is\\nL(θ) =−N\\n2log(2π)−Nlogσ−1\\n2σ2N∑\\ni=1(yi−fθ(xi))2,(2.35)\\nand the only term involving θis the last, which is RSS( θ) up to a scalar\\nnegative multiplier.\\nA more interesting example is the multinomial likelihood fo r the regres-\\nsion function Pr( G|X) for a qualitative output G. Suppose we have a model\\nPr(G=Gk|X=x) =pk,θ(x), k= 1,...,Kfor the conditional probabil-\\nity of each class given X, indexed by the parameter vector θ. Then the'"
      ]
     },
     "execution_count": 15,
     "metadata": {},
     "output_type": "execute_result"
    }
   ],
   "source": [
    "documents[0].page_content"
   ]
  },
  {
   "cell_type": "code",
   "execution_count": 17,
   "id": "5b34f998-0072-4bbc-bd2c-0114bc46a37d",
   "metadata": {},
   "outputs": [],
   "source": [
    "from langchain_community.document_loaders import PyPDFLoader\n",
    "\n",
    "file_path = 'sample.pdf'\n",
    "loader = PyPDFLoader(file_path = file_path)\n",
    "documents = loader.load()"
   ]
  },
  {
   "cell_type": "code",
   "execution_count": 19,
   "id": "c63a82ec-af09-4581-9169-41ab878a6066",
   "metadata": {},
   "outputs": [
    {
     "data": {
      "text/plain": [
       "'2.6 Statistical Models, Supervised Learning and Function Ap proximation 31\\n•••\\n•••\\n••••\\n••\\n•••\\n••••\\n•••\\n••\\n•••\\n•\\n•\\n••\\n••• ••••\\n••\\n•••\\n•••\\n•\\n••\\n••\\n•••\\n•\\n••\\n•••\\n•\\n•••\\n••••\\n•••\\n•\\n••\\nFIGURE 2.10. Least squares ﬁtting of a function of two inputs. The paramet ers\\noffθ(x)are chosen so as to minimize the sum-of-squared vertical err ors.\\nprinciple for estimation is maximum likelihood estimation . Suppose we have\\na random sample yi, i= 1,...,Nfrom a density Pr θ(y) indexed by some\\nparameters θ. The log-probability of the observed sample is\\nL(θ) =N∑\\ni=1logPrθ(yi). (2.33)\\nThe principle of maximum likelihood assumes that the most re asonable\\nvalues forθare those for which the probability of the observed sample is\\nlargest. Least squares for the additive error model Y=fθ(X) +ε, with\\nε∼N(0,σ2), is equivalent to maximum likelihood using the conditiona l\\nlikelihood\\nPr(Y|X,θ) =N(fθ(X),σ2). (2.34)\\nSo although the additional assumption of normality seems mo re restrictive,\\nthe results are the same. The log-likelihood of the data is\\nL(θ) =−N\\n2log(2π)−Nlogσ−1\\n2σ2N∑\\ni=1(yi−fθ(xi))2,(2.35)\\nand the only term involving θis the last, which is RSS( θ) up to a scalar\\nnegative multiplier.\\nA more interesting example is the multinomial likelihood fo r the regres-\\nsion function Pr( G|X) for a qualitative output G. Suppose we have a model\\nPr(G=Gk|X=x) =pk,θ(x), k= 1,...,Kfor the conditional probabil-\\nity of each class given X, indexed by the parameter vector θ. Then the'"
      ]
     },
     "execution_count": 19,
     "metadata": {},
     "output_type": "execute_result"
    }
   ],
   "source": [
    "documents[0].page_content"
   ]
  },
  {
   "cell_type": "code",
   "execution_count": null,
   "id": "096021f6-12b9-4e40-8d0c-7c4a30ba6b21",
   "metadata": {},
   "outputs": [],
   "source": [
    "1-19\n",
    "20-27\n",
    "28-61\n",
    "62-119\n",
    "120-157\n",
    "158-209\n",
    "210-237\n",
    "238-279\n",
    "280-313\n",
    "314-355\n",
    "356-407\n",
    "408-435\n",
    "436-477\n",
    "478-503\n",
    "504-605\n",
    "606-623\n",
    "624-643\n",
    "644-667\n",
    "668-717\n",
    "718-747\n",
    "748-755\n",
    "756"
   ]
  },
  {
   "cell_type": "code",
   "execution_count": null,
   "id": "1120b0fd-caac-4c1f-9b4e-cc7cecbea270",
   "metadata": {},
   "outputs": [],
   "source": []
  }
 ],
 "metadata": {
  "kernelspec": {
   "display_name": "langchain",
   "language": "python",
   "name": "langchain"
  },
  "language_info": {
   "codemirror_mode": {
    "name": "ipython",
    "version": 3
   },
   "file_extension": ".py",
   "mimetype": "text/x-python",
   "name": "python",
   "nbconvert_exporter": "python",
   "pygments_lexer": "ipython3",
   "version": "3.9.6"
  }
 },
 "nbformat": 4,
 "nbformat_minor": 5
}
