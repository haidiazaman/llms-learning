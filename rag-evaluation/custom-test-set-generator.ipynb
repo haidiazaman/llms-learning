{
 "cells": [
  {
   "cell_type": "markdown",
   "id": "a15664aa-b063-415c-bd02-2049816598c7",
   "metadata": {},
   "source": [
    "* https://huggingface.co/learn/cookbook/en/rag_evaluation\n",
    "* https://sap-my.sharepoint.com/:x:/r/personal/sabine_loss_sap_com/_layouts/15/Doc.aspx?sourcedoc=%7B2F78859D-06EF-413D-9E7A-250936C7B556%7D&file=GoldenDataSet_RAG.xlsx&action=default&mobileredirect=true"
   ]
  },
  {
   "cell_type": "markdown",
   "id": "5bbc3136-ece1-4aaa-ba28-a703e6effe97",
   "metadata": {},
   "source": [
    "* use ollama models and huggingface embeddings\n",
    "* use help docs from the first 10 rows of the golden dataset - see if can bsoup it else just use text, copy paste to txt file or sth\n",
    "* setup generator critic llm according to tut\n",
    "* generate q-a\n",
    "* evaluate q-a and filter for good scores\n",
    "* human evaluation"
   ]
  },
  {
   "cell_type": "code",
   "execution_count": null,
   "id": "ce4f1a8e-7d6a-42d3-b97d-f535eaf875ea",
   "metadata": {},
   "outputs": [],
   "source": []
  }
 ],
 "metadata": {
  "kernelspec": {
   "display_name": "Python 3 (ipykernel)",
   "language": "python",
   "name": "python3"
  },
  "language_info": {
   "codemirror_mode": {
    "name": "ipython",
    "version": 3
   },
   "file_extension": ".py",
   "mimetype": "text/x-python",
   "name": "python",
   "nbconvert_exporter": "python",
   "pygments_lexer": "ipython3",
   "version": "3.12.4"
  }
 },
 "nbformat": 4,
 "nbformat_minor": 5
}
