{
 "cells": [
  {
   "cell_type": "markdown",
   "id": "a15664aa-b063-415c-bd02-2049816598c7",
   "metadata": {},
   "source": [
    "* https://huggingface.co/learn/cookbook/en/rag_evaluation\n",
    "* https://sap-my.sharepoint.com/:x:/r/personal/sabine_loss_sap_com/_layouts/15/Doc.aspx?sourcedoc=%7B2F78859D-06EF-413D-9E7A-250936C7B556%7D&file=GoldenDataSet_RAG.xlsx&action=default&mobileredirect=true"
   ]
  },
  {
   "cell_type": "markdown",
   "id": "5bbc3136-ece1-4aaa-ba28-a703e6effe97",
   "metadata": {},
   "source": [
    "* use ollama models and huggingface embeddings (need 2 LLM models)\n",
    "* use help docs from the first 10 rows of the golden dataset - see if can bsoup it else just use text, copy paste to txt file or sth\n",
    "* setup generator critic llm according to tut\n",
    "* generate q-a\n",
    "* evaluate q-a and filter for good scores\n",
    "* human evaluation"
   ]
  },
  {
   "cell_type": "markdown",
   "id": "21a9841f-cbfd-41e7-a821-b14b34ed7254",
   "metadata": {
    "jp-MarkdownHeadingCollapsed": true
   },
   "source": [
    "# setup llms, embedding_model, and process pdfs"
   ]
  },
  {
   "cell_type": "code",
   "execution_count": 4,
   "id": "ce4f1a8e-7d6a-42d3-b97d-f535eaf875ea",
   "metadata": {
    "scrolled": true
   },
   "outputs": [
    {
     "name": "stderr",
     "output_type": "stream",
     "text": [
      "/Users/I748920/Library/Python/3.9/lib/python/site-packages/urllib3/__init__.py:35: NotOpenSSLWarning: urllib3 v2 only supports OpenSSL 1.1.1+, currently the 'ssl' module is compiled with 'LibreSSL 2.8.3'. See: https://github.com/urllib3/urllib3/issues/3020\n",
      "  warnings.warn(\n"
     ]
    },
    {
     "name": "stdout",
     "output_type": "stream",
     "text": [
      "content=\"Pythagoras' Theorem, also known as the Pythagorean Theorem, is a fundamental concept in geometry that describes the relationship between the lengths of the sides of a right-angled triangle. It states:\\n\\n**a² + b² = c²**\\n\\nwhere:\\n\\n* **a** and **b** are the lengths of the two sides (called legs) that form the right angle.\\n* **c** is the length of the hypotenuse (the side opposite the right angle).\\n\\nIn other words, if you square the lengths of the two shorter sides of a right-angled triangle and add them together, the result is equal to the square of the length of the longest side (the hypotenuse).\\n\\nHere's an example:\\n\\nSuppose we have a right-angled triangle with one leg that's 3 inches long and another leg that's 4 inches long. Using Pythagoras' Theorem, we can calculate the length of the hypotenuse as follows:\\n\\n**a² + b² = c²**\\n**(3)² + (4)² = c²**\\n**9 + 16 = c²**\\n**25 = c²**\\n\\nTo find **c**, we take the square root of both sides:\\n\\n**c = √25**\\n**c = 5 inches**\\n\\nSo, in this example, the length of the hypotenuse is 5 inches.\\n\\nPythagoras' Theorem has numerous applications in mathematics, science, engineering, and architecture. It's a fundamental concept that helps us solve problems involving right-angled triangles, making it an essential tool for anyone working with geometry!\" response_metadata={'model': 'llama3.1', 'created_at': '2024-09-23T07:30:09.918139Z', 'message': {'role': 'assistant', 'content': ''}, 'done_reason': 'stop', 'done': True, 'total_duration': 19337679750, 'load_duration': 6648648625, 'prompt_eval_count': 16, 'prompt_eval_duration': 128288000, 'eval_count': 329, 'eval_duration': 12560212000} id='run-0c006a3e-2822-4fd5-9872-be016ec94bf4-0' usage_metadata={'input_tokens': 16, 'output_tokens': 329, 'total_tokens': 345}\n",
      "content=\"Pythagoras' Theorem, also known as the Pythagorean Theorem, is a fundamental concept in geometry that describes the relationship between the lengths of the sides of a right-angled triangle. It states:\\n\\n**a² + b² = c²**\\n\\nwhere:\\n\\n* **a** and **b** are the lengths of the two sides (called legs) that form the right angle.\\n* **c** is the length of the hypotenuse (the side opposite the right angle).\\n\\nIn other words, if you square the lengths of the two shorter sides of a right-angled triangle and add them together, the result is equal to the square of the length of the longest side (the hypotenuse).\\n\\nHere's an example:\\n\\nSuppose we have a right-angled triangle with one leg that's 3 inches long and another leg that's 4 inches long. Using Pythagoras' Theorem, we can calculate the length of the hypotenuse as follows:\\n\\n**a² + b² = c²**\\n**(3)² + (4)² = c²**\\n**9 + 16 = c²**\\n**25 = c²**\\n\\nTo find **c**, we take the square root of both sides:\\n\\n**c = √25**\\n**c = 5 inches**\\n\\nSo, in this example, the length of the hypotenuse is 5 inches.\\n\\nPythagoras' Theorem has numerous applications in mathematics, science, engineering, and architecture. It's a fundamental concept that helps us solve problems involving right-angled triangles, making it an essential tool for anyone working with geometry!\" response_metadata={'model': 'llama3.1', 'created_at': '2024-09-23T07:30:22.396568Z', 'message': {'role': 'assistant', 'content': ''}, 'done_reason': 'stop', 'done': True, 'total_duration': 12468472583, 'load_duration': 11401458, 'prompt_eval_count': 16, 'prompt_eval_duration': 38227000, 'eval_count': 329, 'eval_duration': 12417657000} id='run-6363ae8b-591f-4548-8f01-c9a2278b5668-0' usage_metadata={'input_tokens': 16, 'output_tokens': 329, 'total_tokens': 345}\n"
     ]
    }
   ],
   "source": [
    "# setup ollama model\n",
    "\n",
    "from langchain_ollama import ChatOllama\n",
    "\n",
    "llm_model_name = \"llama3.1\"\n",
    "\n",
    "generator_llm = ChatOllama(\n",
    "    model=llm_model_name,\n",
    "    temperature=0 # increase temp for more creative answers\n",
    ") \n",
    "\n",
    "critic_llm = ChatOllama(\n",
    "    model=llm_model_name,\n",
    "    temperature=0 # increase temp for more creative answers\n",
    ") \n",
    "\n",
    "# test\n",
    "response = generator_llm.invoke(\"what is pythagoras theorem\")\n",
    "print(response)\n",
    "\n",
    "response = critic_llm.invoke(\"what is pythagoras theorem\")\n",
    "print(response)"
   ]
  },
  {
   "cell_type": "code",
   "execution_count": 14,
   "id": "1a7a96a1-5095-4353-824f-83bb15da05d7",
   "metadata": {},
   "outputs": [
    {
     "name": "stderr",
     "output_type": "stream",
     "text": [
      "/var/folders/ff/wvby4kh52j96myw15h33jjk40000gn/T/ipykernel_18835/246890294.py:7: LangChainDeprecationWarning: The class `HuggingFaceEmbeddings` was deprecated in LangChain 0.2.2 and will be removed in 0.3.0. An updated version of the class exists in the langchain-huggingface package and should be used instead. To use it run `pip install -U langchain-huggingface` and import as `from langchain_huggingface import HuggingFaceEmbeddings`.\n",
      "  hf_embedding_model = HuggingFaceEmbeddings(\n",
      "/Users/I748920/Library/Python/3.9/lib/python/site-packages/sentence_transformers/cross_encoder/CrossEncoder.py:11: TqdmWarning: IProgress not found. Please update jupyter and ipywidgets. See https://ipywidgets.readthedocs.io/en/stable/user_install.html\n",
      "  from tqdm.autonotebook import tqdm, trange\n"
     ]
    }
   ],
   "source": [
    "from langchain_community.embeddings import HuggingFaceEmbeddings\n",
    "\n",
    "embedding_model_name = \"sentence-transformers/all-mpnet-base-v2\"\n",
    "model_kwargs = {'device': 'cpu'}\n",
    "encode_kwargs = {'normalize_embeddings': False}\n",
    "\n",
    "hf_embedding_model = HuggingFaceEmbeddings(\n",
    "    model_name=embedding_model_name,\n",
    "    model_kwargs=model_kwargs,\n",
    "    encode_kwargs=encode_kwargs\n",
    ")"
   ]
  },
  {
   "cell_type": "code",
   "execution_count": 25,
   "id": "d1277393-f544-4538-b491-a4902974ace0",
   "metadata": {},
   "outputs": [],
   "source": [
    "from langchain_community.document_loaders import PyPDFLoader\n",
    "from langchain_text_splitters import RecursiveCharacterTextSplitter\n",
    "from tqdm import tqdm\n",
    "\n",
    "def load_pdfs(file_paths):\n",
    "    \"\"\"\n",
    "    file_paths must end with .pdf\n",
    "    PyPDFLoader auto splits the pdf into pages, each page is 1 Document object split by page number\n",
    "    note that the splitting by page number is not perfect, the actual page number might be +/- 1-2pages.\n",
    "\n",
    "    returns a dict of key: file_path and value: list of document objects\n",
    "    \"\"\"\n",
    "    documents_dict = {}   \n",
    "    for f in tqdm(file_paths):\n",
    "        loader = PyPDFLoader(file_path = f)\n",
    "        documents = loader.load()\n",
    "        documents_dict[f] = documents\n",
    "    return documents_dict\n",
    "\n",
    "\n",
    "def chunk_list_of_documents(documents):\n",
    "    \"\"\"\n",
    "    input a list of documents as Document objects\n",
    "\n",
    "    output a list of chunks as Document objects\n",
    "    \"\"\"\n",
    "    text_splitter = RecursiveCharacterTextSplitter(\n",
    "        chunk_size = 500,\n",
    "        chunk_overlap = 100, # using 20% is a good start\n",
    "        length_function=len,\n",
    "        is_separator_regex=False,\n",
    "        add_start_index=True\n",
    "    )\n",
    "\n",
    "    chunks = text_splitter.split_documents(documents)    \n",
    "    return chunks\n"
   ]
  },
  {
   "cell_type": "code",
   "execution_count": 29,
   "id": "185b69b7-e975-4da6-a55c-3c80da90f11c",
   "metadata": {},
   "outputs": [
    {
     "name": "stderr",
     "output_type": "stream",
     "text": [
      "100%|██████████| 1/1 [00:00<00:00,  4.16it/s]\n"
     ]
    }
   ],
   "source": [
    "file = \"product-allocation.pdf\"\n",
    "\n",
    "documents_dict = load_pdfs([file])"
   ]
  },
  {
   "cell_type": "code",
   "execution_count": 35,
   "id": "227bee0f-305f-4de0-8aa9-b29729d1dc8e",
   "metadata": {
    "scrolled": true
   },
   "outputs": [
    {
     "data": {
      "text/plain": [
       "dict_keys(['product-allocation.pdf'])"
      ]
     },
     "execution_count": 35,
     "metadata": {},
     "output_type": "execute_result"
    }
   ],
   "source": [
    "documents_dict.keys() \n",
    "# values are the Document objects containing content of each page of the document, ~ 1 page per document object"
   ]
  },
  {
   "cell_type": "code",
   "execution_count": 38,
   "id": "f68554c5-1ce8-4e97-858b-7c4bfd53d041",
   "metadata": {},
   "outputs": [],
   "source": [
    "chunks = chunk_list_of_documents(documents=documents_dict['product-allocation.pdf'])"
   ]
  },
  {
   "cell_type": "code",
   "execution_count": 40,
   "id": "9a1f47c2-25d1-4b3f-962f-16311b3cf851",
   "metadata": {},
   "outputs": [
    {
     "data": {
      "text/plain": [
       "31"
      ]
     },
     "execution_count": 40,
     "metadata": {},
     "output_type": "execute_result"
    }
   ],
   "source": [
    "len(chunks)"
   ]
  },
  {
   "cell_type": "code",
   "execution_count": 42,
   "id": "61f6569b-9f35-4cbd-9f6a-753ff2d15404",
   "metadata": {
    "scrolled": true
   },
   "outputs": [
    {
     "data": {
      "text/plain": [
       "Document(metadata={'source': 'product-allocation.pdf', 'page': 0, 'start_index': 0}, page_content='9/23/2024\\n1 This is custom documentation. For more information, please visit the SAP Help PortalAPIs for Availability Checks\\nGenerated on: 2024-09-23 07:39:39 GMT+0000\\nSAP S/4HANA | 2023 Latest\\nPUBLIC\\nOriginal content: https://help.sap.com/docs/SAP_S4HANA_ON-PREMISE/15f9e51998a945cc82545cb6b4dbe5c2?locale=en-\\nUS&state=PRODUCTION&version=2023.001\\nWarning\\nThis document has been generated from the SAP Help Portal and is an incomplete version of the oﬃcial SAP product')"
      ]
     },
     "execution_count": 42,
     "metadata": {},
     "output_type": "execute_result"
    }
   ],
   "source": [
    "chunks[0]"
   ]
  },
  {
   "cell_type": "markdown",
   "id": "2c5e073e-e6f9-48d6-9f47-c915167126d1",
   "metadata": {},
   "source": [
    "# setup prompt and llm for generator-llm"
   ]
  },
  {
   "cell_type": "markdown",
   "id": "1c29a753-1c69-4b78-9d1e-bcf4450ae725",
   "metadata": {},
   "source": [
    "Now let’s generate our QA couples. For this example, we generate only 10 QA couples and will load the rest from the Hub.\n",
    "\n",
    "But for your specific knowledge base, given that you want to get at least ~100 test samples, and accounting for the fact that we will filter out around half of these with our critique agents later on, you should generate much more, in the >200 samples."
   ]
  },
  {
   "cell_type": "code",
   "execution_count": 78,
   "id": "9f4c6c91-8e09-4a9a-9141-472bbb8aae35",
   "metadata": {},
   "outputs": [
    {
     "name": "stdout",
     "output_type": "stream",
     "text": [
      "\n",
      "write a short story about this character. cheeky_fella has trait bravery and lives in a small village in the mountains.\n",
      "keep to 40 words only.\n",
      "\n",
      "\n",
      "content='In the mountain village of Brindlemark, Cheeky Fella stood tall, his bright smile a beacon of courage. When a fierce storm threatened to destroy the village, he rallied the townsfolk, leading them to safety with bravery and wit, earning their eternal gratitude.' response_metadata={'model': 'llama3.1', 'created_at': '2024-09-23T07:54:31.951553Z', 'message': {'role': 'assistant', 'content': ''}, 'done_reason': 'stop', 'done': True, 'total_duration': 2295223000, 'load_duration': 29363667, 'prompt_eval_count': 42, 'prompt_eval_duration': 185780000, 'eval_count': 57, 'eval_duration': 2078914000} id='run-b5f4155b-6237-4863-aa58-77d84e5f0960-0' usage_metadata={'input_tokens': 42, 'output_tokens': 57, 'total_tokens': 99}\n"
     ]
    }
   ],
   "source": [
    "# sample call for langchain_ollama\n",
    "\n",
    "# Define the prompt template\n",
    "sample_prompt = \"\"\"\n",
    "write a short story about this character. {name} has trait {trait} and lives in {place}.\n",
    "keep to 40 words only.\n",
    "\"\"\"\n",
    "\n",
    "# Define the trait and place for the character\n",
    "name = \"cheeky_fella\"\n",
    "trait = \"bravery\"\n",
    "place = \"a small village in the mountains\"\n",
    "\n",
    "# Format the prompt with the trait and place\n",
    "formatted_prompt = sample_prompt.format(name=name,trait=trait, place=place)\n",
    "print(formatted_prompt)\n",
    "print()\n",
    "\n",
    "# Call the LLM with the formatted prompt\n",
    "resp = generator_llm.invoke(\n",
    "    input=formatted_prompt  # Pass the formatted prompt to the LLM\n",
    ")\n",
    "\n",
    "print(resp)"
   ]
  },
  {
   "cell_type": "code",
   "execution_count": 82,
   "id": "8b566978-8bcb-4a81-933f-10fd1a69bbf4",
   "metadata": {},
   "outputs": [
    {
     "data": {
      "text/plain": [
       "AIMessage(content='In the mountain village of Brindlemark, Cheeky Fella stood tall, his bright smile a beacon of courage. When a fierce storm threatened to destroy the village, he rallied the townsfolk, leading them to safety with bravery and wit, earning their eternal gratitude.', response_metadata={'model': 'llama3.1', 'created_at': '2024-09-23T07:54:31.951553Z', 'message': {'role': 'assistant', 'content': ''}, 'done_reason': 'stop', 'done': True, 'total_duration': 2295223000, 'load_duration': 29363667, 'prompt_eval_count': 42, 'prompt_eval_duration': 185780000, 'eval_count': 57, 'eval_duration': 2078914000}, id='run-b5f4155b-6237-4863-aa58-77d84e5f0960-0', usage_metadata={'input_tokens': 42, 'output_tokens': 57, 'total_tokens': 99})"
      ]
     },
     "execution_count": 82,
     "metadata": {},
     "output_type": "execute_result"
    }
   ],
   "source": [
    "resp"
   ]
  },
  {
   "cell_type": "code",
   "execution_count": 84,
   "id": "bbbe425b-b3e7-44da-9a50-8535abcfc8b6",
   "metadata": {},
   "outputs": [
    {
     "data": {
      "text/plain": [
       "'In the mountain village of Brindlemark, Cheeky Fella stood tall, his bright smile a beacon of courage. When a fierce storm threatened to destroy the village, he rallied the townsfolk, leading them to safety with bravery and wit, earning their eternal gratitude.'"
      ]
     },
     "execution_count": 84,
     "metadata": {},
     "output_type": "execute_result"
    }
   ],
   "source": [
    "resp.content"
   ]
  },
  {
   "cell_type": "code",
   "execution_count": 88,
   "id": "1954dd88-dda6-4373-8890-b169b5996d43",
   "metadata": {},
   "outputs": [],
   "source": [
    "QA_generation_prompt = \"\"\"\n",
    "Your task is to write a factoid question and an answer given a context.\n",
    "Your factoid question should be answerable with a specific, concise piece of factual information from the context.\n",
    "Your factoid question should be formulated in the same style as questions users could ask in a search engine.\n",
    "This means that your factoid question MUST NOT mention something like \"according to the passage\" or \"context\".\n",
    "Keep your answer under 300 words.\n",
    "Provide your answer as follows:\n",
    "\n",
    "Output:::\n",
    "Factoid question: (your factoid question)\n",
    "Answer: (your answer to the factoid question)\n",
    "\n",
    "Now here is the context.\n",
    "\n",
    "Context: {context}\\n\n",
    "Output:::\"\"\""
   ]
  },
  {
   "cell_type": "code",
   "execution_count": 96,
   "id": "becef258-3001-49dc-a678-e26885fa304f",
   "metadata": {},
   "outputs": [],
   "source": [
    "# create function to call llm\n",
    "\n",
    "def get_generated_qa(llm,prompt,context):\n",
    "    \"\"\"\n",
    "    prompt must contain the input {context}\n",
    "    \"\"\"\n",
    "    # add the context and format the prompt\n",
    "    formatted_prompt = prompt.format(context=context)\n",
    "    \n",
    "    # Call the LLM with the formatted prompt\n",
    "    resp = llm.invoke(\n",
    "        input=formatted_prompt  # Pass the formatted prompt to the LLM\n",
    "    )\n",
    "    \n",
    "    return resp"
   ]
  },
  {
   "cell_type": "code",
   "execution_count": 98,
   "id": "aee5b416-ec2b-42be-be82-390925ed1765",
   "metadata": {},
   "outputs": [
    {
     "data": {
      "text/plain": [
       "Document(metadata={'source': 'product-allocation.pdf', 'page': 0, 'start_index': 0}, page_content='9/23/2024\\n1 This is custom documentation. For more information, please visit the SAP Help PortalAPIs for Availability Checks\\nGenerated on: 2024-09-23 07:39:39 GMT+0000\\nSAP S/4HANA | 2023 Latest\\nPUBLIC\\nOriginal content: https://help.sap.com/docs/SAP_S4HANA_ON-PREMISE/15f9e51998a945cc82545cb6b4dbe5c2?locale=en-\\nUS&state=PRODUCTION&version=2023.001\\nWarning\\nThis document has been generated from the SAP Help Portal and is an incomplete version of the oﬃcial SAP product')"
      ]
     },
     "execution_count": 98,
     "metadata": {},
     "output_type": "execute_result"
    }
   ],
   "source": [
    "chunks[0]"
   ]
  },
  {
   "cell_type": "code",
   "execution_count": 113,
   "id": "eb2bf3b3-7183-4d4f-a9ec-bd522a3076bf",
   "metadata": {},
   "outputs": [
    {
     "name": "stdout",
     "output_type": "stream",
     "text": [
      "Generating 10 QA couples...\n"
     ]
    },
    {
     "name": "stderr",
     "output_type": "stream",
     "text": [
      "100%|██████████| 10/10 [00:16<00:00,  1.67s/it]\n"
     ]
    }
   ],
   "source": [
    "import random\n",
    "\n",
    "N_GENERATIONS = 10  \n",
    "\n",
    "print(f\"Generating {N_GENERATIONS} QA couples...\")\n",
    "\n",
    "outputs = []\n",
    "for sampled_context in tqdm(random.sample(chunks, N_GENERATIONS)):\n",
    "\n",
    "    # get QA couple\n",
    "    qa_couple = get_generated_qa(generator_llm,QA_generation_prompt,sampled_context)\n",
    "\n",
    "    # condition check if answer is too long\n",
    "    try:\n",
    "        question = qa_couple.content.split(\"Factoid question: \")[-1].split(\"Answer: \")[0]\n",
    "        answer = qa_couple.content.split(\"Answer: \")[-1]\n",
    "        assert len(answer) < 300, \"Answer is too long\"\n",
    "        outputs.append(\n",
    "            {\n",
    "                \"context\": sampled_context.page_content,\n",
    "                \"question\": question,\n",
    "                \"answer\": answer,\n",
    "                \"source_doc\": sampled_context.metadata[\"source\"],\n",
    "            }\n",
    "        )\n",
    "    except:\n",
    "        continue"
   ]
  },
  {
   "cell_type": "code",
   "execution_count": 132,
   "id": "0e71bdb4-1671-41bb-b1aa-8a50c34c012c",
   "metadata": {},
   "outputs": [
    {
     "data": {
      "text/plain": [
       "9"
      ]
     },
     "execution_count": 132,
     "metadata": {},
     "output_type": "execute_result"
    }
   ],
   "source": [
    "len(outputs)"
   ]
  },
  {
   "cell_type": "code",
   "execution_count": 117,
   "id": "bf9adc6f-a4c2-42d6-ad16-da40d1c1daf5",
   "metadata": {
    "scrolled": true
   },
   "outputs": [
    {
     "data": {
      "text/html": [
       "<div>\n",
       "<style scoped>\n",
       "    .dataframe tbody tr th:only-of-type {\n",
       "        vertical-align: middle;\n",
       "    }\n",
       "\n",
       "    .dataframe tbody tr th {\n",
       "        vertical-align: top;\n",
       "    }\n",
       "\n",
       "    .dataframe thead th {\n",
       "        text-align: right;\n",
       "    }\n",
       "</style>\n",
       "<table border=\"1\" class=\"dataframe\">\n",
       "  <thead>\n",
       "    <tr style=\"text-align: right;\">\n",
       "      <th></th>\n",
       "      <th>context</th>\n",
       "      <th>question</th>\n",
       "      <th>answer</th>\n",
       "      <th>source_doc</th>\n",
       "    </tr>\n",
       "  </thead>\n",
       "  <tbody>\n",
       "    <tr>\n",
       "      <th>0</th>\n",
       "      <td>allocation sequence and a given product alloca...</td>\n",
       "      <td>What is the technical name of a product alloca...</td>\n",
       "      <td>A_ProdAllocationSequence</td>\n",
       "      <td>product-allocation.pdf</td>\n",
       "    </tr>\n",
       "    <tr>\n",
       "      <th>1</th>\n",
       "      <td>9/23/2024\\n2 This is custom documentation. For...</td>\n",
       "      <td>What is the technical name of the Product Allo...</td>\n",
       "      <td>API_PRODUCT_ALLOC_SEQUENCE_SRV</td>\n",
       "      <td>product-allocation.pdf</td>\n",
       "    </tr>\n",
       "    <tr>\n",
       "      <th>2</th>\n",
       "      <td>9/23/2024\\n1 This is custom documentation. For...</td>\n",
       "      <td>What is the date when this documentation was g...</td>\n",
       "      <td>September 23, 2024.</td>\n",
       "      <td>product-allocation.pdf</td>\n",
       "    </tr>\n",
       "    <tr>\n",
       "      <th>3</th>\n",
       "      <td>Accelerator Hub.\\nService Structure\\nEntities\\...</td>\n",
       "      <td>What is the necessity of the \"Product Allocati...</td>\n",
       "      <td>Mandatory.</td>\n",
       "      <td>product-allocation.pdf</td>\n",
       "    </tr>\n",
       "    <tr>\n",
       "      <th>4</th>\n",
       "      <td>a large volume of data to be maintained in the...</td>\n",
       "      <td>What is enabled by this service?\\n</td>\n",
       "      <td>The service enables reading of header data for...</td>\n",
       "      <td>product-allocation.pdf</td>\n",
       "    </tr>\n",
       "    <tr>\n",
       "      <th>5</th>\n",
       "      <td>CRUD\\nCreate Read Update Delete\\nX\\nProperties...</td>\n",
       "      <td>What operations are supported for a Product Al...</td>\n",
       "      <td>Read the description of a specific product all...</td>\n",
       "      <td>product-allocation.pdf</td>\n",
       "    </tr>\n",
       "    <tr>\n",
       "      <th>6</th>\n",
       "      <td>Read the description of a speci\u0000c product allo...</td>\n",
       "      <td>What is the technical name of this entity?\\n</td>\n",
       "      <td>A_ProdAllocSqncAssgmt</td>\n",
       "      <td>product-allocation.pdf</td>\n",
       "    </tr>\n",
       "    <tr>\n",
       "      <th>7</th>\n",
       "      <td>POST &lt;host&gt;/sap/opu/odata/SAP/API_PRODUCT_ALLO...</td>\n",
       "      <td>What is the prefix used to enclose a UUID valu...</td>\n",
       "      <td>guid</td>\n",
       "      <td>product-allocation.pdf</td>\n",
       "    </tr>\n",
       "    <tr>\n",
       "      <th>8</th>\n",
       "      <td>ValidityStartUTCDateTime Validity start time\\n...</td>\n",
       "      <td>What are the supported operations for a produc...</td>\n",
       "      <td>Read product-location assignments of a specifi...</td>\n",
       "      <td>product-allocation.pdf</td>\n",
       "    </tr>\n",
       "  </tbody>\n",
       "</table>\n",
       "</div>"
      ],
      "text/plain": [
       "                                             context  \\\n",
       "0  allocation sequence and a given product alloca...   \n",
       "1  9/23/2024\\n2 This is custom documentation. For...   \n",
       "2  9/23/2024\\n1 This is custom documentation. For...   \n",
       "3  Accelerator Hub.\\nService Structure\\nEntities\\...   \n",
       "4  a large volume of data to be maintained in the...   \n",
       "5  CRUD\\nCreate Read Update Delete\\nX\\nProperties...   \n",
       "6  Read the description of a speci\u0000c product allo...   \n",
       "7  POST <host>/sap/opu/odata/SAP/API_PRODUCT_ALLO...   \n",
       "8  ValidityStartUTCDateTime Validity start time\\n...   \n",
       "\n",
       "                                            question  \\\n",
       "0  What is the technical name of a product alloca...   \n",
       "1  What is the technical name of the Product Allo...   \n",
       "2  What is the date when this documentation was g...   \n",
       "3  What is the necessity of the \"Product Allocati...   \n",
       "4                 What is enabled by this service?\\n   \n",
       "5  What operations are supported for a Product Al...   \n",
       "6       What is the technical name of this entity?\\n   \n",
       "7  What is the prefix used to enclose a UUID valu...   \n",
       "8  What are the supported operations for a produc...   \n",
       "\n",
       "                                              answer              source_doc  \n",
       "0                           A_ProdAllocationSequence  product-allocation.pdf  \n",
       "1                     API_PRODUCT_ALLOC_SEQUENCE_SRV  product-allocation.pdf  \n",
       "2                                September 23, 2024.  product-allocation.pdf  \n",
       "3                                         Mandatory.  product-allocation.pdf  \n",
       "4  The service enables reading of header data for...  product-allocation.pdf  \n",
       "5  Read the description of a specific product all...  product-allocation.pdf  \n",
       "6                              A_ProdAllocSqncAssgmt  product-allocation.pdf  \n",
       "7                                               guid  product-allocation.pdf  \n",
       "8  Read product-location assignments of a specifi...  product-allocation.pdf  "
      ]
     },
     "execution_count": 117,
     "metadata": {},
     "output_type": "execute_result"
    }
   ],
   "source": [
    "import pandas as pd\n",
    "\n",
    "qna_df = pd.DataFrame(outputs)\n",
    "qna_df"
   ]
  },
  {
   "cell_type": "code",
   "execution_count": 130,
   "id": "ab169c34-0ddb-4b5d-b3bb-6143bacca560",
   "metadata": {
    "scrolled": true
   },
   "outputs": [
    {
     "name": "stdout",
     "output_type": "stream",
     "text": [
      "0\n",
      "What is the technical name of a product allocation sequence?\n",
      "\n",
      "allocation sequence and a given product allocation sequence UUID.\n",
      "Related Events\n",
      "Product Allocation Sequence Events\n",
      "Additional Information\n",
      "Product Allocation Sequence\n",
      "Query String Options\n",
      "Each of the following service nodes allows standard OData query string parsing with system query options such as $orderby,\n",
      "$skip, $filter, $top, $select, $format, &expand and $inlinecount.\n",
      "Product Allocation Sequence\n",
      "Technical name: A_ProdAllocationSequence\n",
      "ANSWER:  A_ProdAllocationSequence\n",
      "\n",
      "\n",
      "1\n",
      "What is the technical name of the Product Allocation Sequence API?\n",
      "\n",
      "9/23/2024\n",
      "2 This is custom documentation. For more information, please visit the SAP Help PortalProduct Allocation Sequence\n",
      "Technical name: API_PRODUCT_ALLOC_SEQUENCE_SRV\n",
      "You can use Product Allocation (PAL) to determine the availability of requested products by checking against sales data as well\n",
      "as data for restricted resources consumed along the value chain of the requested product. Restricted resources and sales rules\n",
      "ANSWER:  API_PRODUCT_ALLOC_SEQUENCE_SRV\n",
      "\n",
      "\n",
      "2\n",
      "What is the date when this documentation was generated?\n",
      "\n",
      "9/23/2024\n",
      "1 This is custom documentation. For more information, please visit the SAP Help PortalAPIs for Availability Checks\n",
      "Generated on: 2024-09-23 07:39:39 GMT+0000\n",
      "SAP S/4HANA | 2023 Latest\n",
      "PUBLIC\n",
      "Original content: https://help.sap.com/docs/SAP_S4HANA_ON-PREMISE/15f9e51998a945cc82545cb6b4dbe5c2?locale=en-\n",
      "US&state=PRODUCTION&version=2023.001\n",
      "Warning\n",
      "This document has been generated from the SAP Help Portal and is an incomplete version of the oﬃcial SAP product\n",
      "ANSWER:  September 23, 2024.\n",
      "\n",
      "\n",
      "3\n",
      "What is the necessity of the \"Product Allocation Sequence\" entity?\n",
      "\n",
      "Accelerator Hub.\n",
      "Service Structure\n",
      "Entities\n",
      "The entities contain the service's business data.\n",
      "Entity Description Necessity Link to Details\n",
      "Product Allocation Sequence\n",
      "(A_ProdAllocationSequence)Selects existing data for a\n",
      "given product allocation\n",
      "sequenceMandatory Product Allocation Sequence\n",
      "Product Allocation Sequence\n",
      "Description\n",
      "(A_ProdAllocSequenceT)Selects existing descriptions\n",
      "for a given product allocation\n",
      "sequence in all available\n",
      "languagesOptional Product Allocation Sequence\n",
      "Description\n",
      "ANSWER:  Mandatory.\n",
      "\n",
      "\n",
      "4\n",
      "What is enabled by this service?\n",
      "\n",
      "a large volume of data to be maintained in the product allocation object and a high number of products/materials for\n",
      "assignment in the product allocation sequence to which the product allocation object is linked.\n",
      "This service enables you to read the header data for a speci\u0000c product allocation sequence (including its description) as well as\n",
      "any assigned product and product-location assignments. In addition, you can use the service to create new assignments or edit\n",
      "ANSWER:  The service enables reading of header data for a specific product allocation sequence and creation/editing of assignments.\n",
      "\n",
      "\n",
      "5\n",
      "What operations are supported for a Product Allocation Sequence?\n",
      "\n",
      "CRUD\n",
      "Create Read Update Delete\n",
      "X\n",
      "Properties\n",
      "Property Description Necessity\n",
      "Language Language key Optional\n",
      "ProductAllocationSequenceDesc Description for the product allocation\n",
      "sequence\n",
      "ProductAllocationSequenceUUID UUID for the selected product allocation\n",
      "sequence\n",
      "Supported Operations\n",
      "The following operations are supported (see also Operations for Product Allocation Sequence):\n",
      "Read the description of a speci\u0000c product allocation sequence\n",
      "Read all sequence descriptions\n",
      "ANSWER:  Read the description of a specific product allocation sequence and Read all sequence descriptions.\n",
      "\n",
      "\n",
      "6\n",
      "What is the technical name of this entity?\n",
      "\n",
      "Read the description of a speci\u0000c product allocation sequence\n",
      "Read all sequence descriptions\n",
      "Read the sequence description in a speci\u0000c language\n",
      "Read product-location assignments\n",
      "Read a speci\u0000c product allocation sequence in a speci\u0000c language\n",
      "Product Allocation Sequence Assignment\n",
      "Technical name: A_ProdAllocSqncAssgmt\n",
      "This entity enables you to read, update, and insert product-location assignments for a given product allocation sequence and a\n",
      "given product allocation sequence UUID. Note\n",
      "ANSWER:  A_ProdAllocSqncAssgmt\n",
      "\n",
      "\n",
      "7\n",
      "What is the prefix used to enclose a UUID value in a URL?\n",
      "\n",
      "POST <host>/sap/opu/odata/SAP/API_PRODUCT_ALLOC_SEQUENCE_SRV/A_ProdAllocationSequence\n",
      "PATCH <host>/sap/opu/odata/SAP/API_PRODUCT_ALLOC_SEQUENCE_SRV/A_ProdAllocSqncAssgmt(g\n",
      "POST <host>/sap/opu/odata/SAP/API_PRODUCT_ALLOC_SEQUENCE_SRV/DeleteSequenceAssignment\n",
      " Note\n",
      "When entering a URL containing a UUID, the UUID value needs to be enclosed in single quotes and pre\u0000xed with guid, for\n",
      "example:\n",
      "guid'<ProdAllocSequenceUUID>'\n",
      "ANSWER:  guid\n",
      "\n",
      "\n",
      "8\n",
      "What are the supported operations for a product allocation sequence?\n",
      "\n",
      "ValidityStartUTCDateTime Validity start time\n",
      "Supported Operations\n",
      "The following operations are supported (see also Operations for Product Allocation Sequence):\n",
      "Read product-location assignments of a speci\u0000c sequence\n",
      "Create Product-Location Assignment for a sequence\n",
      "Read all product-location assignments of all product allocation sequences Note\n",
      "To display more information about the properties on the SAP Business Accelerator Hub, open one of the entity's operations\n",
      "and select Model.\n",
      "ANSWER:  Read product-location assignments of a specific sequence, Create Product-Location Assignment for a sequence, and Read all product-location assignments of all product allocation sequences.\n",
      "\n",
      "\n"
     ]
    }
   ],
   "source": [
    "for i,row in qna_df.iterrows():\n",
    "    print(i)\n",
    "    print(row['question'])\n",
    "    print(row['context'])\n",
    "    print(\"ANSWER: \",row['answer'])\n",
    "    print()\n",
    "    print()"
   ]
  },
  {
   "cell_type": "markdown",
   "id": "a5b544b4-553a-42b7-956b-dafcd5fdd034",
   "metadata": {},
   "source": [
    "good q-a-c: \n",
    "bad q-a-c: 2,3,4,5,6\n",
    "* question should not be question referring to \"this\" since there is no conversation history in the evaluation of the goldend dataset"
   ]
  },
  {
   "cell_type": "markdown",
   "id": "d8d2ca2e-a952-4968-af0a-ec431eb0da57",
   "metadata": {},
   "source": [
    "try another 10"
   ]
  },
  {
   "cell_type": "markdown",
   "id": "2ef14091-f60b-4dc2-953d-70f73415bfc3",
   "metadata": {},
   "source": [
    "we can see that the questions are all What questions which are simple questions\n",
    "\n",
    "to do\n",
    "<!-- * validate: check if the qna generation is good -->\n",
    "* see if providing examples from the human dataset can improve the LLM generation\n",
    "    * providing in conversation history not necessary probably, just throw all examples in 1 long prompt"
   ]
  },
  {
   "cell_type": "code",
   "execution_count": 136,
   "id": "0cc529f3-31f4-4517-b671-dda3449d315a",
   "metadata": {
    "scrolled": true
   },
   "outputs": [
    {
     "name": "stdout",
     "output_type": "stream",
     "text": [
      "Generating 10 QA couples...\n"
     ]
    },
    {
     "name": "stderr",
     "output_type": "stream",
     "text": [
      "100%|██████████| 10/10 [00:15<00:00,  1.57s/it]\n"
     ]
    },
    {
     "data": {
      "text/html": [
       "<div>\n",
       "<style scoped>\n",
       "    .dataframe tbody tr th:only-of-type {\n",
       "        vertical-align: middle;\n",
       "    }\n",
       "\n",
       "    .dataframe tbody tr th {\n",
       "        vertical-align: top;\n",
       "    }\n",
       "\n",
       "    .dataframe thead th {\n",
       "        text-align: right;\n",
       "    }\n",
       "</style>\n",
       "<table border=\"1\" class=\"dataframe\">\n",
       "  <thead>\n",
       "    <tr style=\"text-align: right;\">\n",
       "      <th></th>\n",
       "      <th>context</th>\n",
       "      <th>question</th>\n",
       "      <th>answer</th>\n",
       "      <th>source_doc</th>\n",
       "    </tr>\n",
       "  </thead>\n",
       "  <tbody>\n",
       "    <tr>\n",
       "      <th>0</th>\n",
       "      <td>Product Allocation Sequence\\nTechnical name: A...</td>\n",
       "      <td>What is the technical name of the product allo...</td>\n",
       "      <td>A_ProdAllocationSequence</td>\n",
       "      <td>product-allocation.pdf</td>\n",
       "    </tr>\n",
       "    <tr>\n",
       "      <th>1</th>\n",
       "      <td>Read the description of a speci\u0000c product allo...</td>\n",
       "      <td>What is the technical name of this entity?\\n</td>\n",
       "      <td>A_ProdAllocSqncAssgmt</td>\n",
       "      <td>product-allocation.pdf</td>\n",
       "    </tr>\n",
       "    <tr>\n",
       "      <th>2</th>\n",
       "      <td>9/23/2024\\n2 This is custom documentation. For...</td>\n",
       "      <td>What is the technical name of the Product Allo...</td>\n",
       "      <td>API_PRODUCT_ALLOC_SEQUENCE_SRV</td>\n",
       "      <td>product-allocation.pdf</td>\n",
       "    </tr>\n",
       "    <tr>\n",
       "      <th>3</th>\n",
       "      <td>Mandatory for Update\\nProductAllocationSequenc...</td>\n",
       "      <td>What is the technical name for the product all...</td>\n",
       "      <td>ProductAllocationSequence</td>\n",
       "      <td>product-allocation.pdf</td>\n",
       "    </tr>\n",
       "    <tr>\n",
       "      <th>4</th>\n",
       "      <td>existing assignments for a product allocation ...</td>\n",
       "      <td>What external planning systems does the produc...</td>\n",
       "      <td>SAP Merchandise and Assortment Planning (AMR),...</td>\n",
       "      <td>product-allocation.pdf</td>\n",
       "    </tr>\n",
       "    <tr>\n",
       "      <th>5</th>\n",
       "      <td>product allocation consumption unit as well as...</td>\n",
       "      <td>What is the purpose of a product allocation co...</td>\n",
       "      <td>The product allocation consumption unit is use...</td>\n",
       "      <td>product-allocation.pdf</td>\n",
       "    </tr>\n",
       "    <tr>\n",
       "      <th>6</th>\n",
       "      <td>allocation sequence and a given product alloca...</td>\n",
       "      <td>What is the technical name of a product alloca...</td>\n",
       "      <td>A_ProdAllocationSequence</td>\n",
       "      <td>product-allocation.pdf</td>\n",
       "    </tr>\n",
       "    <tr>\n",
       "      <th>7</th>\n",
       "      <td>a large volume of data to be maintained in the...</td>\n",
       "      <td>What is enabled by this service?\\n</td>\n",
       "      <td>The service enables reading of header data for...</td>\n",
       "      <td>product-allocation.pdf</td>\n",
       "    </tr>\n",
       "    <tr>\n",
       "      <th>8</th>\n",
       "      <td>Product Allocation Sequence Description\\nTechn...</td>\n",
       "      <td>What is the technical name of this entity?\\n</td>\n",
       "      <td>A_ProdAllocSequenceT</td>\n",
       "      <td>product-allocation.pdf</td>\n",
       "    </tr>\n",
       "    <tr>\n",
       "      <th>9</th>\n",
       "      <td>9/23/2024\\n3 This is custom documentation. For...</td>\n",
       "      <td>What is the date mentioned in the context?\\n</td>\n",
       "      <td>9/23/2024</td>\n",
       "      <td>product-allocation.pdf</td>\n",
       "    </tr>\n",
       "  </tbody>\n",
       "</table>\n",
       "</div>"
      ],
      "text/plain": [
       "                                             context  \\\n",
       "0  Product Allocation Sequence\\nTechnical name: A...   \n",
       "1  Read the description of a speci\u0000c product allo...   \n",
       "2  9/23/2024\\n2 This is custom documentation. For...   \n",
       "3  Mandatory for Update\\nProductAllocationSequenc...   \n",
       "4  existing assignments for a product allocation ...   \n",
       "5  product allocation consumption unit as well as...   \n",
       "6  allocation sequence and a given product alloca...   \n",
       "7  a large volume of data to be maintained in the...   \n",
       "8  Product Allocation Sequence Description\\nTechn...   \n",
       "9  9/23/2024\\n3 This is custom documentation. For...   \n",
       "\n",
       "                                            question  \\\n",
       "0  What is the technical name of the product allo...   \n",
       "1       What is the technical name of this entity?\\n   \n",
       "2  What is the technical name of the Product Allo...   \n",
       "3  What is the technical name for the product all...   \n",
       "4  What external planning systems does the produc...   \n",
       "5  What is the purpose of a product allocation co...   \n",
       "6  What is the technical name of a product alloca...   \n",
       "7                 What is enabled by this service?\\n   \n",
       "8       What is the technical name of this entity?\\n   \n",
       "9       What is the date mentioned in the context?\\n   \n",
       "\n",
       "                                              answer              source_doc  \n",
       "0                           A_ProdAllocationSequence  product-allocation.pdf  \n",
       "1                              A_ProdAllocSqncAssgmt  product-allocation.pdf  \n",
       "2                     API_PRODUCT_ALLOC_SEQUENCE_SRV  product-allocation.pdf  \n",
       "3                          ProductAllocationSequence  product-allocation.pdf  \n",
       "4  SAP Merchandise and Assortment Planning (AMR),...  product-allocation.pdf  \n",
       "5  The product allocation consumption unit is use...  product-allocation.pdf  \n",
       "6                           A_ProdAllocationSequence  product-allocation.pdf  \n",
       "7  The service enables reading of header data for...  product-allocation.pdf  \n",
       "8                               A_ProdAllocSequenceT  product-allocation.pdf  \n",
       "9                                          9/23/2024  product-allocation.pdf  "
      ]
     },
     "execution_count": 136,
     "metadata": {},
     "output_type": "execute_result"
    }
   ],
   "source": [
    "import random\n",
    "\n",
    "N_GENERATIONS = 10  \n",
    "\n",
    "print(f\"Generating {N_GENERATIONS} QA couples...\")\n",
    "\n",
    "outputs = []\n",
    "for sampled_context in tqdm(random.sample(chunks, N_GENERATIONS)):\n",
    "\n",
    "    # get QA couple\n",
    "    qa_couple = get_generated_qa(generator_llm,QA_generation_prompt,sampled_context)\n",
    "\n",
    "    # condition check if answer is too long\n",
    "    # try:\n",
    "    question = qa_couple.content.split(\"Factoid question: \")[-1].split(\"Answer: \")[0]\n",
    "    answer = qa_couple.content.split(\"Answer: \")[-1]\n",
    "    assert len(answer) < 300, \"Answer is too long\"\n",
    "    outputs.append(\n",
    "        {\n",
    "            \"context\": sampled_context.page_content,\n",
    "            \"question\": question,\n",
    "            \"answer\": answer,\n",
    "            \"source_doc\": sampled_context.metadata[\"source\"],\n",
    "        }\n",
    "    )\n",
    "    # except:\n",
    "        # continue\n",
    "\n",
    "qna_df2 = pd.DataFrame(outputs)\n",
    "qna_df2"
   ]
  },
  {
   "cell_type": "code",
   "execution_count": 138,
   "id": "6a3f4432-dff2-4950-8928-f547c203c7a8",
   "metadata": {
    "scrolled": true
   },
   "outputs": [
    {
     "name": "stdout",
     "output_type": "stream",
     "text": [
      "0\n",
      "What is the technical name of the product allocation sequence entity?\n",
      "\n",
      "Product Allocation Sequence\n",
      "Technical name: A_ProdAllocationSequence\n",
      "This entity selects existing data for a given product allocation sequence.\n",
      "In addition to the name of the product allocation sequence, this service node selects information about the product allocation\n",
      "sequence UUID (which is required for the entity Product Allocation Sequence Assignment (A_ProdAllocSqncAssgmt)), the\n",
      "ANSWER:  A_ProdAllocationSequence\n",
      "\n",
      "\n",
      "1\n",
      "What is the technical name of this entity?\n",
      "\n",
      "Read the description of a speci\u0000c product allocation sequence\n",
      "Read all sequence descriptions\n",
      "Read the sequence description in a speci\u0000c language\n",
      "Read product-location assignments\n",
      "Read a speci\u0000c product allocation sequence in a speci\u0000c language\n",
      "Product Allocation Sequence Assignment\n",
      "Technical name: A_ProdAllocSqncAssgmt\n",
      "This entity enables you to read, update, and insert product-location assignments for a given product allocation sequence and a\n",
      "given product allocation sequence UUID. Note\n",
      "ANSWER:  A_ProdAllocSqncAssgmt\n",
      "\n",
      "\n",
      "2\n",
      "What is the technical name of the Product Allocation Sequence API?\n",
      "\n",
      "9/23/2024\n",
      "2 This is custom documentation. For more information, please visit the SAP Help PortalProduct Allocation Sequence\n",
      "Technical name: API_PRODUCT_ALLOC_SEQUENCE_SRV\n",
      "You can use Product Allocation (PAL) to determine the availability of requested products by checking against sales data as well\n",
      "as data for restricted resources consumed along the value chain of the requested product. Restricted resources and sales rules\n",
      "ANSWER:  API_PRODUCT_ALLOC_SEQUENCE_SRV\n",
      "\n",
      "\n",
      "3\n",
      "What is the technical name for the product allocation sequence?\n",
      "\n",
      "Mandatory for Update\n",
      "ProductAllocationSequence Technical name for the product allocation\n",
      "sequenceMandatory\n",
      "ProductAllocationSequenceUUID UUID for the selected product allocation\n",
      "sequence\n",
      "ValidityEndTimeZone Time zone for the validity end time\n",
      "ValidityEndUTCDateTime Validity end time\n",
      "ValidityStartTimeZone Time zone for the validity start time\n",
      "ValidityStartUTCDateTime Validity start time\n",
      "Supported Operations\n",
      "ANSWER:  ProductAllocationSequence\n",
      "\n",
      "\n",
      "4\n",
      "What external planning systems does the product allocation sequence from support?\n",
      "\n",
      "existing assignments for a product allocation sequence from external planning systems such as:\n",
      "SAP Merchandise and Assortment Planning (AMR)\n",
      "SAP Assortment Planning for Retail (APR)\n",
      "SAP Integrated Business Planning (IBP)\n",
      "Any other planning systems\n",
      "This service is published on the SAP Business Accelerator Hub. For more information about APIs, see APIs on SAP Business\n",
      "Accelerator Hub.\n",
      "Service Structure\n",
      "Entities\n",
      "The entities contain the service's business data.\n",
      "ANSWER:  SAP Merchandise and Assortment Planning (AMR), SAP Assortment Planning for Retail (APR), and SAP Integrated Business Planning (IBP).\n",
      "\n",
      "\n",
      "5\n",
      "What is the purpose of a product allocation consumption unit?\n",
      "\n",
      "product allocation consumption unit as well as when the corresponding product allocation sequence was created and changed.\n",
      "Normally, this entity is used to get the header data for exactly one product allocation sequence, including the description in the\n",
      "corresponding system language.\n",
      "CRUD\n",
      "Create Read Update Delete\n",
      "X Note\n",
      "For more information about the API, choose the API Reference tab or Schema View tab on the SAP Business Accelerator\n",
      "Hub.\n",
      "ANSWER:  The product allocation consumption unit is used to get the header data for exactly one product allocation sequence.\n",
      "\n",
      "\n",
      "6\n",
      "What is the technical name of a product allocation sequence?\n",
      "\n",
      "allocation sequence and a given product allocation sequence UUID.\n",
      "Related Events\n",
      "Product Allocation Sequence Events\n",
      "Additional Information\n",
      "Product Allocation Sequence\n",
      "Query String Options\n",
      "Each of the following service nodes allows standard OData query string parsing with system query options such as $orderby,\n",
      "$skip, $filter, $top, $select, $format, &expand and $inlinecount.\n",
      "Product Allocation Sequence\n",
      "Technical name: A_ProdAllocationSequence\n",
      "ANSWER:  A_ProdAllocationSequence\n",
      "\n",
      "\n",
      "7\n",
      "What is enabled by this service?\n",
      "\n",
      "a large volume of data to be maintained in the product allocation object and a high number of products/materials for\n",
      "assignment in the product allocation sequence to which the product allocation object is linked.\n",
      "This service enables you to read the header data for a speci\u0000c product allocation sequence (including its description) as well as\n",
      "any assigned product and product-location assignments. In addition, you can use the service to create new assignments or edit\n",
      "ANSWER:  The service enables reading of header data for a specific product allocation sequence and creation/editing of assignments.\n",
      "\n",
      "\n",
      "8\n",
      "What is the technical name of this entity?\n",
      "\n",
      "Product Allocation Sequence Description\n",
      "Technical name: A_ProdAllocSequenceT\n",
      "This entity selects the descriptions for a given product allocation sequence, in all required languages. Normally, it is used to get\n",
      "the descriptions for a single product allocation sequence in all required and available languages. For this reason, entity Product Note\n",
      "To display more information about the properties on the SAP Business Accelerator Hub, open one of the entity's operations\n",
      "and select Model.\n",
      "ANSWER:  A_ProdAllocSequenceT\n",
      "\n",
      "\n",
      "9\n",
      "What is the date mentioned in the context?\n",
      "\n",
      "9/23/2024\n",
      "3 This is custom documentation. For more information, please visit the SAP Help PortalEntity Description\n",
      "Product Allocation Sequence (A_ProdAllocationSequence) Returns the name and description of the product allocation\n",
      "sequence as well as information about the product allocation\n",
      "sequence UUID (which is required for the entity Product Allocation\n",
      "Sequence Assignment (A_ProdAllocSqncAssgmtType)), the\n",
      "product allocation consumption unit as well as when the\n",
      "ANSWER:  9/23/2024\n",
      "\n",
      "\n"
     ]
    }
   ],
   "source": [
    "for i,row in qna_df2.iterrows():\n",
    "    print(i)\n",
    "    print(row['question'])\n",
    "    print(row['context'])\n",
    "    print(\"ANSWER: \",row['answer'])\n",
    "    print()\n",
    "    print()"
   ]
  },
  {
   "cell_type": "markdown",
   "id": "02bc01a6-f841-4d40-8cba-cc029f7552d4",
   "metadata": {},
   "source": [
    "Note to edit the prompt: need to ensure \n",
    "* LLM doesnt only generate what questions\n",
    "* LLM doesnt use this in the questions\n",
    "* LLM learns from examples\n",
    "* LLM doesnt generate the same questions -> keep a list of questions, then use something like a BERT to check similarity of the 2 questions, reject if score>similarity_threshold"
   ]
  },
  {
   "cell_type": "code",
   "execution_count": 142,
   "id": "299978b1-4ed3-4fc0-9c53-cf4d88e4643c",
   "metadata": {},
   "outputs": [],
   "source": [
    "QA_generation_prompt = \"\"\"\n",
    "Your task is to write a factoid question and an answer given a context.\n",
    "Your factoid question should be answerable with a specific, concise piece of factual information from the context.\n",
    "Your factoid question should be formulated in the same style as questions users could ask in a search engine.\n",
    "This means that your factoid question MUST NOT mention something like \"according to the passage\" or \"context\".\n",
    "Keep your answer under 300 words.\n",
    "Provide your answer as follows:\n",
    "\n",
    "Output:::\n",
    "Factoid question: (your factoid question)\n",
    "Answer: (your answer to the factoid question)\n",
    "\n",
    "Now here is the context.\n",
    "\n",
    "Context: {context}\\n\n",
    "Output:::\"\"\""
   ]
  },
  {
   "cell_type": "code",
   "execution_count": 162,
   "id": "d74891ad-ecfa-4280-9287-d7b6f436432f",
   "metadata": {},
   "outputs": [],
   "source": [
    "QA_generation_prompt2 = \"\"\"\n",
    "Your task is to write a question and an answer given a context.\n",
    "Your question should be answerable with a specific, concise piece of factual information from the context.\n",
    "Your question should be formulated in the same style as questions users could ask in a search engine.\n",
    "\n",
    "Rules to follow when formulating the question and answer:\n",
    "1. Ensure that the question can be answered entirely from the information present in the contexts.\n",
    "2. Do not frame questions that contains more than 20 words. Use abbreviation wherever possible.\n",
    "3. Make sure the question is clear and unambiguous.\n",
    "4. Do not use phrases like 'based on the provided context','according to the context',etc.\n",
    "5. Keep your answer under 300 words.\n",
    "\n",
    "Output:::\n",
    "Question: (your question)\n",
    "Answer: (your answer to the question)\n",
    "\n",
    "Now here is the context.\n",
    "\n",
    "Context: {context}\\n\n",
    "Output:::\"\"\"\n",
    "#     instruction=\"\"\"\"\"\",\n",
    "#     examples=[\n",
    "#         {\n",
    "#             \"question\": \"What is the capital of France?\",\n",
    "#             \"context\": \"France is a country in Western Europe. It has several cities, including Paris, Lyon, and Marseille. Paris is not only known for its cultural landmarks like the Eiffel Tower and the Louvre Museum but also as the administrative center.\",\n",
    "#             \"output\": \"Linking the Eiffel Tower and administrative center, which city stands as both?\",\n",
    "#         },\n",
    "#         {\n",
    "#             \"question\": \"What does the append() method do in Python?\",\n",
    "#             \"context\": \"In Python, lists are used to store multiple items in a single variable. Lists are one of 4 built-in data types used to store collections of data. The append() method adds a single item to the end of a list.\",\n",
    "#             \"output\": \"If a list represents a variable collection, what method extends it by one item?\",\n",
    "#         },\n",
    "#     ],\n",
    "#     input_keys=[\"question\", \"context\"],\n",
    "#     output_key=\"output\",\n",
    "#     output_type=\"str\",\n",
    "#     language=\"english\",\n",
    "# )\n",
    "# # Complicate the given question by rewriting question into a multi-hop reasoning question based on the provided context.\n",
    "# # Answering the question should require the reader to make multiple logical connections or inferences using the information available in given context."
   ]
  },
  {
   "cell_type": "code",
   "execution_count": 164,
   "id": "3a713a08-3c3f-419c-aa45-90c8f2f14691",
   "metadata": {
    "scrolled": true
   },
   "outputs": [
    {
     "name": "stdout",
     "output_type": "stream",
     "text": [
      "Generating 10 QA couples...\n"
     ]
    },
    {
     "name": "stderr",
     "output_type": "stream",
     "text": [
      "100%|██████████| 10/10 [00:19<00:00,  1.99s/it]"
     ]
    },
    {
     "name": "stdout",
     "output_type": "stream",
     "text": [
      "0\n",
      "What is the possible way to delete product-location assignments for a product allocation sequence?\n",
      "\n",
      "\n",
      "given product allocation sequence UUID. Note\n",
      "To display more information about the properties on the SAP Business Accelerator Hub, open one of the entity's operations\n",
      "and select Model.\n",
      " Note\n",
      "Deletion of product-location assignments for a product allocation sequence and a product allocation sequence UUID is only\n",
      "possible via service action DeleteSequenceAssignment. For more information, see Delete Product-Location Assignment.\n",
      "ANSWER:  Via service action DeleteSequenceAssignment.\n",
      "\n",
      "\n",
      "1\n",
      "What is the purpose of the product allocation sequence in this context?\n",
      "\n",
      "\n",
      "a large volume of data to be maintained in the product allocation object and a high number of products/materials for\n",
      "assignment in the product allocation sequence to which the product allocation object is linked.\n",
      "This service enables you to read the header data for a speci\u0000c product allocation sequence (including its description) as well as\n",
      "any assigned product and product-location assignments. In addition, you can use the service to create new assignments or edit\n",
      "ANSWER:  To enable assignment of a high number of products/materials.\n",
      "\n",
      "\n",
      "2\n",
      "What is the technical name of the Product Allocation Sequence entity?\n",
      "\n",
      "\n",
      "Product Allocation Sequence\n",
      "Technical name: A_ProdAllocationSequence\n",
      "This entity selects existing data for a given product allocation sequence.\n",
      "In addition to the name of the product allocation sequence, this service node selects information about the product allocation\n",
      "sequence UUID (which is required for the entity Product Allocation Sequence Assignment (A_ProdAllocSqncAssgmt)), the\n",
      "ANSWER:  A_ProdAllocationSequence\n",
      "\n",
      "\n",
      "3\n",
      "What is the URL for more information about disclaimer in SAP Help Portal?\n",
      "\n",
      "\n",
      "documentation. The information included in custom documentation may not re\u0000ect the arrangement of topics in the SAP Help\n",
      "Portal, and may be missing important aspects and/or correlations to other topics. For this reason, it is not for productive use.\n",
      "For more information, please visit the https://help.sap.com/docs/disclaimer.\n",
      "ANSWER:  https://help.sap.com/docs/disclaimer\n",
      "\n",
      "\n",
      "4\n",
      "Here is the factoid question and answer based on the provided context:\n",
      "\n",
      "**Factoid Question:** What is the technical name for the product allocation sequence?\n",
      "\n",
      "**Answer:** ProductAllocationSequence\n",
      "Mandatory for Update\n",
      "ProductAllocationSequence Technical name for the product allocation\n",
      "sequenceMandatory\n",
      "ProductAllocationSequenceUUID UUID for the selected product allocation\n",
      "sequence\n",
      "ValidityEndTimeZone Time zone for the validity end time\n",
      "ValidityEndUTCDateTime Validity end time\n",
      "ValidityStartTimeZone Time zone for the validity start time\n",
      "ValidityStartUTCDateTime Validity start time\n",
      "Supported Operations\n",
      "ANSWER:  Here is the factoid question and answer based on the provided context:\n",
      "\n",
      "**Factoid Question:** What is the technical name for the product allocation sequence?\n",
      "\n",
      "**Answer:** ProductAllocationSequence\n",
      "\n",
      "\n",
      "5\n",
      "What operations are supported by Product Allocation Sequence?\n",
      "\n",
      "sequence\n",
      "Supported Operations\n",
      "The following operations are supported (see also Operations for Product Allocation Sequence):\n",
      "Read all product allocation sequences\n",
      "Read a speci\u0000c product allocation sequence\n",
      "Read the product allocation sequence description\n",
      "Read product-location assignments\n",
      "Create Product-Location Assignment\n",
      "Read a product allocation sequence in a speci\u0000c language\n",
      "Read the product allocation sequence of a speci\u0000c product-location assignment\n",
      "Product Allocation Sequence Description\n",
      "ANSWER:  Read all product allocation sequences, Read a specific product allocation sequence, Read the product allocation sequence description, Read product-location assignments, Create Product-Location Assignment, Read a product allocation sequence in a specific language, Read the product allocation sequence of a specific product-location assignment.\n",
      "\n",
      "\n",
      "6\n",
      "What is the date when this documentation was generated?\n",
      "\n",
      "9/23/2024\n",
      "1 This is custom documentation. For more information, please visit the SAP Help PortalAPIs for Availability Checks\n",
      "Generated on: 2024-09-23 07:39:39 GMT+0000\n",
      "SAP S/4HANA | 2023 Latest\n",
      "PUBLIC\n",
      "Original content: https://help.sap.com/docs/SAP_S4HANA_ON-PREMISE/15f9e51998a945cc82545cb6b4dbe5c2?locale=en-\n",
      "US&state=PRODUCTION&version=2023.001\n",
      "Warning\n",
      "This document has been generated from the SAP Help Portal and is an incomplete version of the oﬃcial SAP product\n",
      "ANSWER:  9/23/2024\n",
      "\n",
      "\n",
      "7\n",
      "What is the value of the 'metadata' key in the given context?\n",
      "\n",
      "\n",
      "POST <host>/sap/opu/odata/SAP/API_PRODUCT_ALLOC_SEQUENCE_SRV/A_ProdAllocationSequence\n",
      "PATCH <host>/sap/opu/odata/SAP/API_PRODUCT_ALLOC_SEQUENCE_SRV/A_ProdAllocSqncAssgmt(g\n",
      "POST <host>/sap/opu/odata/SAP/API_PRODUCT_ALLOC_SEQUENCE_SRV/DeleteSequenceAssignment\n",
      " Note\n",
      "When entering a URL containing a UUID, the UUID value needs to be enclosed in single quotes and pre\u0000xed with guid, for\n",
      "example:\n",
      "guid'<ProdAllocSequenceUUID>'\n",
      "ANSWER:  metadata={'source': 'product-allocation.pdf', 'page': 6, 'start_index': 1064}\n",
      "\n",
      "\n",
      "8\n",
      "What is the date mentioned in the context?\n",
      "\n",
      "\n",
      "9/23/2024\n",
      "7 This is custom documentation. For more information, please visit the SAP Help PortalRead a speci\u0000c product-location assignment of a speci\u0000c sequence\n",
      "Update Product-Location Assignment\n",
      "Reads the product allocation sequence of a speci\u0000c product-location assignment.\n",
      "Delete Product-Location Assignment\n",
      "Related Information\n",
      "Create Product-Location Assignment\n",
      "Update Product-Location Assignment\n",
      "Operations for Product Allocation Sequence\n",
      "ANSWER:  9/23/2024\n",
      "\n",
      "\n",
      "9\n",
      "Here is the factoid question and answer based on the provided context:\n",
      "\n",
      "**Factoid Question:** What are the supported operations for a Product Allocation Sequence?\n",
      "\n",
      "**Answer:** Read the description of a specific product allocation sequence and Read all sequence descriptions.\n",
      "CRUD\n",
      "Create Read Update Delete\n",
      "X\n",
      "Properties\n",
      "Property Description Necessity\n",
      "Language Language key Optional\n",
      "ProductAllocationSequenceDesc Description for the product allocation\n",
      "sequence\n",
      "ProductAllocationSequenceUUID UUID for the selected product allocation\n",
      "sequence\n",
      "Supported Operations\n",
      "The following operations are supported (see also Operations for Product Allocation Sequence):\n",
      "Read the description of a speci\u0000c product allocation sequence\n",
      "Read all sequence descriptions\n",
      "ANSWER:  Here is the factoid question and answer based on the provided context:\n",
      "\n",
      "**Factoid Question:** What are the supported operations for a Product Allocation Sequence?\n",
      "\n",
      "**Answer:** Read the description of a specific product allocation sequence and Read all sequence descriptions.\n",
      "\n",
      "\n"
     ]
    },
    {
     "name": "stderr",
     "output_type": "stream",
     "text": [
      "\n"
     ]
    }
   ],
   "source": [
    "import random\n",
    "\n",
    "N_GENERATIONS = 10  \n",
    "\n",
    "print(f\"Generating {N_GENERATIONS} QA couples...\")\n",
    "\n",
    "outputs = []\n",
    "for sampled_context in tqdm(random.sample(chunks, N_GENERATIONS)):\n",
    "\n",
    "    # get QA couple\n",
    "    qa_couple = get_generated_qa(generator_llm,QA_generation_prompt2,sampled_context)\n",
    "\n",
    "    # condition check if answer is too long\n",
    "    # try:\n",
    "    question = qa_couple.content.split(\"Factoid question: \")[-1].split(\"Answer: \")[0]\n",
    "    answer = qa_couple.content.split(\"Answer: \")[-1]\n",
    "    # assert len(answer) < 300, \"Answer is too long\"\n",
    "    outputs.append(\n",
    "        {\n",
    "            \"context\": sampled_context.page_content,\n",
    "            \"question\": question,\n",
    "            \"answer\": answer,\n",
    "            \"source_doc\": sampled_context.metadata[\"source\"],\n",
    "        }\n",
    "    )\n",
    "    # except:\n",
    "        # continue\n",
    "\n",
    "qna_df = pd.DataFrame(outputs)\n",
    "\n",
    "for i,row in qna_df.iterrows():\n",
    "    print(i)\n",
    "    print(row['question'])\n",
    "    print(row['context'])\n",
    "    print(\"ANSWER: \",row['answer'])\n",
    "    print()\n",
    "    print()"
   ]
  },
  {
   "cell_type": "code",
   "execution_count": 235,
   "id": "49285644-bba4-40cb-a93e-83e95d74c64b",
   "metadata": {},
   "outputs": [],
   "source": [
    "QA_generation_prompt = \"\"\"\n",
    "Your task is to write a question and an answer given a context.\n",
    "Your question should be answerable with a specific, concise piece of factual information from the context.\n",
    "Your question should be formulated in the same style as questions users could ask in a search engine.\n",
    "Your question can be closed, open, divergent, evaluation, inference, comparison, application or problem-solving question types.\n",
    "\n",
    "Rules to follow when formulating the question and answer:\n",
    "1. Ensure that the question can be answered entirely from the information present in the contexts.\n",
    "2. Do not frame questions that contains more than 20 words. Use abbreviation wherever possible.\n",
    "3. Make sure the question is clear and unambiguous.\n",
    "\n",
    "4. **Strictly avoid** phrases like 'based on the provided context', 'according to the context', 'in the context', or 'in the given context'. **These phrases must not be used under any circumstances.**\n",
    "5. Keep your answer under 300 words.\n",
    "6. Do not use 'this' in the question as the question must be standalone and 'this' would be ambiguous.\n",
    "\n",
    "Output:::\n",
    "Question: (your question)\n",
    "Answer: (your answer to the question)\n",
    "\n",
    "Now here is the context.\n",
    "Context: {context}\\n\n",
    "Output:::\"\"\"\n",
    "\n",
    "# 4. Do not use phrases like 'based on the provided context','according to the context','in the context','in the given context' due to ambiguity."
   ]
  },
  {
   "cell_type": "code",
   "execution_count": 237,
   "id": "8dfea9ba-85e1-474d-8829-992aed5f30fb",
   "metadata": {
    "scrolled": true
   },
   "outputs": [
    {
     "name": "stdout",
     "output_type": "stream",
     "text": [
      "Generating 10 QA couples...\n"
     ]
    },
    {
     "name": "stderr",
     "output_type": "stream",
     "text": [
      " 10%|█         | 1/10 [00:02<00:23,  2.62s/it]"
     ]
    },
    {
     "name": "stdout",
     "output_type": "stream",
     "text": [
      "QUESTION:  What are the supported operations for Product Allocation Sequence?\n",
      "\n",
      "ANSWER:  Read product-location assignments of a specific sequence, Create Product-Location Assignment for a sequence, and Read all product-location assignments of all product allocation sequences.\n"
     ]
    },
    {
     "name": "stderr",
     "output_type": "stream",
     "text": [
      " 20%|██        | 2/10 [00:04<00:16,  2.11s/it]"
     ]
    },
    {
     "name": "stdout",
     "output_type": "stream",
     "text": [
      "QUESTION:  What is the technical name of the entity that enables reading, updating, and inserting product-location assignments?\n",
      "\n",
      "\n",
      "ANSWER:  A_ProdAllocSqncAssgmt.\n"
     ]
    },
    {
     "name": "stderr",
     "output_type": "stream",
     "text": [
      " 30%|███       | 3/10 [00:05<00:11,  1.65s/it]"
     ]
    },
    {
     "name": "stdout",
     "output_type": "stream",
     "text": [
      "QUESTION:  What is the technical name for the product allocation sequence?\n",
      "\n",
      "ANSWER:  ProductAllocationSequence\n"
     ]
    },
    {
     "name": "stderr",
     "output_type": "stream",
     "text": [
      " 40%|████      | 4/10 [00:07<00:09,  1.61s/it]"
     ]
    },
    {
     "name": "stdout",
     "output_type": "stream",
     "text": [
      "QUESTION:  What are the supported operations for a Product Allocation Sequence?\n",
      "\n",
      "ANSWER:  Read the description of a specific product allocation sequence and Read all sequence descriptions.\n"
     ]
    },
    {
     "name": "stderr",
     "output_type": "stream",
     "text": [
      " 50%|█████     | 5/10 [00:08<00:07,  1.46s/it]"
     ]
    },
    {
     "name": "stdout",
     "output_type": "stream",
     "text": [
      "QUESTION:  What is the date mentioned in the context?\n",
      "\n",
      "ANSWER:  9/23/2024\n"
     ]
    },
    {
     "name": "stderr",
     "output_type": "stream",
     "text": [
      " 60%|██████    | 6/10 [00:09<00:05,  1.36s/it]"
     ]
    },
    {
     "name": "stdout",
     "output_type": "stream",
     "text": [
      "QUESTION:  What is the date mentioned in the context?\n",
      "\n",
      "ANSWER:  9/23/2024\n"
     ]
    },
    {
     "name": "stderr",
     "output_type": "stream",
     "text": [
      " 70%|███████   | 7/10 [00:10<00:03,  1.29s/it]"
     ]
    },
    {
     "name": "stdout",
     "output_type": "stream",
     "text": [
      "QUESTION:  What is the HTTP method for the Update Product-Location Assignment operation?\n",
      "\n",
      "ANSWER:  PATCH\n"
     ]
    },
    {
     "name": "stderr",
     "output_type": "stream",
     "text": [
      " 80%|████████  | 8/10 [00:11<00:02,  1.24s/it]"
     ]
    },
    {
     "name": "stdout",
     "output_type": "stream",
     "text": [
      "QUESTION:  What is the purpose of ETags in header entity type?\n",
      "\n",
      "\n",
      "ANSWER:  Change operations.\n"
     ]
    },
    {
     "name": "stderr",
     "output_type": "stream",
     "text": [
      " 90%|█████████ | 9/10 [00:12<00:01,  1.21s/it]"
     ]
    },
    {
     "name": "stdout",
     "output_type": "stream",
     "text": [
      "QUESTION:  What is the necessity of the \"Product Allocation Sequence\" entity?\n",
      "\n",
      "ANSWER:  Mandatory.\n"
     ]
    },
    {
     "name": "stderr",
     "output_type": "stream",
     "text": [
      "100%|██████████| 10/10 [00:15<00:00,  1.53s/it]"
     ]
    },
    {
     "name": "stdout",
     "output_type": "stream",
     "text": [
      "QUESTION:  What is the URL endpoint for deleting a sequence assignment in the API PRODUCT_ALLOC_SEQUENCE_SRV?\n",
      "\n",
      "\n",
      "ANSWER:  <host>/sap/opu/odata/SAP/API_PRODUCT_ALLOC_SEQUENCE_SRV/DeleteSequenceAssignment\n"
     ]
    },
    {
     "name": "stderr",
     "output_type": "stream",
     "text": [
      "\n"
     ]
    }
   ],
   "source": [
    "import random\n",
    "\n",
    "N_GENERATIONS = 10\n",
    "\n",
    "print(f\"Generating {N_GENERATIONS} QA couples...\")\n",
    "\n",
    "outputs = []\n",
    "for sampled_context in tqdm(random.sample(chunks, N_GENERATIONS)):\n",
    "\n",
    "    # get QA couple\n",
    "    qa_couple = get_generated_qa(generator_llm,QA_generation_prompt,sampled_context)\n",
    "\n",
    "    # condition check if answer is too long\n",
    "    # try:\n",
    "    question = qa_couple.content.split(\"Question: \")[-1].split(\"Answer: \")[0]\n",
    "    answer = qa_couple.content.split(\"Answer: \")[-1]\n",
    "    # assert len(answer) < 300, \"Answer is too long\"\n",
    "    outputs.append(\n",
    "        {\n",
    "            \"context\": sampled_context.page_content,\n",
    "            \"question\": question,\n",
    "            \"answer\": answer,\n",
    "            \"source_doc\": sampled_context.metadata[\"source\"],\n",
    "        }\n",
    "    )\n",
    "    # except:\n",
    "        # continue\n",
    "    print(\"QUESTION: \", question)\n",
    "    print(\"ANSWER: \", answer)\n",
    "\n",
    "qna_df = pd.DataFrame(outputs)"
   ]
  },
  {
   "cell_type": "markdown",
   "id": "dcb91e91-e515-4aba-8fdd-67f81ee49ed8",
   "metadata": {},
   "source": [
    "LLM still using 'in the context' despite emphasising in the prompt\n",
    "- can settle this in the post processing step\n",
    "- store list of questions to check if questions with these keywords are present, and if semantically similar questions are generated\n",
    "- use while loop to get N instead of just for _ in range(N)"
   ]
  },
  {
   "cell_type": "code",
   "execution_count": 245,
   "id": "a652f418-2645-4766-a367-6d60d1d5d6da",
   "metadata": {},
   "outputs": [],
   "source": [
    "QA_generation_prompt = \"\"\"\n",
    "Your task is to write a question and an answer given a context.\n",
    "Your question should be answerable with a specific, concise piece of factual information from the context.\n",
    "Your question should be formulated in the same style as questions users could ask in a search engine.\n",
    "Your question can be closed, open, divergent, evaluation, inference, comparison, application or problem-solving question types.\n",
    "Refer to some examples here:\n",
    "\n",
    "### Example 1:\n",
    "Context: Being able to deliver the required quantity of a material to the customer at the requested time demands precise planning and control mechanisms. Unpredictable problems, such as breakdowns in production or increased demand, can lead to critical situations in order processing and must be avoided wherever possible. In advanced Available-to-Promise (aATP) in SAP S/4HANA, you can use Product Allocation (PAL) to avoid critical situations in demand and procurement by allocating materials in short supply to, for example, specific regions and customers for a specific time period. This can help avoid the situation whereby, for example, the entire available quantity of a material in short supply is allocated to a single customer, thereby making it impossible for you to confirm subsequent order requirements for the same material from other customers.\\n\\n\\n\\n\\n\\n Features \\n\\naATP in SAP S/4HANA supports the following key features for setting up, configuring and monitoring availability checks against product allocation for the business document types sales document and stock transport order:\\n\\n\\n\\n Key Feature SAP Fiori App See Also \\n\\n <br><br> * Create and edit product allocation objects.<br> * Define the period types for product allocation objects.<br> * Define and order the characteristics for product allocation objects.<br> * Deactivate and delete product allocation objects and their characteristics.<br><br><br> Configure Product Allocation Configuring and Executing a Check Against Product Allocation \\n <br><br> * Maintain characteristic value combinations and planned allocation quantities for their time periods.<br> * Use spreadsheets (in .xlsx format) or comma separated values files (in .csv format) to maintain characteristic value combinations and their time series.<br> * Reuse assignments and quantities from deleted/deactivated characteristic value combinations to those active characteristic value combinations that are using collectives.<br> * Change the activation and constraint status of product allocation objects.<br> * Display the availability situation (planned, available and consumed quantity) for the materials in product allocation objects.<br> * Release product allocation objects and their planning data for productive usage.<br><br><br> Manage Product Allocation Planning Data Configuring and Executing a Check Against Product Allocation \\n <br><br> * Create, display and edit product allocation sequences.<br>\n",
    "Output::\n",
    "Question: What does product allocation mean?\n",
    "Answer: Product Allocation (PAL) in advanced Available-to-Promise (aATP) is a mechanism in SAP S/4HANA that helps avoid critical situations in demand and procurement. It allows the allocation of materials in short supply to specific regions and customers for a specific time period. This ensures that the entire available quantity of a material is not allocated to a single customer, enabling subsequent order requirements from other customers to be confirmed. PAL helps in precise planning and control of material delivery to meet customer demands.\n",
    "\n",
    "### Example 2:\n",
    "Context: App ID: F3829\\n\\nCharacteristic catalogs contain attributes that can be used as characteristics, for example, when you run availability checks for sales documents and stock transport orders. With this app, you can adapt characteristic catalogs to suit your business needs, for example, when you check availability against product allocation, execute backorder processing, use an alternative plant to confirm a requirement or protect quantities to prioritize demand. You can use this app if the business role Order Fulfillment Manager (R0226) is assigned to your user.\\n\\n\\n\\n Prerequisites \\n\\nTo be able to see the list of available catalogs in the Manage Characteristic Catalogs app, you need to set the catalog use types in the authorization object M_CAT_UTYP. In the Characteristic Catalog Use Type field, enter your catalog use types (for example, 01, 02 or * for all catalog use types).\\n\\n\\n\\n\\n\\n Key Features \\n\\nDepending on the selected catalog, you can use this app to:\\n\\n\\n\\n\\n\\n* Add characteristics as standard or custom fields to a characteristic catalog.\\n* Define characteristic value groups.\\n* Connect characteristics from multiple characteristic catalogs.\\n* Rename standard characteristics.\\n* Enable value existence check type for characteristics.\\n* Define authorizations for characteristic values and groups of characteristic values.\\n* Add classification characteristics from Variant Configuration\\n\\n\\n\\n\\n\\n Supported Device Types \\n\\n\\n\\n* Desktop\\n* Tablet\\n\\n\\n\\n\\n\\nRelated InformationUsing the Manage Characteristic Catalogs App for aATPProduct Allocation (CA-ATP-PAL)Backorder Processing (CA-ATP-BOP)Supply Protection (CA-ATP-SUP)Alternative-Based Confirmation (CA-ATP-ABC)\n",
    "Output::\n",
    "Question: How can I access the characteristic catalog?\n",
    "Answer: To access the characteristic catalog, you can use the \"Manage Characteristic Catalogs\" app . This app allows you to adapt characteristic catalogs to suit your business needs, add characteristics, define characteristic value groups, and connect characteristics from multiple catalogs . Please note that you need to have the \"Order Fulfillment Manager\" role assigned to your user to access this app.\n",
    "\n",
    "### Example 3:\n",
    "Context: Availability Change Log (ACL) must be activated before the changes are captured. You can activate ACL in Customizing of aATP at !Start of the navigation path Cross-Application Components !Next navigation step Advanced Available-to-Promise (aATP) !Next navigation step Availability Change Log !Next navigation step Activate Availability Change Log![End of the navigation path](URL\\n\\n\\n\\n* After ACL is configured, changes impacting the availability situation are captured for all supported documents.\\n* A material-plant combination can be excluded from ACL capture by navigating to the Change View \\\"Availability Change Log scope based on Checking Group\\\": Overview screen. Add the desired checking group and select the Deactivate Logging flag.\n",
    "Output::\n",
    "Question: How do I configure the availability change log? \n",
    "Answer: To configure the availability change log, you need to activate it in Customizing of aATP at the start of the navigation path Cross-Application Components, then navigate to Advanced Available-to-Promise (aATP), Availability Change Log, and activate the availability change log.\n",
    "\n",
    "Rules to follow when formulating the question and answer:\n",
    "1. Ensure that the question can be answered entirely from the information present in the contexts.\n",
    "2. Do not frame questions that contains more than 20 words. Use abbreviation wherever possible.\n",
    "3. Make sure the question is clear and unambiguous.\n",
    "4. **Strictly avoid** phrases like 'based on the provided context', 'according to the context', 'in the context', or 'in the given context'. **These phrases must not be used under any circumstances.**\n",
    "5. Do not use 'this' in the question as the question must be standalone and 'this' would be ambiguous.\n",
    "6. Keep your answer under 300 words.\n",
    "\n",
    "This is the output format:\n",
    "Output::\n",
    "Question: (your question)\n",
    "Answer: (your answer to the question)\n",
    "\n",
    "Now here is the context.\n",
    "Context: {context}\\n\n",
    "Output::\"\"\"\n",
    "\n",
    "# 4. Do not use phrases like 'based on the provided context','according to the context','in the context','in the given context' due to ambiguity."
   ]
  },
  {
   "cell_type": "code",
   "execution_count": null,
   "id": "a22eb66d-b172-4e65-b30f-9c14b1ee0e1e",
   "metadata": {},
   "outputs": [],
   "source": []
  },
  {
   "cell_type": "code",
   "execution_count": 243,
   "id": "38178cd2-8294-411b-bc81-78f40ee8bc29",
   "metadata": {
    "scrolled": true
   },
   "outputs": [
    {
     "name": "stdout",
     "output_type": "stream",
     "text": [
      "Generating 10 QA couples...\n"
     ]
    },
    {
     "name": "stderr",
     "output_type": "stream",
     "text": [
      " 10%|█         | 1/10 [00:07<01:07,  7.53s/it]"
     ]
    },
    {
     "name": "stdout",
     "output_type": "stream",
     "text": [
      "QUESTION:  What is used for optimistic concurrency control in the service?\n",
      "\n",
      "ANSWER:  Entity tags (ETags) are used for optimistic concurrency control.\n"
     ]
    },
    {
     "name": "stderr",
     "output_type": "stream",
     "text": [
      " 20%|██        | 2/10 [00:09<00:34,  4.29s/it]"
     ]
    },
    {
     "name": "stdout",
     "output_type": "stream",
     "text": [
      "QUESTION:  What is the necessity of the ProdAllocSqncAssignmentUUID property?\n",
      "\n",
      "ANSWER:  The ProdAllocSqncAssignmentUUID property is Optional for Insert and Mandatory for Update.\n"
     ]
    },
    {
     "name": "stderr",
     "output_type": "stream",
     "text": [
      " 30%|███       | 3/10 [00:11<00:22,  3.15s/it]"
     ]
    },
    {
     "name": "stdout",
     "output_type": "stream",
     "text": [
      "QUESTION:  What are referred to as packages of supply in the context of product allocation?\n",
      "\n",
      "ANSWER:  These packages of supply are referred to as product allocations.\n"
     ]
    },
    {
     "name": "stderr",
     "output_type": "stream",
     "text": [
      " 40%|████      | 4/10 [00:14<00:19,  3.17s/it]"
     ]
    },
    {
     "name": "stdout",
     "output_type": "stream",
     "text": [
      "QUESTION:  What does the Assignment (A_ProdAllocSqncAssgmt) read, update, and insert in the product-location assignments?\n",
      "\n",
      "ANSWER:  The Assignment (A_ProdAllocSqncAssgmt) reads, updates, and inserts product-location assignments for a given product allocation sequence and a given product.\n"
     ]
    },
    {
     "name": "stderr",
     "output_type": "stream",
     "text": [
      " 50%|█████     | 5/10 [00:17<00:14,  2.95s/it]"
     ]
    },
    {
     "name": "stdout",
     "output_type": "stream",
     "text": [
      "QUESTION:  What is the URL for deleting a sequence assignment in product allocation?\n",
      "\n",
      "ANSWER:  The URL for deleting a sequence assignment is POST <host>/sap/opu/odata/SAP/API_PRODUCT_ALLOC_SEQUENCE_SRV/DeleteSequenceAssignment.\n"
     ]
    },
    {
     "name": "stderr",
     "output_type": "stream",
     "text": [
      " 60%|██████    | 6/10 [00:20<00:11,  2.99s/it]"
     ]
    },
    {
     "name": "stdout",
     "output_type": "stream",
     "text": [
      "QUESTION:  What does product allocation sequence return in SAP?\n",
      "\n",
      "ANSWER:  Product Allocation Sequence (A_ProdAllocationSequence) returns the name and description of the product allocation sequence as well as information about the product allocation sequence UUID, the product allocation consumption unit, and when the product allocation sequence was created.\n"
     ]
    },
    {
     "name": "stderr",
     "output_type": "stream",
     "text": [
      " 70%|███████   | 7/10 [00:21<00:07,  2.57s/it]"
     ]
    },
    {
     "name": "stdout",
     "output_type": "stream",
     "text": [
      "QUESTION:  What is the technical name for the product allocation sequence?\n",
      "\n",
      "ANSWER:  The technical name for the product allocation sequence is ProductAllocationSequence.\n"
     ]
    },
    {
     "name": "stderr",
     "output_type": "stream",
     "text": [
      " 80%|████████  | 8/10 [00:25<00:05,  2.85s/it]"
     ]
    },
    {
     "name": "stdout",
     "output_type": "stream",
     "text": [
      "QUESTION:  What are existing assignments for a product allocation sequence from external planning systems?\n",
      "\n",
      "ANSWER:  Existing assignments for a product allocation sequence from external planning systems such as SAP Merchandise and Assortment Planning (AMR), SAP Assortment Planning for Retail (APR), SAP Integrated Business Planning (IBP), or any other planning systems.\n"
     ]
    },
    {
     "name": "stderr",
     "output_type": "stream",
     "text": [
      " 90%|█████████ | 9/10 [00:27<00:02,  2.75s/it]"
     ]
    },
    {
     "name": "stdout",
     "output_type": "stream",
     "text": [
      "QUESTION:  What does the Technical name of Product Allocation Sequence Assignment refer to?\n",
      "\n",
      "ANSWER:  This entity enables you to read, update, and insert product-location assignments for a given product allocation sequence and a given product allocation sequence UUID.\n"
     ]
    },
    {
     "name": "stderr",
     "output_type": "stream",
     "text": [
      "100%|██████████| 10/10 [00:30<00:00,  3.06s/it]"
     ]
    },
    {
     "name": "stdout",
     "output_type": "stream",
     "text": [
      "QUESTION:  What is Product Allocation (PAL) used for?\n",
      "\n",
      "ANSWER:  You can use Product Allocation (PAL) to determine the availability of requested products by checking against sales data as well as data for restricted resources consumed along the value chain of the requested product.\n"
     ]
    },
    {
     "name": "stderr",
     "output_type": "stream",
     "text": [
      "\n"
     ]
    }
   ],
   "source": [
    "import random\n",
    "\n",
    "N_GENERATIONS = 10\n",
    "\n",
    "print(f\"Generating {N_GENERATIONS} QA couples...\")\n",
    "\n",
    "outputs = []\n",
    "for sampled_context in tqdm(random.sample(chunks, N_GENERATIONS)):\n",
    "\n",
    "    # get QA couple\n",
    "    qa_couple = get_generated_qa(generator_llm,QA_generation_prompt,sampled_context)\n",
    "\n",
    "    # condition check if answer is too long\n",
    "    # try:\n",
    "    question = qa_couple.content.split(\"Question: \")[-1].split(\"Answer: \")[0]\n",
    "    answer = qa_couple.content.split(\"Answer: \")[-1]\n",
    "    # assert len(answer) < 300, \"Answer is too long\"\n",
    "    outputs.append(\n",
    "        {\n",
    "            \"context\": sampled_context.page_content,\n",
    "            \"question\": question,\n",
    "            \"answer\": answer,\n",
    "            \"source_doc\": sampled_context.metadata[\"source\"],\n",
    "        }\n",
    "    )\n",
    "    # except:\n",
    "        # continue\n",
    "    print(\"QUESTION: \", question)\n",
    "    print(\"ANSWER: \", answer)\n",
    "\n",
    "qna_df = pd.DataFrame(outputs)"
   ]
  },
  {
   "cell_type": "markdown",
   "id": "778c76ef-71fd-4d79-ba4b-ad6dcb6a1abf",
   "metadata": {},
   "source": [
    "question quality has improved but there is only what questions"
   ]
  },
  {
   "cell_type": "code",
   "execution_count": null,
   "id": "8bbb1bd6-3f33-4e96-aa8b-39ba4526b5c4",
   "metadata": {},
   "outputs": [],
   "source": []
  },
  {
   "cell_type": "code",
   "execution_count": 247,
   "id": "3c248efb-6a40-4729-9815-eaf8592fe67f",
   "metadata": {},
   "outputs": [],
   "source": [
    "QA_generation_prompt = \"\"\"\n",
    "Your task is to write a question and an answer based on the provided context. \n",
    "Your question should be factual, concise, and answerable from the context. Ensure the following variety:\n",
    "1. Formulate questions using different styles: 'what', 'how', 'why', 'compare', 'explain', etc. \n",
    "2. Alternate question types across outputs: closed, open-ended, evaluative, comparative, etc.\n",
    "3. Avoid repetitive 'what' questions unless the context naturally calls for it. \n",
    "\n",
    "\n",
    "Refer to some examples here:\n",
    "### Example 1:\n",
    "Context: Being able to deliver the required quantity of a material to the customer at the requested time demands precise planning and control mechanisms. Unpredictable problems, such as breakdowns in production or increased demand, can lead to critical situations in order processing and must be avoided wherever possible. In advanced Available-to-Promise (aATP) in SAP S/4HANA, you can use Product Allocation (PAL) to avoid critical situations in demand and procurement by allocating materials in short supply to, for example, specific regions and customers for a specific time period. This can help avoid the situation whereby, for example, the entire available quantity of a material in short supply is allocated to a single customer, thereby making it impossible for you to confirm subsequent order requirements for the same material from other customers.\\n\\n\\n\\n\\n\\n Features \\n\\naATP in SAP S/4HANA supports the following key features for setting up, configuring and monitoring availability checks against product allocation for the business document types sales document and stock transport order:\\n\\n\\n\\n Key Feature SAP Fiori App See Also \\n\\n <br><br> * Create and edit product allocation objects.<br> * Define the period types for product allocation objects.<br> * Define and order the characteristics for product allocation objects.<br> * Deactivate and delete product allocation objects and their characteristics.<br><br><br> Configure Product Allocation Configuring and Executing a Check Against Product Allocation \\n <br><br> * Maintain characteristic value combinations and planned allocation quantities for their time periods.<br> * Use spreadsheets (in .xlsx format) or comma separated values files (in .csv format) to maintain characteristic value combinations and their time series.<br> * Reuse assignments and quantities from deleted/deactivated characteristic value combinations to those active characteristic value combinations that are using collectives.<br> * Change the activation and constraint status of product allocation objects.<br> * Display the availability situation (planned, available and consumed quantity) for the materials in product allocation objects.<br> * Release product allocation objects and their planning data for productive usage.<br><br><br> Manage Product Allocation Planning Data Configuring and Executing a Check Against Product Allocation \\n <br><br> * Create, display and edit product allocation sequences.<br>\n",
    "Output::\n",
    "Question: What does product allocation mean?\n",
    "Answer: Product Allocation (PAL) in advanced Available-to-Promise (aATP) is a mechanism in SAP S/4HANA that helps avoid critical situations in demand and procurement. It allows the allocation of materials in short supply to specific regions and customers for a specific time period. This ensures that the entire available quantity of a material is not allocated to a single customer, enabling subsequent order requirements from other customers to be confirmed. PAL helps in precise planning and control of material delivery to meet customer demands.\n",
    "\n",
    "### Example 2:\n",
    "Context: App ID: F3829\\n\\nCharacteristic catalogs contain attributes that can be used as characteristics, for example, when you run availability checks for sales documents and stock transport orders. With this app, you can adapt characteristic catalogs to suit your business needs, for example, when you check availability against product allocation, execute backorder processing, use an alternative plant to confirm a requirement or protect quantities to prioritize demand. You can use this app if the business role Order Fulfillment Manager (R0226) is assigned to your user.\\n\\n\\n\\n Prerequisites \\n\\nTo be able to see the list of available catalogs in the Manage Characteristic Catalogs app, you need to set the catalog use types in the authorization object M_CAT_UTYP. In the Characteristic Catalog Use Type field, enter your catalog use types (for example, 01, 02 or * for all catalog use types).\\n\\n\\n\\n\\n\\n Key Features \\n\\nDepending on the selected catalog, you can use this app to:\\n\\n\\n\\n\\n\\n* Add characteristics as standard or custom fields to a characteristic catalog.\\n* Define characteristic value groups.\\n* Connect characteristics from multiple characteristic catalogs.\\n* Rename standard characteristics.\\n* Enable value existence check type for characteristics.\\n* Define authorizations for characteristic values and groups of characteristic values.\\n* Add classification characteristics from Variant Configuration\\n\\n\\n\\n\\n\\n Supported Device Types \\n\\n\\n\\n* Desktop\\n* Tablet\\n\\n\\n\\n\\n\\nRelated InformationUsing the Manage Characteristic Catalogs App for aATPProduct Allocation (CA-ATP-PAL)Backorder Processing (CA-ATP-BOP)Supply Protection (CA-ATP-SUP)Alternative-Based Confirmation (CA-ATP-ABC)\n",
    "Output::\n",
    "Question: How can I access the characteristic catalog?\n",
    "Answer: To access the characteristic catalog, you can use the \"Manage Characteristic Catalogs\" app . This app allows you to adapt characteristic catalogs to suit your business needs, add characteristics, define characteristic value groups, and connect characteristics from multiple catalogs . Please note that you need to have the \"Order Fulfillment Manager\" role assigned to your user to access this app.\n",
    "\n",
    "### Example 3:\n",
    "Context: Availability Change Log (ACL) must be activated before the changes are captured. You can activate ACL in Customizing of aATP at !Start of the navigation path Cross-Application Components !Next navigation step Advanced Available-to-Promise (aATP) !Next navigation step Availability Change Log !Next navigation step Activate Availability Change Log![End of the navigation path](URL\\n\\n\\n\\n* After ACL is configured, changes impacting the availability situation are captured for all supported documents.\\n* A material-plant combination can be excluded from ACL capture by navigating to the Change View \\\"Availability Change Log scope based on Checking Group\\\": Overview screen. Add the desired checking group and select the Deactivate Logging flag.\n",
    "Output::\n",
    "Question: How do I configure the availability change log? \n",
    "Answer: To configure the availability change log, you need to activate it in Customizing of aATP at the start of the navigation path Cross-Application Components, then navigate to Advanced Available-to-Promise (aATP), Availability Change Log, and activate the availability change log.\n",
    "\n",
    "\n",
    "Rules to follow when formulating the question and answer:\n",
    "1. Ensure that the question can be answered entirely from the information present in the contexts.\n",
    "2. Do not frame questions that contains more than 20 words. Use abbreviation wherever possible.\n",
    "3. Make sure the question is clear and unambiguous.\n",
    "4. **Strictly avoid** phrases like 'based on the provided context', 'according to the context', 'in the context', or 'in the given context'. **These phrases must not be used under any circumstances.**\n",
    "5. Do not use 'this' in the question as the question must be standalone and 'this' would be ambiguous.\n",
    "6. Keep your answer under 300 words.\n",
    "\n",
    "This is the output format:\n",
    "Output::\n",
    "Question: (your question)\n",
    "Answer: (your answer to the question)\n",
    "\n",
    "Now here is the context.\n",
    "Context: {context}\\n\n",
    "Output::\"\"\"\n",
    "\n",
    "# 4. Do not use phrases like 'based on the provided context','according to the context','in the context','in the given context' due to ambiguity.\n",
    "# Your task is to write a question and an answer given a context.\n",
    "# Your question should be answerable with a specific, concise piece of factual information from the context.\n",
    "# Your question should be formulated in the same style as questions users could ask in a search engine.\n",
    "# Your question can be closed, open, divergent, evaluation, inference, comparison, application or problem-solving question types."
   ]
  },
  {
   "cell_type": "code",
   "execution_count": 249,
   "id": "5204b7eb-ac2e-4787-a6f1-8d8803b64d55",
   "metadata": {
    "scrolled": true
   },
   "outputs": [
    {
     "name": "stdout",
     "output_type": "stream",
     "text": [
      "Generating 10 QA couples...\n"
     ]
    },
    {
     "name": "stderr",
     "output_type": "stream",
     "text": [
      " 10%|█         | 1/10 [00:11<01:42, 11.40s/it]"
     ]
    },
    {
     "name": "stdout",
     "output_type": "stream",
     "text": [
      "QUESTION:  Why is custom documentation not suitable for productive use?\n",
      "\n",
      "ANSWER:  Custom documentation may not reflect the arrangement of topics in the SAP Help Portal and may be missing important aspects and/or correlations to other topics. Therefore, it is not recommended for productive use.\n"
     ]
    },
    {
     "name": "stderr",
     "output_type": "stream",
     "text": [
      " 20%|██        | 2/10 [00:22<01:30, 11.34s/it]"
     ]
    },
    {
     "name": "stdout",
     "output_type": "stream",
     "text": [
      "QUESTION:  What is the purpose of APIs for Availability Checks in SAP S/4HANA?\n",
      "\n",
      "ANSWER:  The APIs for Availability Checks are used to provide a standardized interface for integrating availability checks into external systems and applications. This allows for seamless integration with other business processes and enables real-time availability information to be shared across different systems.\n"
     ]
    },
    {
     "name": "stderr",
     "output_type": "stream",
     "text": [
      " 30%|███       | 3/10 [00:42<01:45, 15.00s/it]"
     ]
    },
    {
     "name": "stdout",
     "output_type": "stream",
     "text": [
      "QUESTION:  What is the purpose of the validity end time in product allocation sequence?\n",
      "\n",
      "ANSWER:  The validity end time in product allocation sequence represents the Time zone for the validity end time and is represented as ValidityEndUTCDateTime.\n"
     ]
    },
    {
     "name": "stderr",
     "output_type": "stream",
     "text": [
      " 40%|████      | 4/10 [00:50<01:15, 12.58s/it]"
     ]
    },
    {
     "name": "stdout",
     "output_type": "stream",
     "text": [
      "QUESTION:  What operations are supported for product allocation sequences?\n",
      "\n",
      "ANSWER:  The following operations are supported for product allocation sequences: Read all product allocation sequences, Read a specific product allocation sequence, Read the product allocation sequence description, Read product-location assignments, Create Product-Location Assignment, Read a product allocation sequence in a specific language, and Read the product allocation sequence of a specific product-location assignment.\n"
     ]
    },
    {
     "name": "stderr",
     "output_type": "stream",
     "text": [
      " 50%|█████     | 5/10 [00:53<00:45,  9.01s/it]"
     ]
    },
    {
     "name": "stdout",
     "output_type": "stream",
     "text": [
      "QUESTION:  What is the purpose of the Product Allocation Sequence Assignment entity?\n",
      "\n",
      "ANSWER:  The Product Allocation Sequence Assignment entity enables you to read, update, and insert product-location assignments for a given product allocation sequence and a given product allocation sequence UUID.\n"
     ]
    },
    {
     "name": "stderr",
     "output_type": "stream",
     "text": [
      " 60%|██████    | 6/10 [00:56<00:27,  6.97s/it]"
     ]
    },
    {
     "name": "stdout",
     "output_type": "stream",
     "text": [
      "QUESTION:  What is the purpose of the product allocation consumption unit?\n",
      "\n",
      "ANSWER:  The product allocation consumption unit is used to get the header data for exactly one product allocation sequence, including the description in the corresponding system language. It provides information about when the corresponding product allocation sequence was created and changed.\n"
     ]
    },
    {
     "name": "stderr",
     "output_type": "stream",
     "text": [
      " 70%|███████   | 7/10 [00:59<00:17,  5.76s/it]"
     ]
    },
    {
     "name": "stdout",
     "output_type": "stream",
     "text": [
      "QUESTION:  What are the operations offered by the Product Allocation Sequence API?\n",
      "\n",
      "ANSWER:  The Product Allocation Sequence API offers the following operations: Read Product Allocation Sequence, Query Product Allocation Sequence, Read Product Allocation Sequence and Product Location Assignments, Create Product-Location Assignment, Update Product-Location Assignment, and Delete Product-Location Assignment.\n"
     ]
    },
    {
     "name": "stderr",
     "output_type": "stream",
     "text": [
      " 80%|████████  | 8/10 [01:03<00:10,  5.18s/it]"
     ]
    },
    {
     "name": "stdout",
     "output_type": "stream",
     "text": [
      "QUESTION:  What are the prerequisites for using a product allocation sequence?\n",
      "\n",
      "ANSWER:  The product allocation sequence must exist and the service node must know the ProductAllocationSequenceUUID. You can use the entity Product Allocation Sequence (A_ProdAllocationSequence) to get information about the corresponding product allocation sequence. If an existing product-location assignment is to be changed, the UUID for the corresponding assignment is required.\n"
     ]
    },
    {
     "name": "stderr",
     "output_type": "stream",
     "text": [
      " 90%|█████████ | 9/10 [01:06<00:04,  4.44s/it]"
     ]
    },
    {
     "name": "stdout",
     "output_type": "stream",
     "text": [
      "QUESTION:  What is the purpose of activating the availability change log in aATP Customizing?\n",
      "\n",
      "ANSWER:  The availability change log must be activated before changes are captured. This allows capturing changes impacting the availability situation for all supported documents after it's configured.\n"
     ]
    },
    {
     "name": "stderr",
     "output_type": "stream",
     "text": [
      "100%|██████████| 10/10 [01:13<00:00,  7.40s/it]"
     ]
    },
    {
     "name": "stdout",
     "output_type": "stream",
     "text": [
      "QUESTION:  What does a product allocation sequence represent?\n",
      "\n",
      "ANSWER:  A product allocation sequence represents an existing data for a given product allocation. It includes information about the name of the product allocation sequence and its UUID, which is required for the entity Product Allocation Sequence Assignment.\n"
     ]
    },
    {
     "name": "stderr",
     "output_type": "stream",
     "text": [
      "\n"
     ]
    }
   ],
   "source": [
    "import random\n",
    "\n",
    "N_GENERATIONS = 10\n",
    "\n",
    "print(f\"Generating {N_GENERATIONS} QA couples...\")\n",
    "\n",
    "outputs = []\n",
    "for sampled_context in tqdm(random.sample(chunks, N_GENERATIONS)):\n",
    "\n",
    "    # get QA couple\n",
    "    qa_couple = get_generated_qa(generator_llm,QA_generation_prompt,sampled_context)\n",
    "\n",
    "    # condition check if answer is too long\n",
    "    # try:\n",
    "    question = qa_couple.content.split(\"Question: \")[-1].split(\"Answer: \")[0]\n",
    "    answer = qa_couple.content.split(\"Answer: \")[-1]\n",
    "    # assert len(answer) < 300, \"Answer is too long\"\n",
    "    outputs.append(\n",
    "        {\n",
    "            \"context\": sampled_context.page_content,\n",
    "            \"question\": question,\n",
    "            \"answer\": answer,\n",
    "            \"source_doc\": sampled_context.metadata[\"source\"],\n",
    "        }\n",
    "    )\n",
    "    # except:\n",
    "        # continue\n",
    "    print(\"QUESTION: \", question)\n",
    "    print(\"ANSWER: \", answer)\n",
    "\n",
    "qna_df = pd.DataFrame(outputs)"
   ]
  },
  {
   "cell_type": "markdown",
   "id": "c4f3eaff-36e2-490b-94f3-cdb3b0cd18c1",
   "metadata": {},
   "source": [
    "refine prompt"
   ]
  },
  {
   "cell_type": "code",
   "execution_count": 253,
   "id": "736accc1-9213-435c-ba60-1a7aa436ceea",
   "metadata": {},
   "outputs": [],
   "source": [
    "QA_generation_prompt = \"\"\"\n",
    "Your task is to generate a question and answer based on the provided context. Ensure the following when formulating the question:\n",
    "\n",
    "1. Use a variety of question types: 'what', 'how', 'why', 'compare', 'explain', etc.\n",
    "2. Alternate between closed, open-ended, evaluative, comparative, and problem-solving questions.\n",
    "3. Avoid repetitive 'what' questions unless necessary for the context.\n",
    "4. Questions must be answerable solely from the context provided.\n",
    "5. Ensure questions are clear and unambiguous.\n",
    "4. **Avoid** phrases like 'based on the provided context', 'according to the context', or similar and words like 'this' as these are ambiguous references.\n",
    "5. Answers should not exceed 300 words.\n",
    "\n",
    "### Example 1:\n",
    "Context: Being able to deliver the required quantity of a material to the customer at the requested time demands precise planning and control mechanisms. Unpredictable problems, such as breakdowns in production or increased demand, can lead to critical situations in order processing and must be avoided wherever possible. In advanced Available-to-Promise (aATP) in SAP S/4HANA, you can use Product Allocation (PAL) to avoid critical situations in demand and procurement by allocating materials in short supply to, for example, specific regions and customers for a specific time period. This can help avoid the situation whereby, for example, the entire available quantity of a material in short supply is allocated to a single customer, thereby making it impossible for you to confirm subsequent order requirements for the same material from other customers.\\n\\n\\n\\n\\n\\n Features \\n\\naATP in SAP S/4HANA supports the following key features for setting up, configuring and monitoring availability checks against product allocation for the business document types sales document and stock transport order:\\n\\n\\n\\n Key Feature SAP Fiori App See Also \\n\\n <br><br> * Create and edit product allocation objects.<br> * Define the period types for product allocation objects.<br> * Define and order the characteristics for product allocation objects.<br> * Deactivate and delete product allocation objects and their characteristics.<br><br><br> Configure Product Allocation Configuring and Executing a Check Against Product Allocation \\n <br><br> * Maintain characteristic value combinations and planned allocation quantities for their time periods.<br> * Use spreadsheets (in .xlsx format) or comma separated values files (in .csv format) to maintain characteristic value combinations and their time series.<br> * Reuse assignments and quantities from deleted/deactivated characteristic value combinations to those active characteristic value combinations that are using collectives.<br> * Change the activation and constraint status of product allocation objects.<br> * Display the availability situation (planned, available and consumed quantity) for the materials in product allocation objects.<br> * Release product allocation objects and their planning data for productive usage.<br><br><br> Manage Product Allocation Planning Data Configuring and Executing a Check Against Product Allocation \\n <br><br> * Create, display and edit product allocation sequences.<br>\n",
    "Output::\n",
    "Question: What does product allocation mean?\n",
    "Answer: Product Allocation (PAL) in advanced Available-to-Promise (aATP) is a mechanism in SAP S/4HANA that helps avoid critical situations in demand and procurement. It allows the allocation of materials in short supply to specific regions and customers for a specific time period. This ensures that the entire available quantity of a material is not allocated to a single customer, enabling subsequent order requirements from other customers to be confirmed. PAL helps in precise planning and control of material delivery to meet customer demands.\n",
    "\n",
    "### Example 2:\n",
    "Context: App ID: F3829\\n\\nCharacteristic catalogs contain attributes that can be used as characteristics, for example, when you run availability checks for sales documents and stock transport orders. With this app, you can adapt characteristic catalogs to suit your business needs, for example, when you check availability against product allocation, execute backorder processing, use an alternative plant to confirm a requirement or protect quantities to prioritize demand. You can use this app if the business role Order Fulfillment Manager (R0226) is assigned to your user.\\n\\n\\n\\n Prerequisites \\n\\nTo be able to see the list of available catalogs in the Manage Characteristic Catalogs app, you need to set the catalog use types in the authorization object M_CAT_UTYP. In the Characteristic Catalog Use Type field, enter your catalog use types (for example, 01, 02 or * for all catalog use types).\\n\\n\\n\\n\\n\\n Key Features \\n\\nDepending on the selected catalog, you can use this app to:\\n\\n\\n\\n\\n\\n* Add characteristics as standard or custom fields to a characteristic catalog.\\n* Define characteristic value groups.\\n* Connect characteristics from multiple characteristic catalogs.\\n* Rename standard characteristics.\\n* Enable value existence check type for characteristics.\\n* Define authorizations for characteristic values and groups of characteristic values.\\n* Add classification characteristics from Variant Configuration\\n\\n\\n\\n\\n\\n Supported Device Types \\n\\n\\n\\n* Desktop\\n* Tablet\\n\\n\\n\\n\\n\\nRelated InformationUsing the Manage Characteristic Catalogs App for aATPProduct Allocation (CA-ATP-PAL)Backorder Processing (CA-ATP-BOP)Supply Protection (CA-ATP-SUP)Alternative-Based Confirmation (CA-ATP-ABC)\n",
    "Output::\n",
    "Question: How can I access the characteristic catalog?\n",
    "Answer: To access the characteristic catalog, you can use the \"Manage Characteristic Catalogs\" app . This app allows you to adapt characteristic catalogs to suit your business needs, add characteristics, define characteristic value groups, and connect characteristics from multiple catalogs . Please note that you need to have the \"Order Fulfillment Manager\" role assigned to your user to access this app.\n",
    "\n",
    "### Example 3:\n",
    "Context: Availability Change Log (ACL) must be activated before the changes are captured. You can activate ACL in Customizing of aATP at !Start of the navigation path Cross-Application Components !Next navigation step Advanced Available-to-Promise (aATP) !Next navigation step Availability Change Log !Next navigation step Activate Availability Change Log![End of the navigation path](URL\\n\\n\\n\\n* After ACL is configured, changes impacting the availability situation are captured for all supported documents.\\n* A material-plant combination can be excluded from ACL capture by navigating to the Change View \\\"Availability Change Log scope based on Checking Group\\\": Overview screen. Add the desired checking group and select the Deactivate Logging flag.\n",
    "Output::\n",
    "Question: How do I configure the availability change log? \n",
    "Answer: To configure the availability change log, you need to activate it in Customizing of aATP at the start of the navigation path Cross-Application Components, then navigate to Advanced Available-to-Promise (aATP), Availability Change Log, and activate the availability change log.\n",
    "\n",
    "Rules:\n",
    "\n",
    "Output format:\n",
    "Output::\n",
    "Question: (your question)\n",
    "Answer: (your answer)\n",
    "\n",
    "Now, here is the context:\n",
    "Context: {context}\\n\n",
    "Output::\"\"\"\n",
    "# 2. Keep questions under 20 words. Use abbreviations where applicable."
   ]
  },
  {
   "cell_type": "code",
   "execution_count": 255,
   "id": "250188e8-578e-4d90-a482-fe845469289c",
   "metadata": {
    "scrolled": true
   },
   "outputs": [
    {
     "name": "stdout",
     "output_type": "stream",
     "text": [
      "Generating 10 QA couples...\n"
     ]
    },
    {
     "name": "stderr",
     "output_type": "stream",
     "text": [
      " 10%|█         | 1/10 [00:07<01:05,  7.23s/it]"
     ]
    },
    {
     "name": "stdout",
     "output_type": "stream",
     "text": [
      "QUESTION:  What information does the Product Allocation Sequence entity return?\n",
      "\n",
      "ANSWER:  The Product Allocation Sequence entity returns the name and description of the product allocation sequence, as well as information about the product allocation sequence UUID, the product allocation consumption unit, and when the product allocation sequence was created.\n"
     ]
    },
    {
     "name": "stderr",
     "output_type": "stream",
     "text": [
      " 20%|██        | 2/10 [00:09<00:35,  4.38s/it]"
     ]
    },
    {
     "name": "stdout",
     "output_type": "stream",
     "text": [
      "QUESTION:  What is the purpose of the Product Allocation Sequence entity?\n",
      "\n",
      "ANSWER:  The Product Allocation Sequence entity selects existing data for a given product allocation sequence. It is mandatory and contains the service's business data related to product allocation sequences.\n"
     ]
    },
    {
     "name": "stderr",
     "output_type": "stream",
     "text": [
      " 30%|███       | 3/10 [00:12<00:26,  3.78s/it]"
     ]
    },
    {
     "name": "stdout",
     "output_type": "stream",
     "text": [
      "QUESTION:  What are product allocations?\n",
      "### \n",
      "ANSWER:  Product allocations refer to packages of supply that are organized in time series. They help avoid critical situations in demand and procurement processes by factoring sales and supply restrictions into the product availability check. The data used in product allocations is usually defined in separate planning systems.\n"
     ]
    },
    {
     "name": "stderr",
     "output_type": "stream",
     "text": [
      " 40%|████      | 4/10 [00:22<00:37,  6.19s/it]"
     ]
    },
    {
     "name": "stdout",
     "output_type": "stream",
     "text": [
      "QUESTION:  What information is displayed when a product allocation sequence is changed?\n",
      "\n",
      "ANSWER:  When a product allocation sequence is changed, the following information is displayed: LastChangedByUser (name of the user who made the change), ProdAllocSqncConsumptionUnit (consumption unit for the product allocation sequence), ProductAllocationSequence (technical name for the product allocation sequence), ProductAllocationSequence_Text (description for the product allocation sequence in the corresponding system language), and ProductAllocationSequenceUUID (UUID for the selected product allocation sequence).\n"
     ]
    },
    {
     "name": "stderr",
     "output_type": "stream",
     "text": [
      " 50%|█████     | 5/10 [00:25<00:24,  4.94s/it]"
     ]
    },
    {
     "name": "stdout",
     "output_type": "stream",
     "text": [
      "QUESTION:  What are the supported operations for product allocation sequences?\n",
      "\n",
      "ANSWER:  The following operations are supported for product allocation sequences: Read product-location assignments of a specific sequence, Create Product-Location Assignment for a sequence, and Read all product-location assignments of all product allocation sequences.\n"
     ]
    },
    {
     "name": "stderr",
     "output_type": "stream",
     "text": [
      " 60%|██████    | 6/10 [00:31<00:21,  5.31s/it]"
     ]
    },
    {
     "name": "stdout",
     "output_type": "stream",
     "text": [
      "QUESTION:  Why can deletion of product-location assignments be done only via service action?\n",
      "\n",
      "ANSWER:  The deletion of product-location assignments for a product allocation sequence and a product allocation sequence UUID is only possible via the service action \"DeleteSequenceAssignment\". This is to ensure that such deletions are handled in a controlled manner, likely to prevent accidental or unintended changes.\n"
     ]
    },
    {
     "name": "stderr",
     "output_type": "stream",
     "text": [
      " 70%|███████   | 7/10 [00:34<00:14,  4.70s/it]"
     ]
    },
    {
     "name": "stdout",
     "output_type": "stream",
     "text": [
      "QUESTION:  What is Product Allocation (PAL) used for in determining product availability?\n",
      "\n",
      "ANSWER:  Product Allocation (PAL) is used to determine the availability of requested products by checking against sales data as well as data for restricted resources consumed along the value chain of the requested product. This helps in identifying the availability of products and making informed decisions about their allocation.\n"
     ]
    },
    {
     "name": "stderr",
     "output_type": "stream",
     "text": [
      " 80%|████████  | 8/10 [00:56<00:20, 10.08s/it]"
     ]
    },
    {
     "name": "stdout",
     "output_type": "stream",
     "text": [
      "QUESTION:  What is the source of information about ETags in this context?\n",
      "\n",
      "ANSWER:  The source of information about ETags is a webpage linked from the provided URL.\n"
     ]
    },
    {
     "name": "stderr",
     "output_type": "stream",
     "text": [
      " 90%|█████████ | 9/10 [01:00<00:08,  8.07s/it]"
     ]
    },
    {
     "name": "stdout",
     "output_type": "stream",
     "text": [
      "QUESTION:  What is the purpose of reading a specific product allocation sequence?\n",
      "\n",
      "ANSWER:  The purpose of reading a specific product allocation sequence is to enable you to read, update, and insert product-location assignments for a given product allocation sequence and a given product allocation sequence UUID. This allows you to manage product allocation sequences and their associated product-location assignments.\n"
     ]
    },
    {
     "name": "stderr",
     "output_type": "stream",
     "text": [
      "100%|██████████| 10/10 [01:03<00:00,  6.38s/it]"
     ]
    },
    {
     "name": "stdout",
     "output_type": "stream",
     "text": [
      "QUESTION:  What operations are supported for product allocation sequences?\n",
      "\n",
      "ANSWER:  The following operations are supported for product allocation sequences: Read all product allocation sequences, Read a specific product allocation sequence, Read the product allocation sequence description, Read product-location assignments, Create Product-Location Assignment, Read a product allocation sequence in a specific language, and Read the product allocation sequence of a specific product-location assignment.\n"
     ]
    },
    {
     "name": "stderr",
     "output_type": "stream",
     "text": [
      "\n"
     ]
    }
   ],
   "source": [
    "import random\n",
    "\n",
    "N_GENERATIONS = 10\n",
    "\n",
    "print(f\"Generating {N_GENERATIONS} QA couples...\")\n",
    "\n",
    "outputs = []\n",
    "for sampled_context in tqdm(random.sample(chunks, N_GENERATIONS)):\n",
    "\n",
    "    # get QA couple\n",
    "    qa_couple = get_generated_qa(generator_llm,QA_generation_prompt,sampled_context)\n",
    "\n",
    "    # condition check if answer is too long\n",
    "    # try:\n",
    "    question = qa_couple.content.split(\"Question: \")[-1].split(\"Answer: \")[0]\n",
    "    answer = qa_couple.content.split(\"Answer: \")[-1]\n",
    "    # assert len(answer) < 300, \"Answer is too long\"\n",
    "    outputs.append(\n",
    "        {\n",
    "            \"context\": sampled_context.page_content,\n",
    "            \"question\": question,\n",
    "            \"answer\": answer,\n",
    "            \"source_doc\": sampled_context.metadata[\"source\"],\n",
    "        }\n",
    "    )\n",
    "    # except:\n",
    "        # continue\n",
    "    print(\"QUESTION: \", question)\n",
    "    print(\"ANSWER: \", answer)\n",
    "\n",
    "qna_df = pd.DataFrame(outputs)"
   ]
  },
  {
   "cell_type": "markdown",
   "id": "34a5f0aa-bb26-4b55-bd63-0d06df284d36",
   "metadata": {},
   "source": [
    "check actual golden dataset for number of what, why and how questions"
   ]
  },
  {
   "cell_type": "code",
   "execution_count": 259,
   "id": "6d0750c2-617f-45f8-9848-b3e2d8aa6557",
   "metadata": {},
   "outputs": [
    {
     "data": {
      "text/html": [
       "<div>\n",
       "<style scoped>\n",
       "    .dataframe tbody tr th:only-of-type {\n",
       "        vertical-align: middle;\n",
       "    }\n",
       "\n",
       "    .dataframe tbody tr th {\n",
       "        vertical-align: top;\n",
       "    }\n",
       "\n",
       "    .dataframe thead th {\n",
       "        text-align: right;\n",
       "    }\n",
       "</style>\n",
       "<table border=\"1\" class=\"dataframe\">\n",
       "  <thead>\n",
       "    <tr style=\"text-align: right;\">\n",
       "      <th></th>\n",
       "      <th>Product/Area</th>\n",
       "      <th>Question Category</th>\n",
       "      <th>Question</th>\n",
       "      <th>Golden Answer</th>\n",
       "      <th>Links provided to Model</th>\n",
       "      <th>Answer based on information retrieval content generated</th>\n",
       "      <th>Links provided in answer</th>\n",
       "    </tr>\n",
       "  </thead>\n",
       "  <tbody>\n",
       "    <tr>\n",
       "      <th>0</th>\n",
       "      <td>S4H private cloud</td>\n",
       "      <td>Direct</td>\n",
       "      <td>What does product allocation mean?</td>\n",
       "      <td>Product Allocation (PAL) in advanced Available...</td>\n",
       "      <td>APIs for Availability Checks \\nhttps://help.sa...</td>\n",
       "      <td>Product Allocation (CA-ATP-PAL)\\nhttps://help....</td>\n",
       "      <td>Product Allocation (CA-ATP-PAL).\\nhttps://help...</td>\n",
       "    </tr>\n",
       "    <tr>\n",
       "      <th>1</th>\n",
       "      <td>S4H private cloud</td>\n",
       "      <td>Direct</td>\n",
       "      <td>What is a product allocation object?</td>\n",
       "      <td>A product allocation object is the main busine...</td>\n",
       "      <td>\"Product Allocation Sequence\",\\n      \"documen...</td>\n",
       "      <td>Key Concepts in Product Allocation\",\\n        ...</td>\n",
       "      <td>Key Concepts in Product Allocation\\nhttps://he...</td>\n",
       "    </tr>\n",
       "    <tr>\n",
       "      <th>2</th>\n",
       "      <td>S4H private cloud</td>\n",
       "      <td>Direct</td>\n",
       "      <td>What is an allocation quantity unit in aATP pr...</td>\n",
       "      <td>An allocation quantity unit in aATP product al...</td>\n",
       "      <td>\"Key Concepts in Product Allocation\",\\n      \"...</td>\n",
       "      <td>\"Key Concepts in Product Allocation\",\\n       ...</td>\n",
       "      <td>Key Concepts in Product Allocation\\nhttps://he...</td>\n",
       "    </tr>\n",
       "    <tr>\n",
       "      <th>3</th>\n",
       "      <td>S4H private cloud</td>\n",
       "      <td>Consistency</td>\n",
       "      <td>Where can I maintain authorizations for produc...</td>\n",
       "      <td>You can maintain authorizations for product al...</td>\n",
       "      <td>\"document_title\": \"Authorizations Based on Cha...</td>\n",
       "      <td>\"Authorizations Based on Characteristics\",\\n  ...</td>\n",
       "      <td>Authorizations Based on Characteristics\\nhttps...</td>\n",
       "    </tr>\n",
       "    <tr>\n",
       "      <th>4</th>\n",
       "      <td>S4H private cloud</td>\n",
       "      <td>Consistency</td>\n",
       "      <td>How can I access the characteristic catalog?</td>\n",
       "      <td>To access the characteristic catalog, you can ...</td>\n",
       "      <td>\"Characteristic Name\",\\n      \"document_url\": ...</td>\n",
       "      <td>\"Manage Characteristic Catalogs\",\\n          \"...</td>\n",
       "      <td>Manage Characteristics Catalogs\\nhttps://help....</td>\n",
       "    </tr>\n",
       "    <tr>\n",
       "      <th>...</th>\n",
       "      <td>...</td>\n",
       "      <td>...</td>\n",
       "      <td>...</td>\n",
       "      <td>...</td>\n",
       "      <td>...</td>\n",
       "      <td>...</td>\n",
       "      <td>...</td>\n",
       "    </tr>\n",
       "    <tr>\n",
       "      <th>703</th>\n",
       "      <td>IBP</td>\n",
       "      <td>Direct</td>\n",
       "      <td>which methods are available for outlier detection</td>\n",
       "      <td>The methods available for outlier detection ar...</td>\n",
       "      <td>{\\n      \"document_title\": \"Outlier Correction...</td>\n",
       "      <td>{\\n  \"level\": \"info\",\\n  \"code\": \"IR_SUMMARY_G...</td>\n",
       "      <td>Outlier Correction\\nhttps://help.sap.com/docs/...</td>\n",
       "    </tr>\n",
       "    <tr>\n",
       "      <th>704</th>\n",
       "      <td>IBP</td>\n",
       "      <td>Direct</td>\n",
       "      <td>Can you delete master data in the Excel add-in?</td>\n",
       "      <td>You can't delete master data records in the SA...</td>\n",
       "      <td>{\\n      \"document_title\": \"Maintenance of Mas...</td>\n",
       "      <td>{\\n  \"level\": \"info\",\\n  \"code\": \"IR_SUMMARY_G...</td>\n",
       "      <td>Maintenance of Master Data Records Using the M...</td>\n",
       "    </tr>\n",
       "    <tr>\n",
       "      <th>705</th>\n",
       "      <td>IBP</td>\n",
       "      <td>Direct</td>\n",
       "      <td>How do I opt out of custom alert definitions?</td>\n",
       "      <td>To opt out of custom alert definitions, follow...</td>\n",
       "      <td>{\\n      \"document_title\": \"Opting Out of Cust...</td>\n",
       "      <td>{\\n  \"level\": \"info\",\\n  \"code\": \"IR_SUMMARY_G...</td>\n",
       "      <td>Opting Out of Custom Alert Definitions\\nhttps:...</td>\n",
       "    </tr>\n",
       "    <tr>\n",
       "      <th>706</th>\n",
       "      <td>IBP</td>\n",
       "      <td>Direct</td>\n",
       "      <td>Can I snooze an alert?</td>\n",
       "      <td>Yes, you can snooze an alert. Snoozing alerts ...</td>\n",
       "      <td>{\\n      \"document_title\": \"Working with Alert...</td>\n",
       "      <td>{\\n  \"level\": \"info\",\\n  \"code\": \"IR_SUMMARY_G...</td>\n",
       "      <td>Working with Alerts\\nhttps://help.sap.com/docs...</td>\n",
       "    </tr>\n",
       "    <tr>\n",
       "      <th>707</th>\n",
       "      <td>IBP</td>\n",
       "      <td>Indirect</td>\n",
       "      <td>Are there any states for process tasks?</td>\n",
       "      <td>Yes, there are states for process tasks. The a...</td>\n",
       "      <td>{\\n      \"document_title\": \"Process Chart in D...</td>\n",
       "      <td>{\\n  \"level\": \"info\",\\n  \"code\": \"IR_SUMMARY_G...</td>\n",
       "      <td>Process Chart in Dashboards – Advanced App\\nht...</td>\n",
       "    </tr>\n",
       "  </tbody>\n",
       "</table>\n",
       "<p>708 rows × 7 columns</p>\n",
       "</div>"
      ],
      "text/plain": [
       "          Product/Area Question Category  \\\n",
       "0    S4H private cloud            Direct   \n",
       "1    S4H private cloud            Direct   \n",
       "2    S4H private cloud            Direct   \n",
       "3    S4H private cloud       Consistency   \n",
       "4    S4H private cloud       Consistency   \n",
       "..                 ...               ...   \n",
       "703                IBP            Direct   \n",
       "704                IBP            Direct   \n",
       "705                IBP            Direct   \n",
       "706                IBP            Direct   \n",
       "707                IBP         Indirect    \n",
       "\n",
       "                                             Question   \\\n",
       "0                   What does product allocation mean?   \n",
       "1                 What is a product allocation object?   \n",
       "2    What is an allocation quantity unit in aATP pr...   \n",
       "3    Where can I maintain authorizations for produc...   \n",
       "4         How can I access the characteristic catalog?   \n",
       "..                                                 ...   \n",
       "703  which methods are available for outlier detection   \n",
       "704    Can you delete master data in the Excel add-in?   \n",
       "705      How do I opt out of custom alert definitions?   \n",
       "706                             Can I snooze an alert?   \n",
       "707            Are there any states for process tasks?   \n",
       "\n",
       "                                         Golden Answer  \\\n",
       "0    Product Allocation (PAL) in advanced Available...   \n",
       "1    A product allocation object is the main busine...   \n",
       "2    An allocation quantity unit in aATP product al...   \n",
       "3    You can maintain authorizations for product al...   \n",
       "4    To access the characteristic catalog, you can ...   \n",
       "..                                                 ...   \n",
       "703  The methods available for outlier detection ar...   \n",
       "704  You can't delete master data records in the SA...   \n",
       "705  To opt out of custom alert definitions, follow...   \n",
       "706  Yes, you can snooze an alert. Snoozing alerts ...   \n",
       "707  Yes, there are states for process tasks. The a...   \n",
       "\n",
       "                               Links provided to Model  \\\n",
       "0    APIs for Availability Checks \\nhttps://help.sa...   \n",
       "1    \"Product Allocation Sequence\",\\n      \"documen...   \n",
       "2    \"Key Concepts in Product Allocation\",\\n      \"...   \n",
       "3    \"document_title\": \"Authorizations Based on Cha...   \n",
       "4    \"Characteristic Name\",\\n      \"document_url\": ...   \n",
       "..                                                 ...   \n",
       "703  {\\n      \"document_title\": \"Outlier Correction...   \n",
       "704  {\\n      \"document_title\": \"Maintenance of Mas...   \n",
       "705  {\\n      \"document_title\": \"Opting Out of Cust...   \n",
       "706  {\\n      \"document_title\": \"Working with Alert...   \n",
       "707  {\\n      \"document_title\": \"Process Chart in D...   \n",
       "\n",
       "    Answer based on information retrieval content generated  \\\n",
       "0    Product Allocation (CA-ATP-PAL)\\nhttps://help....        \n",
       "1    Key Concepts in Product Allocation\",\\n        ...        \n",
       "2    \"Key Concepts in Product Allocation\",\\n       ...        \n",
       "3    \"Authorizations Based on Characteristics\",\\n  ...        \n",
       "4    \"Manage Characteristic Catalogs\",\\n          \"...        \n",
       "..                                                 ...        \n",
       "703  {\\n  \"level\": \"info\",\\n  \"code\": \"IR_SUMMARY_G...        \n",
       "704  {\\n  \"level\": \"info\",\\n  \"code\": \"IR_SUMMARY_G...        \n",
       "705  {\\n  \"level\": \"info\",\\n  \"code\": \"IR_SUMMARY_G...        \n",
       "706  {\\n  \"level\": \"info\",\\n  \"code\": \"IR_SUMMARY_G...        \n",
       "707  {\\n  \"level\": \"info\",\\n  \"code\": \"IR_SUMMARY_G...        \n",
       "\n",
       "                              Links provided in answer  \n",
       "0    Product Allocation (CA-ATP-PAL).\\nhttps://help...  \n",
       "1    Key Concepts in Product Allocation\\nhttps://he...  \n",
       "2    Key Concepts in Product Allocation\\nhttps://he...  \n",
       "3    Authorizations Based on Characteristics\\nhttps...  \n",
       "4    Manage Characteristics Catalogs\\nhttps://help....  \n",
       "..                                                 ...  \n",
       "703  Outlier Correction\\nhttps://help.sap.com/docs/...  \n",
       "704  Maintenance of Master Data Records Using the M...  \n",
       "705  Opting Out of Custom Alert Definitions\\nhttps:...  \n",
       "706  Working with Alerts\\nhttps://help.sap.com/docs...  \n",
       "707  Process Chart in Dashboards – Advanced App\\nht...  \n",
       "\n",
       "[708 rows x 7 columns]"
      ]
     },
     "execution_count": 259,
     "metadata": {},
     "output_type": "execute_result"
    }
   ],
   "source": [
    "golden_data = pd.read_excel('GoldenDataSet_RAG.xlsx',sheet_name='Test_Records')\n",
    "golden_data"
   ]
  },
  {
   "cell_type": "code",
   "execution_count": 267,
   "id": "9275911d-7c2b-4ad6-99a4-82629148c188",
   "metadata": {},
   "outputs": [],
   "source": [
    "golden_questions = golden_data.iloc[:,2].tolist()\n",
    "\n",
    "not_what_q = []\n",
    "for q in golden_questions:\n",
    "    if q.split(\" \")[0].lower()!='what':\n",
    "        not_what_q.append(q)"
   ]
  },
  {
   "cell_type": "code",
   "execution_count": 269,
   "id": "536b2ce5-7d88-4acc-9a41-f378987f98cb",
   "metadata": {},
   "outputs": [
    {
     "name": "stdout",
     "output_type": "stream",
     "text": [
      "total count: 708\n",
      "total count what ques: 208\n"
     ]
    }
   ],
   "source": [
    "print(f\"total count: {len(golden_questions)}\")\n",
    "print(f\"total count what ques: {len(golden_questions)-len(not_what_q)}\")"
   ]
  },
  {
   "cell_type": "code",
   "execution_count": 271,
   "id": "62b9bee5-0047-45d5-ac08-4d1c3ad4cdf3",
   "metadata": {},
   "outputs": [
    {
     "data": {
      "text/plain": [
       "['Where can I maintain authorizations for product allocation characteristics?',\n",
       " 'How can I access the characteristic catalog?',\n",
       " 'How do I create a product allocation object?',\n",
       " 'How do I create a product allocation sequence?',\n",
       " 'How do I configure Product Allocation?',\n",
       " 'Configure Activity Attributes?',\n",
       " 'How can I configure activity attributes?',\n",
       " 'BPS?',\n",
       " 'How do I configure the availability change log?',\n",
       " 'Can I deactivate the availability change log?']"
      ]
     },
     "execution_count": 271,
     "metadata": {},
     "output_type": "execute_result"
    }
   ],
   "source": [
    "not_what_q[:10]"
   ]
  },
  {
   "cell_type": "markdown",
   "id": "0fea6550-8e25-4d39-bc29-a2ceee29e6c5",
   "metadata": {},
   "source": [
    "so 2/7 questions are what questions in the golden dataset"
   ]
  },
  {
   "cell_type": "markdown",
   "id": "39a4bec9-67f4-4816-8976-dd7472c4ac6d",
   "metadata": {},
   "source": [
    "find out the different question types"
   ]
  },
  {
   "cell_type": "code",
   "execution_count": 288,
   "id": "03ca99d1-630b-4934-94bb-11cf2ea60774",
   "metadata": {},
   "outputs": [
    {
     "data": {
      "text/plain": [
       "{'',\n",
       " 'alternative',\n",
       " 'api',\n",
       " 'api_subscriptionorder',\n",
       " 'are',\n",
       " 'arun?',\n",
       " 'bom',\n",
       " 'bop',\n",
       " 'bps?',\n",
       " 'can',\n",
       " 'cc',\n",
       " 'cds',\n",
       " 'compare',\n",
       " 'configurable',\n",
       " 'configure',\n",
       " 'configuring',\n",
       " 'contract',\n",
       " 'deactivate',\n",
       " 'deleting',\n",
       " 'determine',\n",
       " 'difference',\n",
       " 'different',\n",
       " 'do',\n",
       " 'does',\n",
       " 'emabrgo',\n",
       " 'explain',\n",
       " 'extensibility',\n",
       " 'first',\n",
       " 'fulfillment',\n",
       " 'going',\n",
       " 'have',\n",
       " 'help',\n",
       " 'how',\n",
       " 'i',\n",
       " \"i'd\",\n",
       " \"i'm\",\n",
       " \"i've\",\n",
       " 'in',\n",
       " 'is',\n",
       " 'list',\n",
       " 'make',\n",
       " 'manage',\n",
       " 'mass',\n",
       " 'master',\n",
       " 'mirror',\n",
       " 'monitor',\n",
       " 'one',\n",
       " 'partial',\n",
       " 'partner',\n",
       " 'plan',\n",
       " 'planning',\n",
       " 'please',\n",
       " 'product',\n",
       " 'range',\n",
       " 'recheck',\n",
       " 'request',\n",
       " 'sales',\n",
       " 'sap',\n",
       " 'second',\n",
       " 'service',\n",
       " 'show',\n",
       " 'solution',\n",
       " 'subscription',\n",
       " 'tell',\n",
       " 'third',\n",
       " 'troubleshooting',\n",
       " 'under',\n",
       " 'user',\n",
       " 'value',\n",
       " 'what',\n",
       " \"what's\",\n",
       " 'when',\n",
       " 'where',\n",
       " 'which',\n",
       " 'who',\n",
       " \"who's\",\n",
       " 'why',\n",
       " 'will',\n",
       " 'withdraw'}"
      ]
     },
     "execution_count": 288,
     "metadata": {},
     "output_type": "execute_result"
    }
   ],
   "source": [
    "set([q.split(\" \")[0].lower() for q in golden_questions])"
   ]
  },
  {
   "cell_type": "markdown",
   "id": "a8929613-f2bf-470d-b33b-3ed5848205ec",
   "metadata": {},
   "source": [
    "main ones \n",
    "\n",
    "what, when, where, which, why"
   ]
  },
  {
   "cell_type": "code",
   "execution_count": 273,
   "id": "c5577e84-64f0-46d0-a3f0-22834d84702f",
   "metadata": {},
   "outputs": [],
   "source": [
    "import random\n",
    "\n",
    "def test_llm_generation(N_GENERATIONS = 10, printing = True):\n",
    "    \n",
    "    print(f\"Generating {N_GENERATIONS} QA couples...\")\n",
    "    \n",
    "    outputs = []\n",
    "    for sampled_context in tqdm(random.sample(chunks, N_GENERATIONS)):\n",
    "    \n",
    "        # get QA couple\n",
    "        qa_couple = get_generated_qa(generator_llm,QA_generation_prompt,sampled_context)\n",
    "    \n",
    "        # condition check if answer is too long\n",
    "        # try:\n",
    "        question = qa_couple.content.split(\"Question: \")[-1].split(\"Answer: \")[0]\n",
    "        answer = qa_couple.content.split(\"Answer: \")[-1]\n",
    "        # assert len(answer) < 300, \"Answer is too long\"\n",
    "        outputs.append(\n",
    "            {\n",
    "                \"context\": sampled_context.page_content,\n",
    "                \"question\": question,\n",
    "                \"answer\": answer,\n",
    "                \"source_doc\": sampled_context.metadata[\"source\"],\n",
    "            }\n",
    "        )\n",
    "        # except:\n",
    "            # continue\n",
    "        if printing:\n",
    "            print(\"QUESTION: \", question)\n",
    "            print(\"ANSWER: \", answer)\n",
    "    \n",
    "    qna_df = pd.DataFrame(outputs)\n",
    "    \n",
    "    return qna_df"
   ]
  },
  {
   "cell_type": "code",
   "execution_count": 277,
   "id": "eaf181bf-c472-4f9b-82fa-2060787e5ecf",
   "metadata": {},
   "outputs": [],
   "source": [
    "QA_generation_prompt = \"\"\"\n",
    "Your task is to generate a question and answer based on the provided context. Ensure the following when formulating the question:\n",
    "\n",
    "1. Use a variety of question types: 'what', 'how', 'why', 'compare', 'explain', etc.\n",
    "2. Alternate between closed, open-ended, evaluative, comparative, and problem-solving questions.\n",
    "3. Avoid repetitive 'what' questions unless necessary for the context.\n",
    "4. Questions must be answerable solely from the context provided.\n",
    "5. Ensure questions are clear and unambiguous.\n",
    "4. **Avoid** phrases like 'based on the provided context', 'according to the context', or similar and words like 'this' as these are ambiguous references.\n",
    "5. Answers should not exceed 300 words.\n",
    "\n",
    "### Example 1:\n",
    "Context: Being able to deliver the required quantity of a material to the customer at the requested time demands precise planning and control mechanisms. Unpredictable problems, such as breakdowns in production or increased demand, can lead to critical situations in order processing and must be avoided wherever possible. In advanced Available-to-Promise (aATP) in SAP S/4HANA, you can use Product Allocation (PAL) to avoid critical situations in demand and procurement by allocating materials in short supply to, for example, specific regions and customers for a specific time period. This can help avoid the situation whereby, for example, the entire available quantity of a material in short supply is allocated to a single customer, thereby making it impossible for you to confirm subsequent order requirements for the same material from other customers.\\n\\n\\n\\n\\n\\n Features \\n\\naATP in SAP S/4HANA supports the following key features for setting up, configuring and monitoring availability checks against product allocation for the business document types sales document and stock transport order:\\n\\n\\n\\n Key Feature SAP Fiori App See Also \\n\\n <br><br> * Create and edit product allocation objects.<br> * Define the period types for product allocation objects.<br> * Define and order the characteristics for product allocation objects.<br> * Deactivate and delete product allocation objects and their characteristics.<br><br><br> Configure Product Allocation Configuring and Executing a Check Against Product Allocation \\n <br><br> * Maintain characteristic value combinations and planned allocation quantities for their time periods.<br> * Use spreadsheets (in .xlsx format) or comma separated values files (in .csv format) to maintain characteristic value combinations and their time series.<br> * Reuse assignments and quantities from deleted/deactivated characteristic value combinations to those active characteristic value combinations that are using collectives.<br> * Change the activation and constraint status of product allocation objects.<br> * Display the availability situation (planned, available and consumed quantity) for the materials in product allocation objects.<br> * Release product allocation objects and their planning data for productive usage.<br><br><br> Manage Product Allocation Planning Data Configuring and Executing a Check Against Product Allocation \\n <br><br> * Create, display and edit product allocation sequences.<br>\n",
    "Output::\n",
    "Question: What does product allocation mean?\n",
    "Answer: Product Allocation (PAL) in advanced Available-to-Promise (aATP) is a mechanism in SAP S/4HANA that helps avoid critical situations in demand and procurement. It allows the allocation of materials in short supply to specific regions and customers for a specific time period. This ensures that the entire available quantity of a material is not allocated to a single customer, enabling subsequent order requirements from other customers to be confirmed. PAL helps in precise planning and control of material delivery to meet customer demands.\n",
    "\n",
    "### Example 2:\n",
    "Context: App ID: F3829\\n\\nCharacteristic catalogs contain attributes that can be used as characteristics, for example, when you run availability checks for sales documents and stock transport orders. With this app, you can adapt characteristic catalogs to suit your business needs, for example, when you check availability against product allocation, execute backorder processing, use an alternative plant to confirm a requirement or protect quantities to prioritize demand. You can use this app if the business role Order Fulfillment Manager (R0226) is assigned to your user.\\n\\n\\n\\n Prerequisites \\n\\nTo be able to see the list of available catalogs in the Manage Characteristic Catalogs app, you need to set the catalog use types in the authorization object M_CAT_UTYP. In the Characteristic Catalog Use Type field, enter your catalog use types (for example, 01, 02 or * for all catalog use types).\\n\\n\\n\\n\\n\\n Key Features \\n\\nDepending on the selected catalog, you can use this app to:\\n\\n\\n\\n\\n\\n* Add characteristics as standard or custom fields to a characteristic catalog.\\n* Define characteristic value groups.\\n* Connect characteristics from multiple characteristic catalogs.\\n* Rename standard characteristics.\\n* Enable value existence check type for characteristics.\\n* Define authorizations for characteristic values and groups of characteristic values.\\n* Add classification characteristics from Variant Configuration\\n\\n\\n\\n\\n\\n Supported Device Types \\n\\n\\n\\n* Desktop\\n* Tablet\\n\\n\\n\\n\\n\\nRelated InformationUsing the Manage Characteristic Catalogs App for aATPProduct Allocation (CA-ATP-PAL)Backorder Processing (CA-ATP-BOP)Supply Protection (CA-ATP-SUP)Alternative-Based Confirmation (CA-ATP-ABC)\n",
    "Output::\n",
    "Question: How can I access the characteristic catalog?\n",
    "Answer: To access the characteristic catalog, you can use the \"Manage Characteristic Catalogs\" app . This app allows you to adapt characteristic catalogs to suit your business needs, add characteristics, define characteristic value groups, and connect characteristics from multiple catalogs . Please note that you need to have the \"Order Fulfillment Manager\" role assigned to your user to access this app.\n",
    "\n",
    "### Example 3:\n",
    "Context: Availability Change Log (ACL) must be activated before the changes are captured. You can activate ACL in Customizing of aATP at !Start of the navigation path Cross-Application Components !Next navigation step Advanced Available-to-Promise (aATP) !Next navigation step Availability Change Log !Next navigation step Activate Availability Change Log![End of the navigation path](URL\\n\\n\\n\\n* After ACL is configured, changes impacting the availability situation are captured for all supported documents.\\n* A material-plant combination can be excluded from ACL capture by navigating to the Change View \\\"Availability Change Log scope based on Checking Group\\\": Overview screen. Add the desired checking group and select the Deactivate Logging flag.\n",
    "Output::\n",
    "Question: How do I configure the availability change log? \n",
    "Answer: To configure the availability change log, you need to activate it in Customizing of aATP at the start of the navigation path Cross-Application Components, then navigate to Advanced Available-to-Promise (aATP), Availability Change Log, and activate the availability change log.\n",
    "\n",
    "Rules:\n",
    "\n",
    "Output format:\n",
    "Output::\n",
    "Question: (your question)\n",
    "Answer: (your answer)\n",
    "\n",
    "Now, here is the context:\n",
    "Context: {context}\\n\n",
    "Output::\"\"\"\n",
    "# 2. Keep questions under 20 words. Use abbreviations where applicable."
   ]
  },
  {
   "cell_type": "code",
   "execution_count": 279,
   "id": "da4968c0-d831-49ca-b94e-94a9409ea5ff",
   "metadata": {
    "scrolled": true
   },
   "outputs": [
    {
     "name": "stdout",
     "output_type": "stream",
     "text": [
      "Generating 10 QA couples...\n"
     ]
    },
    {
     "name": "stderr",
     "output_type": "stream",
     "text": [
      " 10%|█         | 1/10 [00:20<03:04, 20.47s/it]"
     ]
    },
    {
     "name": "stdout",
     "output_type": "stream",
     "text": [
      "QUESTION:  What is the source of information about ETags in this context?\n",
      "\n",
      "ANSWER:  The source of information about ETags is a webpage linked from the provided URL.\n"
     ]
    },
    {
     "name": "stderr",
     "output_type": "stream",
     "text": [
      " 20%|██        | 2/10 [00:26<01:35, 11.96s/it]"
     ]
    },
    {
     "name": "stdout",
     "output_type": "stream",
     "text": [
      "QUESTION:  What are the properties required to create a product allocation sequence?\n",
      "### \n",
      "ANSWER:  To create a product allocation sequence, you must provide the following properties:\n",
      "- Material: This is mandatory and refers to the material or product being allocated.\n",
      "- Plant: Although not necessary, providing the plant location can be useful for specific allocation scenarios. However, it's optional for insertion but becomes mandatory if you're updating an existing record.\n",
      "- ProdAllocSqncAssignmentUUID: If you're inserting a new record, this UUID is optional. However, if you're updating an existing product allocation sequence, this UUID becomes mandatory to identify the specific assignment being updated.\n"
     ]
    },
    {
     "name": "stderr",
     "output_type": "stream",
     "text": [
      " 30%|███       | 3/10 [00:29<00:54,  7.80s/it]"
     ]
    },
    {
     "name": "stdout",
     "output_type": "stream",
     "text": [
      "QUESTION:  What is the purpose of the Product Allocation Sequence Description entity?\n",
      "\n",
      "ANSWER:  The Product Allocation Sequence Description entity selects the descriptions for a given product allocation sequence in all required languages. It is used to get the descriptions for a single product allocation sequence in all required and available languages.\n"
     ]
    },
    {
     "name": "stderr",
     "output_type": "stream",
     "text": [
      " 40%|████      | 4/10 [00:50<01:19, 13.22s/it]"
     ]
    },
    {
     "name": "stdout",
     "output_type": "stream",
     "text": [
      "QUESTION:  How do you reference a product allocation sequence UUID in the URL?\n",
      "\n",
      "ANSWER:  You need to enclose the UUID value in single quotes and prefix it with \"guid\" when referencing it in the URL. For example: guid'<ProdAllocSequenceUUID>'\n"
     ]
    },
    {
     "name": "stderr",
     "output_type": "stream",
     "text": [
      " 50%|█████     | 5/10 [00:53<00:47,  9.44s/it]"
     ]
    },
    {
     "name": "stdout",
     "output_type": "stream",
     "text": [
      "QUESTION:  What are the supported operations for product allocation sequences?\n",
      "\n",
      "ANSWER:  The following operations are supported for product allocation sequences: Read product-location assignments of a specific sequence, Create Product-Location Assignment for a sequence, and Read all product-location assignments of all product allocation sequences.\n"
     ]
    },
    {
     "name": "stderr",
     "output_type": "stream",
     "text": [
      " 60%|██████    | 6/10 [00:56<00:29,  7.31s/it]"
     ]
    },
    {
     "name": "stdout",
     "output_type": "stream",
     "text": [
      "QUESTION:  What operations are available for the Product Allocation Sequence API?\n",
      "\n",
      "ANSWER:  The Product Allocation Sequence API offers the following operations: Read Product Allocation Sequence, Query Product Allocation Sequence, Read Product Allocation Sequence and Product Location Assignments, Create Product-Location Assignment, Update Product-Location Assignment, and Delete Product-Location Assignment.\n"
     ]
    },
    {
     "name": "stderr",
     "output_type": "stream",
     "text": [
      " 70%|███████   | 7/10 [01:06<00:24,  8.16s/it]"
     ]
    },
    {
     "name": "stdout",
     "output_type": "stream",
     "text": [
      "QUESTION:  How can I update a product-location assignment using the API?\n",
      "\n",
      "ANSWER:  To update a product-location assignment, you can use the PATCH method on the A_ProdAllocationSequence entity in the API_PRODUCT_ALLOC_SEQUENCE_SRV service. The URL for this operation is <host>/sap/opu/odata/SAP/API_PRODUCT_ALLOC_SEQUENCE_SRV/A_ProdAllocationSequence.\n"
     ]
    },
    {
     "name": "stderr",
     "output_type": "stream",
     "text": [
      " 80%|████████  | 8/10 [01:23<00:21, 10.82s/it]"
     ]
    },
    {
     "name": "stdout",
     "output_type": "stream",
     "text": [
      "QUESTION:  What are the features of the availability check API?\n",
      "\n",
      "ANSWER:  The availability check API provides a standardized interface to perform various business scenarios such as availability checks against product allocation, backorder processing, supply protection, alternative-based confirmation, and more. It also allows you to define characteristic catalogs for attributes used in availability checks and configure the availability change log to capture changes impacting the availability situation.\n"
     ]
    },
    {
     "name": "stderr",
     "output_type": "stream",
     "text": [
      " 90%|█████████ | 9/10 [01:32<00:10, 10.27s/it]"
     ]
    },
    {
     "name": "stdout",
     "output_type": "stream",
     "text": [
      "QUESTION:  What types of external planning systems can integrate with product allocation sequences?\n",
      "\n",
      "ANSWER:  The existing assignments for a product allocation sequence from external planning systems such as SAP Merchandise and Assortment Planning (AMR), SAP Assortment Planning for Retail (APR), SAP Integrated Business Planning (IBP), or any other planning systems can be integrated.\n"
     ]
    },
    {
     "name": "stderr",
     "output_type": "stream",
     "text": [
      "100%|██████████| 10/10 [01:35<00:00,  9.52s/it]"
     ]
    },
    {
     "name": "stdout",
     "output_type": "stream",
     "text": [
      "QUESTION:  What is the purpose of the product allocation consumption unit?\n",
      "\n",
      "ANSWER:  The product allocation consumption unit is used to get the header data for exactly one product allocation sequence, including the description in the corresponding system language. It provides information about when the corresponding product allocation sequence was created and changed.\n"
     ]
    },
    {
     "name": "stderr",
     "output_type": "stream",
     "text": [
      "\n"
     ]
    }
   ],
   "source": [
    "qna_df = test_llm_generation(N_GENERATIONS = 10, printing = True)"
   ]
  },
  {
   "cell_type": "markdown",
   "id": "ff481b36-a9b6-46e1-8869-989fac34ec85",
   "metadata": {},
   "source": [
    "# create multiple prompts for different question types\n",
    "\n",
    "main ones \n",
    "* what, when, where, which, why"
   ]
  },
  {
   "cell_type": "code",
   "execution_count": 294,
   "id": "afe400a3-8c6c-45a4-84de-fe2449f43cae",
   "metadata": {},
   "outputs": [],
   "source": [
    "import random\n",
    "\n",
    "def test_llm_generation(QA_generation_prompt,N_GENERATIONS = 10, printing = True):\n",
    "    \n",
    "    print(f\"Generating {N_GENERATIONS} QA couples...\")\n",
    "    \n",
    "    outputs = []\n",
    "    for sampled_context in tqdm(random.sample(chunks, N_GENERATIONS)):\n",
    "    for sampled_context in tqdm(random.sample(chunks, N_GENERATIONS)):\n",
    "    \n",
    "        # get QA couple\n",
    "        qa_couple = get_generated_qa(generator_llm,QA_generation_prompt,sampled_context)\n",
    "    \n",
    "        # condition check if answer is too long\n",
    "        # try:\n",
    "        question = qa_couple.content.split(\"Question: \")[-1].split(\"Answer: \")[0]\n",
    "        answer = qa_couple.content.split(\"Answer: \")[-1]\n",
    "        # assert len(answer) < 300, \"Answer is too long\"\n",
    "        outputs.append(\n",
    "            {\n",
    "                \"context\": sampled_context.page_content,\n",
    "                \"question\": question,\n",
    "                \"answer\": answer,\n",
    "                \"source_doc\": sampled_context.metadata[\"source\"],\n",
    "            }\n",
    "        )\n",
    "        # except:\n",
    "            # continue\n",
    "        if printing:\n",
    "            print(\"QUESTION: \", question)\n",
    "            print(\"ANSWER: \", answer)\n",
    "    \n",
    "    qna_df = pd.DataFrame(outputs)\n",
    "    \n",
    "    return qna_df"
   ]
  },
  {
   "cell_type": "code",
   "execution_count": 292,
   "id": "4717a0b2-6819-405f-af5c-1e354ea5336a",
   "metadata": {},
   "outputs": [],
   "source": [
    "what_qa_generation_prompt = \"\"\"\n",
    "Your task is to generate factual 'what' questions and their answers based on the context. \n",
    "Follow these rules:\n",
    "1. Your 'what' questions should inquire about specific facts, definitions, or descriptions in the context.\n",
    "2. Questions must be answerable solely from the context provided.\n",
    "3. Ensure questions are clear and unambiguous.\n",
    "4. **Avoid** phrases like 'based on the provided context', 'according to the context', or similar and words like 'this' as these are ambiguous references.\n",
    "5. Answers should not exceed 300 words.\n",
    "\n",
    "### Example 1:\n",
    "Context: Being able to deliver the required quantity of a material to the customer at the requested time demands precise planning and control mechanisms. Unpredictable problems, such as breakdowns in production or increased demand, can lead to critical situations in order processing and must be avoided wherever possible. In advanced Available-to-Promise (aATP) in SAP S/4HANA, you can use Product Allocation (PAL) to avoid critical situations in demand and procurement by allocating materials in short supply to, for example, specific regions and customers for a specific time period. This can help avoid the situation whereby, for example, the entire available quantity of a material in short supply is allocated to a single customer, thereby making it impossible for you to confirm subsequent order requirements for the same material from other customers.\\n\\n\\n\\n\\n\\n Features \\n\\naATP in SAP S/4HANA supports the following key features for setting up, configuring and monitoring availability checks against product allocation for the business document types sales document and stock transport order:\\n\\n\\n\\n Key Feature SAP Fiori App See Also \\n\\n <br><br> * Create and edit product allocation objects.<br> * Define the period types for product allocation objects.<br> * Define and order the characteristics for product allocation objects.<br> * Deactivate and delete product allocation objects and their characteristics.<br><br><br> Configure Product Allocation Configuring and Executing a Check Against Product Allocation \\n <br><br> * Maintain characteristic value combinations and planned allocation quantities for their time periods.<br> * Use spreadsheets (in .xlsx format) or comma separated values files (in .csv format) to maintain characteristic value combinations and their time series.<br> * Reuse assignments and quantities from deleted/deactivated characteristic value combinations to those active characteristic value combinations that are using collectives.<br> * Change the activation and constraint status of product allocation objects.<br> * Display the availability situation (planned, available and consumed quantity) for the materials in product allocation objects.<br> * Release product allocation objects and their planning data for productive usage.<br><br><br> Manage Product Allocation Planning Data Configuring and Executing a Check Against Product Allocation \\n <br><br> * Create, display and edit product allocation sequences.<br>\n",
    "Output::\n",
    "Question: What does product allocation mean?\n",
    "Answer: Product Allocation (PAL) in advanced Available-to-Promise (aATP) is a mechanism in SAP S/4HANA that helps avoid critical situations in demand and procurement. It allows the allocation of materials in short supply to specific regions and customers for a specific time period. This ensures that the entire available quantity of a material is not allocated to a single customer, enabling subsequent order requirements from other customers to be confirmed. PAL helps in precise planning and control of material delivery to meet customer demands.\n",
    "\n",
    "### Example 2:\n",
    "Context: The following concepts are of key importance for Product Allocation (PAL) in advanced Available-to-Promise (aATP):\\n\\n\\n\\n\\n\\n Concept: Definition: \\n Alias A user-specific description for a characteristic. The alias overrides the characteristic description when the characteristic is used in product allocation objects. An alias is defined in the Manage Characteristic Catalogs app. \\n Allocation quantity unit<br><br>Consumption unit of measure<br><br>Allocation rate When a product allocation object is created or maintained, an allocation quantity unit is defined and represents the unit of measure for all planned allocation quantities. When the product allocation object sequence is subsequently defined, a consumption unit of measure is entered. The consumption unit corresponds to (or has to be convertible to) the unit of measure maintained in the material master for the material assigned to the product allocation object. To calculate the planned allocation quantity (in allocation quantity units), an allocation rate is maintained in the product allocation sequence constraint.<br><br>The unit of measure of the requested order quantity is converted into a quantity in the consumption unit of measure (based on the conversion rule in the material master). The quantity of consumption units is then multiplied by the allocation rate to calculate the planned quantity (in allocation quantity units). \\n Authorizations based on characteristics Authorizations Based on Characteristics Based on characteristic catalogs, you can restrict reading and editing of characteristic value combinations using authorizations (for example, restricting editing the planning data for a sales organization). You define authorizations in the Manage Characteristic Catalogs app. \\n Characteristic catalog The characteristic catalog represents a selection of fields which are part of the data model for sales documents and stock transport orders. The characteristic catalog provides the characteristics that can be chosen when you configure a product allocation object (for example, sales organization, division, sold-to party). Characteristic catalogs for sales documents, stock transport orders or sales documents and stock transport orders can be adapted and mixed to create characteristic value groups that suit your business needs in the Manage Characteristic Catalogs app. \\n Check date time type Specifies the requested date type used for an availability check against product allocation. If, for example, the check date type Material Availability Date is specified, the check will first determine the requested material availability check date by executing scheduling for the requested delivery date.\n",
    "Output::\n",
    "Question: What is an allocation quantity unit in aATP product allocation?\n",
    "Answer: An allocation quantity unit in aATP product allocation represents the unit of measure for all planned allocation quantities. It is used to calculate the planned allocation quantity based on the consumption unit of measure and the allocation rate .\n",
    "\n",
    "### Example 3:\n",
    "Context: CDS View Name I_ProdAllocCheckDateTimeType, I_ProdAllocCheckDateTimeTypeT \\n CDS View Description Product Allocation Check Date Time Type, Product Allocation Check Date Time Type Text \\n View Type Basic \\n Status Released \\n\\n\\n\\n\\n\\n Purpose \\n\\nThese two CDS views (type code list view and corresponding text view) provide a list of type codes for the allowed date time types (material availability date, goods issue date and delivery date time) used in product allocation checks, and the corresponding text representation.\\n\\n\\n\\n\\n\\n Structure \\n\\n\\n\\nObject Types\\n\\nThe business objects Product Allocation Object and Product Allocation Sequence use the Product Allocation Check Date Time Type.\\n\\nMain Input Parameters\\n\\nThe views do not have any parameters.\\n\\nMeasures and Attributes\\n\\n\\n\\n* ProdAllocCheckDateTimeType: The different allowed type codes.\\n* ProdAllocChkDateTimeTypeDesc: Textual representation of the allowed type codes.\n",
    "Output::\n",
    "Question: What is the check date time type?\n",
    "Answer: The check date time type refers to the allowed date time types used in product allocation checks, such as material availability date, goods issue date, and delivery date time .\n",
    "\n",
    "Output format:\n",
    "Output::\n",
    "Question: (your question)\n",
    "Answer: (your answer)\n",
    "\n",
    "Now, here is the context:\n",
    "Context: {context}\\n\n",
    "Output::\"\"\""
   ]
  },
  {
   "cell_type": "code",
   "execution_count": 296,
   "id": "3e3eec93-4438-4690-b3d3-d46765bd3dcb",
   "metadata": {},
   "outputs": [
    {
     "name": "stdout",
     "output_type": "stream",
     "text": [
      "Generating 10 QA couples...\n"
     ]
    },
    {
     "name": "stderr",
     "output_type": "stream",
     "text": [
      " 10%|█         | 1/10 [00:12<01:54, 12.76s/it]"
     ]
    },
    {
     "name": "stdout",
     "output_type": "stream",
     "text": [
      "QUESTION:  What is the operation for updating a product-location assignment in the Product Allocation Sequence API?\n",
      "\n",
      "ANSWER:  The operation for updating a product-location assignment in the Product Allocation Sequence API is PATCH.\n"
     ]
    },
    {
     "name": "stderr",
     "output_type": "stream",
     "text": [
      " 20%|██        | 2/10 [00:32<02:13, 16.64s/it]"
     ]
    },
    {
     "name": "stdout",
     "output_type": "stream",
     "text": [
      "QUESTION:  Where can you find more information about custom documentation in SAP?\n",
      "\n",
      "ANSWER:  For more information about custom documentation in SAP, please visit the disclaimer page at https://help.sap.com/docs/disclaimer.\n"
     ]
    },
    {
     "name": "stderr",
     "output_type": "stream",
     "text": [
      " 30%|███       | 3/10 [00:39<01:25, 12.24s/it]"
     ]
    },
    {
     "name": "stdout",
     "output_type": "stream",
     "text": [
      "QUESTION:  What is the consumption unit for a product allocation sequence?\n",
      "\n",
      "ANSWER:  The consumption unit for a product allocation sequence refers to the unit of measure used for the product allocation sequence.\n"
     ]
    },
    {
     "name": "stderr",
     "output_type": "stream",
     "text": [
      " 40%|████      | 4/10 [00:46<01:00, 10.15s/it]"
     ]
    },
    {
     "name": "stdout",
     "output_type": "stream",
     "text": [
      "QUESTION:  What are the query string options allowed for a product allocation sequence?\n",
      "\n",
      "ANSWER:  The query string options allowed for a product allocation sequence include $orderby, $skip, $filter, $top, $select, $format, &expand, and $inlinecount.\n"
     ]
    },
    {
     "name": "stderr",
     "output_type": "stream",
     "text": [
      " 50%|█████     | 5/10 [00:59<00:57, 11.42s/it]"
     ]
    },
    {
     "name": "stdout",
     "output_type": "stream",
     "text": [
      "QUESTION:  What is the purpose of reading all sequence descriptions?\n",
      "\n",
      "ANSWER:  The purpose of reading all sequence descriptions is to retrieve information about multiple sequences at once.\n"
     ]
    },
    {
     "name": "stderr",
     "output_type": "stream",
     "text": [
      " 60%|██████    | 6/10 [01:08<00:42, 10.56s/it]"
     ]
    },
    {
     "name": "stdout",
     "output_type": "stream",
     "text": [
      "QUESTION:  What is the purpose of the API PRODUCT_ALLOC_SEQUENCE_SRV?\n",
      "\n",
      "ANSWER:  The API PRODUCT_ALLOC_SEQUENCE_SRV provides a service for managing product allocation sequences, including creating, updating, deleting, and retrieving information about these sequences.\n"
     ]
    },
    {
     "name": "stderr",
     "output_type": "stream",
     "text": [
      " 70%|███████   | 7/10 [01:29<00:41, 13.89s/it]"
     ]
    },
    {
     "name": "stdout",
     "output_type": "stream",
     "text": [
      "QUESTION:  What is the purpose of using ETags in the service?\n",
      "\n",
      "ANSWER:  The service uses entity tags (ETags) for optimistic concurrency control. This means that when a client requests a modification of a resource on the back-end server, the ETags of the resource on the client and on the back-end server are compared to determine whether any changes have been made to the resource on the back-end server.\n"
     ]
    },
    {
     "name": "stderr",
     "output_type": "stream",
     "text": [
      " 80%|████████  | 8/10 [01:58<00:37, 18.89s/it]"
     ]
    },
    {
     "name": "stdout",
     "output_type": "stream",
     "text": [
      "QUESTION:  What is the purpose of the POST operation on /DeleteSequenceAssignment?\n",
      "\n",
      "ANSWER:  The POST operation on /DeleteSequenceAssignment is used to delete a sequence assignment.\n"
     ]
    },
    {
     "name": "stderr",
     "output_type": "stream",
     "text": [
      " 90%|█████████ | 9/10 [02:11<00:16, 16.95s/it]"
     ]
    },
    {
     "name": "stdout",
     "output_type": "stream",
     "text": [
      "QUESTION:  What is the purpose of inserting (ProdAllocSqncAssignmentUUID) into a service node?\n",
      "\n",
      "ANSWER:  The purpose of inserting (ProdAllocSqncAssignmentUUID) into a service node is to assign a unique identifier for the material-plant assignment in a product allocation sequence.\n"
     ]
    },
    {
     "name": "stderr",
     "output_type": "stream",
     "text": [
      "100%|██████████| 10/10 [02:19<00:00, 13.90s/it]"
     ]
    },
    {
     "name": "stdout",
     "output_type": "stream",
     "text": [
      "QUESTION:  What does the A_ProdAllocSqncAssgmt entity read, update, and insert?\n",
      "\n",
      "ANSWER:  The A_ProdAllocSqncAssgmt entity reads, updates, and inserts product-location assignments for a given product allocation sequence and a given product allocation.\n"
     ]
    },
    {
     "name": "stderr",
     "output_type": "stream",
     "text": [
      "\n"
     ]
    }
   ],
   "source": [
    "qna_df=test_llm_generation(QA_generation_prompt=what_qa_generation_prompt,N_GENERATIONS=10, printing=True)"
   ]
  },
  {
   "cell_type": "markdown",
   "id": "357cc988-172e-46ef-86ca-b49ea2f425b4",
   "metadata": {},
   "source": [
    "need to generate questions for , when, where, which, why"
   ]
  },
  {
   "cell_type": "code",
   "execution_count": null,
   "id": "e20097b3-3634-4040-b989-c25bf71d7944",
   "metadata": {},
   "outputs": [],
   "source": []
  },
  {
   "cell_type": "code",
   "execution_count": 300,
   "id": "620b0d6b-c5de-4d0d-ac76-c85562b18939",
   "metadata": {},
   "outputs": [],
   "source": [
    "why_qa_generation_prompt = \"\"\"\n",
    "Your task is to generate 'why' questions and their answers based on the context.\n",
    "Follow these rules:\n",
    "1. Your 'why' questions should focus on reasons, causes, or justifications from the context.\n",
    "2. Questions must be answerable solely from the context provided.\n",
    "3. Ensure questions are clear and unambiguous.\n",
    "4. **Avoid** phrases like 'based on the provided context', 'according to the context', or similar and words like 'this' as these are ambiguous references.\n",
    "5. Answers should not exceed 300 words.\n",
    "\n",
    "Output format:\n",
    "Output::\n",
    "Question: (your question)\n",
    "Answer: (your answer)\n",
    "\n",
    "Now, here is the context:\n",
    "Context: {context}\\n\n",
    "Output::\"\"\"\n"
   ]
  },
  {
   "cell_type": "code",
   "execution_count": 302,
   "id": "1be5b6e4-be1f-4086-980d-b92ca1484e91",
   "metadata": {},
   "outputs": [
    {
     "name": "stdout",
     "output_type": "stream",
     "text": [
      "Generating 10 QA couples...\n"
     ]
    },
    {
     "name": "stderr",
     "output_type": "stream",
     "text": [
      " 10%|█         | 1/10 [00:15<02:15, 15.06s/it]"
     ]
    },
    {
     "name": "stdout",
     "output_type": "stream",
     "text": [
      "QUESTION:  Why is it important to read a specific product allocation sequence in a specific language?\n",
      "\n",
      "ANSWER:  Reading a specific product allocation sequence in a specific language ensures that the information is conveyed accurately and effectively to those who need it, regardless of their native language.\n"
     ]
    },
    {
     "name": "stderr",
     "output_type": "stream",
     "text": [
      " 20%|██        | 2/10 [00:19<01:09,  8.65s/it]"
     ]
    },
    {
     "name": "stdout",
     "output_type": "stream",
     "text": [
      "QUESTION:  What is the purpose of reading the header data for a specific product allocation sequence using this service?\n",
      "\n",
      "ANSWER:  The purpose of reading the header data is to include its description as well as any assigned product and product-location assignments.\n"
     ]
    },
    {
     "name": "stderr",
     "output_type": "stream",
     "text": [
      " 30%|███       | 3/10 [00:20<00:38,  5.44s/it]"
     ]
    },
    {
     "name": "stdout",
     "output_type": "stream",
     "text": [
      "QUESTION:  Why must the product allocation sequence exist?\n",
      "\n",
      "ANSWER:  The product allocation sequence must exist so that the service node can know the ProductAllocationSequenceUUID.\n"
     ]
    },
    {
     "name": "stderr",
     "output_type": "stream",
     "text": [
      " 40%|████      | 4/10 [00:28<00:38,  6.40s/it]"
     ]
    },
    {
     "name": "stdout",
     "output_type": "stream",
     "text": [
      "QUESTION:  Why are product-location assignments supported operations?\n",
      "\n",
      "ANSWER:  These assignments might be necessary for managing the physical distribution of products across different locations, ensuring that stock levels are accurate and up-to-date.\n"
     ]
    },
    {
     "name": "stderr",
     "output_type": "stream",
     "text": [
      " 50%|█████     | 5/10 [00:30<00:23,  4.75s/it]"
     ]
    },
    {
     "name": "stdout",
     "output_type": "stream",
     "text": [
      "QUESTION:  Why is custom documentation not suitable for productive use?\n",
      "\n",
      "ANSWER:  The arrangement of topics in the SAP Help Portal may not be reflected, and important aspects or correlations to other topics might be missing.\n"
     ]
    },
    {
     "name": "stderr",
     "output_type": "stream",
     "text": [
      " 60%|██████    | 6/10 [00:32<00:15,  3.77s/it]"
     ]
    },
    {
     "name": "stdout",
     "output_type": "stream",
     "text": [
      "QUESTION:  Why are product-location assignments read for a specific sequence supported?\n",
      "\n",
      "ANSWER:  The operation is supported to allow users to view the current assignments of products to locations within a particular allocation sequence.\n"
     ]
    },
    {
     "name": "stderr",
     "output_type": "stream",
     "text": [
      " 70%|███████   | 7/10 [00:35<00:10,  3.64s/it]"
     ]
    },
    {
     "name": "stdout",
     "output_type": "stream",
     "text": [
      "QUESTION:  Why are there different types of HTTP requests (POST, PATCH, DELETE) used in the provided URLs?\n",
      "\n",
      "ANSWER:  The different types of HTTP requests (POST, PATCH, DELETE) are used to perform various operations on product allocation sequences and assignments. POST is used for creating new resources, PATCH is used for updating existing ones, and DELETE is used for removing them.\n"
     ]
    },
    {
     "name": "stderr",
     "output_type": "stream",
     "text": [
      " 80%|████████  | 8/10 [00:38<00:06,  3.39s/it]"
     ]
    },
    {
     "name": "stdout",
     "output_type": "stream",
     "text": [
      "QUESTION:  Why are there different operations for reading and updating product-location assignments?\n",
      "\n",
      "ANSWER:  The API provides separate operations (Read Product Allocation Sequence and Read Product Allocation Sequence and Product Location Assignments) to allow for the retrieval of product allocation sequences independently or in conjunction with their associated location assignments, depending on the specific use case.\n"
     ]
    },
    {
     "name": "stderr",
     "output_type": "stream",
     "text": [
      " 90%|█████████ | 9/10 [00:40<00:02,  2.87s/it]"
     ]
    },
    {
     "name": "stdout",
     "output_type": "stream",
     "text": [
      "QUESTION:  Why was this custom documentation generated?\n",
      "\n",
      "ANSWER:  This custom documentation was generated for more information, which can be found on the SAP Help Portal.\n"
     ]
    },
    {
     "name": "stderr",
     "output_type": "stream",
     "text": [
      "100%|██████████| 10/10 [00:42<00:00,  4.28s/it]"
     ]
    },
    {
     "name": "stdout",
     "output_type": "stream",
     "text": [
      "QUESTION:  Why is a product allocation sequence UUID required for the entity Product Allocation Sequence Assignment?\n",
      "\n",
      "ANSWER:  The product allocation sequence UUID is required to uniquely identify and distinguish between different product allocation sequences, allowing for accurate assignment of these sequences in the Product Allocation Sequence Assignment entity.\n"
     ]
    },
    {
     "name": "stderr",
     "output_type": "stream",
     "text": [
      "\n"
     ]
    }
   ],
   "source": [
    "qna_df=test_llm_generation(QA_generation_prompt=why_qa_generation_prompt,N_GENERATIONS=10, printing=True)"
   ]
  },
  {
   "cell_type": "markdown",
   "id": "7875f086-a05e-4c12-be7f-96175d07dacb",
   "metadata": {},
   "source": [
    "to do:\n",
    "* add in the examples for why\n",
    "* repeat steps for the other question types like which, where etc"
   ]
  },
  {
   "cell_type": "markdown",
   "id": "274b9683-68ae-4467-9175-2843cf3a0fb9",
   "metadata": {
    "jp-MarkdownHeadingCollapsed": true
   },
   "source": [
    "# setup prompt and llm for critic-llm"
   ]
  },
  {
   "cell_type": "code",
   "execution_count": null,
   "id": "5856ae9e-aae7-4bc9-91e2-adbb34b17226",
   "metadata": {},
   "outputs": [],
   "source": []
  }
 ],
 "metadata": {
  "kernelspec": {
   "display_name": "langchain",
   "language": "python",
   "name": "langchain"
  },
  "language_info": {
   "codemirror_mode": {
    "name": "ipython",
    "version": 3
   },
   "file_extension": ".py",
   "mimetype": "text/x-python",
   "name": "python",
   "nbconvert_exporter": "python",
   "pygments_lexer": "ipython3",
   "version": "3.9.6"
  }
 },
 "nbformat": 4,
 "nbformat_minor": 5
}
