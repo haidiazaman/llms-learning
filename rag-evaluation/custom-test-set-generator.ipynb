{
 "cells": [
  {
   "cell_type": "markdown",
   "id": "a15664aa-b063-415c-bd02-2049816598c7",
   "metadata": {},
   "source": [
    "* https://huggingface.co/learn/cookbook/en/rag_evaluation\n",
    "* https://sap-my.sharepoint.com/:x:/r/personal/sabine_loss_sap_com/_layouts/15/Doc.aspx?sourcedoc=%7B2F78859D-06EF-413D-9E7A-250936C7B556%7D&file=GoldenDataSet_RAG.xlsx&action=default&mobileredirect=true"
   ]
  },
  {
   "cell_type": "markdown",
   "id": "5bbc3136-ece1-4aaa-ba28-a703e6effe97",
   "metadata": {},
   "source": [
    "* use ollama models and huggingface embeddings (need 2 LLM models)\n",
    "* use help docs from the first 10 rows of the golden dataset - see if can bsoup it else just use text, copy paste to txt file or sth\n",
    "* setup generator critic llm according to tut\n",
    "* generate q-a\n",
    "* evaluate q-a and filter for good scores\n",
    "* human evaluation"
   ]
  },
  {
   "cell_type": "markdown",
   "id": "21a9841f-cbfd-41e7-a821-b14b34ed7254",
   "metadata": {
    "jp-MarkdownHeadingCollapsed": true
   },
   "source": [
    "# setup llms, embedding_model, and process pdfs"
   ]
  },
  {
   "cell_type": "code",
   "execution_count": 4,
   "id": "ce4f1a8e-7d6a-42d3-b97d-f535eaf875ea",
   "metadata": {
    "scrolled": true
   },
   "outputs": [
    {
     "name": "stderr",
     "output_type": "stream",
     "text": [
      "/Users/I748920/Library/Python/3.9/lib/python/site-packages/urllib3/__init__.py:35: NotOpenSSLWarning: urllib3 v2 only supports OpenSSL 1.1.1+, currently the 'ssl' module is compiled with 'LibreSSL 2.8.3'. See: https://github.com/urllib3/urllib3/issues/3020\n",
      "  warnings.warn(\n"
     ]
    },
    {
     "name": "stdout",
     "output_type": "stream",
     "text": [
      "content=\"Pythagoras' Theorem, also known as the Pythagorean Theorem, is a fundamental concept in geometry that describes the relationship between the lengths of the sides of a right-angled triangle. It states:\\n\\n**a² + b² = c²**\\n\\nwhere:\\n\\n* **a** and **b** are the lengths of the two sides (called legs) that form the right angle.\\n* **c** is the length of the hypotenuse (the side opposite the right angle).\\n\\nIn other words, if you square the lengths of the two shorter sides of a right-angled triangle and add them together, the result is equal to the square of the length of the longest side (the hypotenuse).\\n\\nHere's an example:\\n\\nSuppose we have a right-angled triangle with one leg that's 3 inches long and another leg that's 4 inches long. Using Pythagoras' Theorem, we can calculate the length of the hypotenuse as follows:\\n\\n**a² + b² = c²**\\n**(3)² + (4)² = c²**\\n**9 + 16 = c²**\\n**25 = c²**\\n\\nTo find **c**, we take the square root of both sides:\\n\\n**c = √25**\\n**c = 5 inches**\\n\\nSo, in this example, the length of the hypotenuse is 5 inches.\\n\\nPythagoras' Theorem has numerous applications in mathematics, science, engineering, and architecture. It's a fundamental concept that helps us solve problems involving right-angled triangles, making it an essential tool for anyone working with geometry!\" response_metadata={'model': 'llama3.1', 'created_at': '2024-09-23T07:30:09.918139Z', 'message': {'role': 'assistant', 'content': ''}, 'done_reason': 'stop', 'done': True, 'total_duration': 19337679750, 'load_duration': 6648648625, 'prompt_eval_count': 16, 'prompt_eval_duration': 128288000, 'eval_count': 329, 'eval_duration': 12560212000} id='run-0c006a3e-2822-4fd5-9872-be016ec94bf4-0' usage_metadata={'input_tokens': 16, 'output_tokens': 329, 'total_tokens': 345}\n",
      "content=\"Pythagoras' Theorem, also known as the Pythagorean Theorem, is a fundamental concept in geometry that describes the relationship between the lengths of the sides of a right-angled triangle. It states:\\n\\n**a² + b² = c²**\\n\\nwhere:\\n\\n* **a** and **b** are the lengths of the two sides (called legs) that form the right angle.\\n* **c** is the length of the hypotenuse (the side opposite the right angle).\\n\\nIn other words, if you square the lengths of the two shorter sides of a right-angled triangle and add them together, the result is equal to the square of the length of the longest side (the hypotenuse).\\n\\nHere's an example:\\n\\nSuppose we have a right-angled triangle with one leg that's 3 inches long and another leg that's 4 inches long. Using Pythagoras' Theorem, we can calculate the length of the hypotenuse as follows:\\n\\n**a² + b² = c²**\\n**(3)² + (4)² = c²**\\n**9 + 16 = c²**\\n**25 = c²**\\n\\nTo find **c**, we take the square root of both sides:\\n\\n**c = √25**\\n**c = 5 inches**\\n\\nSo, in this example, the length of the hypotenuse is 5 inches.\\n\\nPythagoras' Theorem has numerous applications in mathematics, science, engineering, and architecture. It's a fundamental concept that helps us solve problems involving right-angled triangles, making it an essential tool for anyone working with geometry!\" response_metadata={'model': 'llama3.1', 'created_at': '2024-09-23T07:30:22.396568Z', 'message': {'role': 'assistant', 'content': ''}, 'done_reason': 'stop', 'done': True, 'total_duration': 12468472583, 'load_duration': 11401458, 'prompt_eval_count': 16, 'prompt_eval_duration': 38227000, 'eval_count': 329, 'eval_duration': 12417657000} id='run-6363ae8b-591f-4548-8f01-c9a2278b5668-0' usage_metadata={'input_tokens': 16, 'output_tokens': 329, 'total_tokens': 345}\n"
     ]
    }
   ],
   "source": [
    "# setup ollama model\n",
    "\n",
    "from langchain_ollama import ChatOllama\n",
    "\n",
    "llm_model_name = \"llama3.1\"\n",
    "\n",
    "generator_llm = ChatOllama(\n",
    "    model=llm_model_name,\n",
    "    temperature=0 # increase temp for more creative answers\n",
    ") \n",
    "\n",
    "critic_llm = ChatOllama(\n",
    "    model=llm_model_name,\n",
    "    temperature=0 # increase temp for more creative answers\n",
    ") \n",
    "\n",
    "# test\n",
    "response = generator_llm.invoke(\"what is pythagoras theorem\")\n",
    "print(response)\n",
    "\n",
    "response = critic_llm.invoke(\"what is pythagoras theorem\")\n",
    "print(response)"
   ]
  },
  {
   "cell_type": "code",
   "execution_count": 14,
   "id": "1a7a96a1-5095-4353-824f-83bb15da05d7",
   "metadata": {},
   "outputs": [
    {
     "name": "stderr",
     "output_type": "stream",
     "text": [
      "/var/folders/ff/wvby4kh52j96myw15h33jjk40000gn/T/ipykernel_18835/246890294.py:7: LangChainDeprecationWarning: The class `HuggingFaceEmbeddings` was deprecated in LangChain 0.2.2 and will be removed in 0.3.0. An updated version of the class exists in the langchain-huggingface package and should be used instead. To use it run `pip install -U langchain-huggingface` and import as `from langchain_huggingface import HuggingFaceEmbeddings`.\n",
      "  hf_embedding_model = HuggingFaceEmbeddings(\n",
      "/Users/I748920/Library/Python/3.9/lib/python/site-packages/sentence_transformers/cross_encoder/CrossEncoder.py:11: TqdmWarning: IProgress not found. Please update jupyter and ipywidgets. See https://ipywidgets.readthedocs.io/en/stable/user_install.html\n",
      "  from tqdm.autonotebook import tqdm, trange\n"
     ]
    }
   ],
   "source": [
    "from langchain_community.embeddings import HuggingFaceEmbeddings\n",
    "\n",
    "embedding_model_name = \"sentence-transformers/all-mpnet-base-v2\"\n",
    "model_kwargs = {'device': 'cpu'}\n",
    "encode_kwargs = {'normalize_embeddings': False}\n",
    "\n",
    "hf_embedding_model = HuggingFaceEmbeddings(\n",
    "    model_name=embedding_model_name,\n",
    "    model_kwargs=model_kwargs,\n",
    "    encode_kwargs=encode_kwargs\n",
    ")"
   ]
  },
  {
   "cell_type": "code",
   "execution_count": 25,
   "id": "d1277393-f544-4538-b491-a4902974ace0",
   "metadata": {},
   "outputs": [],
   "source": [
    "from langchain_community.document_loaders import PyPDFLoader\n",
    "from langchain_text_splitters import RecursiveCharacterTextSplitter\n",
    "from tqdm import tqdm\n",
    "\n",
    "def load_pdfs(file_paths):\n",
    "    \"\"\"\n",
    "    file_paths must end with .pdf\n",
    "    PyPDFLoader auto splits the pdf into pages, each page is 1 Document object split by page number\n",
    "    note that the splitting by page number is not perfect, the actual page number might be +/- 1-2pages.\n",
    "\n",
    "    returns a dict of key: file_path and value: list of document objects\n",
    "    \"\"\"\n",
    "    documents_dict = {}   \n",
    "    for f in tqdm(file_paths):\n",
    "        loader = PyPDFLoader(file_path = f)\n",
    "        documents = loader.load()\n",
    "        documents_dict[f] = documents\n",
    "    return documents_dict\n",
    "\n",
    "\n",
    "def chunk_list_of_documents(documents):\n",
    "    \"\"\"\n",
    "    input a list of documents as Document objects\n",
    "\n",
    "    output a list of chunks as Document objects\n",
    "    \"\"\"\n",
    "    text_splitter = RecursiveCharacterTextSplitter(\n",
    "        chunk_size = 500,\n",
    "        chunk_overlap = 100, # using 20% is a good start\n",
    "        length_function=len,\n",
    "        is_separator_regex=False,\n",
    "        add_start_index=True\n",
    "    )\n",
    "\n",
    "    chunks = text_splitter.split_documents(documents)    \n",
    "    return chunks\n"
   ]
  },
  {
   "cell_type": "code",
   "execution_count": 29,
   "id": "185b69b7-e975-4da6-a55c-3c80da90f11c",
   "metadata": {},
   "outputs": [
    {
     "name": "stderr",
     "output_type": "stream",
     "text": [
      "100%|██████████| 1/1 [00:00<00:00,  4.16it/s]\n"
     ]
    }
   ],
   "source": [
    "file = \"product-allocation.pdf\"\n",
    "\n",
    "documents_dict = load_pdfs([file])"
   ]
  },
  {
   "cell_type": "code",
   "execution_count": 35,
   "id": "227bee0f-305f-4de0-8aa9-b29729d1dc8e",
   "metadata": {
    "scrolled": true
   },
   "outputs": [
    {
     "data": {
      "text/plain": [
       "dict_keys(['product-allocation.pdf'])"
      ]
     },
     "execution_count": 35,
     "metadata": {},
     "output_type": "execute_result"
    }
   ],
   "source": [
    "documents_dict.keys() \n",
    "# values are the Document objects containing content of each page of the document, ~ 1 page per document object"
   ]
  },
  {
   "cell_type": "code",
   "execution_count": 38,
   "id": "f68554c5-1ce8-4e97-858b-7c4bfd53d041",
   "metadata": {},
   "outputs": [],
   "source": [
    "chunks = chunk_list_of_documents(documents=documents_dict['product-allocation.pdf'])"
   ]
  },
  {
   "cell_type": "code",
   "execution_count": 40,
   "id": "9a1f47c2-25d1-4b3f-962f-16311b3cf851",
   "metadata": {},
   "outputs": [
    {
     "data": {
      "text/plain": [
       "31"
      ]
     },
     "execution_count": 40,
     "metadata": {},
     "output_type": "execute_result"
    }
   ],
   "source": [
    "len(chunks)"
   ]
  },
  {
   "cell_type": "code",
   "execution_count": 42,
   "id": "61f6569b-9f35-4cbd-9f6a-753ff2d15404",
   "metadata": {
    "scrolled": true
   },
   "outputs": [
    {
     "data": {
      "text/plain": [
       "Document(metadata={'source': 'product-allocation.pdf', 'page': 0, 'start_index': 0}, page_content='9/23/2024\\n1 This is custom documentation. For more information, please visit the SAP Help PortalAPIs for Availability Checks\\nGenerated on: 2024-09-23 07:39:39 GMT+0000\\nSAP S/4HANA | 2023 Latest\\nPUBLIC\\nOriginal content: https://help.sap.com/docs/SAP_S4HANA_ON-PREMISE/15f9e51998a945cc82545cb6b4dbe5c2?locale=en-\\nUS&state=PRODUCTION&version=2023.001\\nWarning\\nThis document has been generated from the SAP Help Portal and is an incomplete version of the oﬃcial SAP product')"
      ]
     },
     "execution_count": 42,
     "metadata": {},
     "output_type": "execute_result"
    }
   ],
   "source": [
    "chunks[0]"
   ]
  },
  {
   "cell_type": "markdown",
   "id": "2c5e073e-e6f9-48d6-9f47-c915167126d1",
   "metadata": {},
   "source": [
    "# setup prompt and llm for generator-llm"
   ]
  },
  {
   "cell_type": "markdown",
   "id": "1c29a753-1c69-4b78-9d1e-bcf4450ae725",
   "metadata": {},
   "source": [
    "Now let’s generate our QA couples. For this example, we generate only 10 QA couples and will load the rest from the Hub.\n",
    "\n",
    "But for your specific knowledge base, given that you want to get at least ~100 test samples, and accounting for the fact that we will filter out around half of these with our critique agents later on, you should generate much more, in the >200 samples."
   ]
  },
  {
   "cell_type": "code",
   "execution_count": 78,
   "id": "9f4c6c91-8e09-4a9a-9141-472bbb8aae35",
   "metadata": {},
   "outputs": [
    {
     "name": "stdout",
     "output_type": "stream",
     "text": [
      "\n",
      "write a short story about this character. cheeky_fella has trait bravery and lives in a small village in the mountains.\n",
      "keep to 40 words only.\n",
      "\n",
      "\n",
      "content='In the mountain village of Brindlemark, Cheeky Fella stood tall, his bright smile a beacon of courage. When a fierce storm threatened to destroy the village, he rallied the townsfolk, leading them to safety with bravery and wit, earning their eternal gratitude.' response_metadata={'model': 'llama3.1', 'created_at': '2024-09-23T07:54:31.951553Z', 'message': {'role': 'assistant', 'content': ''}, 'done_reason': 'stop', 'done': True, 'total_duration': 2295223000, 'load_duration': 29363667, 'prompt_eval_count': 42, 'prompt_eval_duration': 185780000, 'eval_count': 57, 'eval_duration': 2078914000} id='run-b5f4155b-6237-4863-aa58-77d84e5f0960-0' usage_metadata={'input_tokens': 42, 'output_tokens': 57, 'total_tokens': 99}\n"
     ]
    }
   ],
   "source": [
    "# sample call for langchain_ollama\n",
    "\n",
    "# Define the prompt template\n",
    "sample_prompt = \"\"\"\n",
    "write a short story about this character. {name} has trait {trait} and lives in {place}.\n",
    "keep to 40 words only.\n",
    "\"\"\"\n",
    "\n",
    "# Define the trait and place for the character\n",
    "name = \"cheeky_fella\"\n",
    "trait = \"bravery\"\n",
    "place = \"a small village in the mountains\"\n",
    "\n",
    "# Format the prompt with the trait and place\n",
    "formatted_prompt = sample_prompt.format(name=name,trait=trait, place=place)\n",
    "print(formatted_prompt)\n",
    "print()\n",
    "\n",
    "# Call the LLM with the formatted prompt\n",
    "resp = generator_llm.invoke(\n",
    "    input=formatted_prompt  # Pass the formatted prompt to the LLM\n",
    ")\n",
    "\n",
    "print(resp)"
   ]
  },
  {
   "cell_type": "code",
   "execution_count": 82,
   "id": "8b566978-8bcb-4a81-933f-10fd1a69bbf4",
   "metadata": {},
   "outputs": [
    {
     "data": {
      "text/plain": [
       "AIMessage(content='In the mountain village of Brindlemark, Cheeky Fella stood tall, his bright smile a beacon of courage. When a fierce storm threatened to destroy the village, he rallied the townsfolk, leading them to safety with bravery and wit, earning their eternal gratitude.', response_metadata={'model': 'llama3.1', 'created_at': '2024-09-23T07:54:31.951553Z', 'message': {'role': 'assistant', 'content': ''}, 'done_reason': 'stop', 'done': True, 'total_duration': 2295223000, 'load_duration': 29363667, 'prompt_eval_count': 42, 'prompt_eval_duration': 185780000, 'eval_count': 57, 'eval_duration': 2078914000}, id='run-b5f4155b-6237-4863-aa58-77d84e5f0960-0', usage_metadata={'input_tokens': 42, 'output_tokens': 57, 'total_tokens': 99})"
      ]
     },
     "execution_count": 82,
     "metadata": {},
     "output_type": "execute_result"
    }
   ],
   "source": [
    "resp"
   ]
  },
  {
   "cell_type": "code",
   "execution_count": 84,
   "id": "bbbe425b-b3e7-44da-9a50-8535abcfc8b6",
   "metadata": {},
   "outputs": [
    {
     "data": {
      "text/plain": [
       "'In the mountain village of Brindlemark, Cheeky Fella stood tall, his bright smile a beacon of courage. When a fierce storm threatened to destroy the village, he rallied the townsfolk, leading them to safety with bravery and wit, earning their eternal gratitude.'"
      ]
     },
     "execution_count": 84,
     "metadata": {},
     "output_type": "execute_result"
    }
   ],
   "source": [
    "resp.content"
   ]
  },
  {
   "cell_type": "code",
   "execution_count": 88,
   "id": "1954dd88-dda6-4373-8890-b169b5996d43",
   "metadata": {},
   "outputs": [],
   "source": [
    "QA_generation_prompt = \"\"\"\n",
    "Your task is to write a factoid question and an answer given a context.\n",
    "Your factoid question should be answerable with a specific, concise piece of factual information from the context.\n",
    "Your factoid question should be formulated in the same style as questions users could ask in a search engine.\n",
    "This means that your factoid question MUST NOT mention something like \"according to the passage\" or \"context\".\n",
    "Keep your answer under 300 words.\n",
    "Provide your answer as follows:\n",
    "\n",
    "Output:::\n",
    "Factoid question: (your factoid question)\n",
    "Answer: (your answer to the factoid question)\n",
    "\n",
    "Now here is the context.\n",
    "\n",
    "Context: {context}\\n\n",
    "Output:::\"\"\""
   ]
  },
  {
   "cell_type": "code",
   "execution_count": 96,
   "id": "becef258-3001-49dc-a678-e26885fa304f",
   "metadata": {},
   "outputs": [],
   "source": [
    "# create function to call llm\n",
    "\n",
    "def get_generated_qa(llm,prompt,context):\n",
    "    \"\"\"\n",
    "    prompt must contain the input {context}\n",
    "    \"\"\"\n",
    "    # add the context and format the prompt\n",
    "    formatted_prompt = prompt.format(context=context)\n",
    "    \n",
    "    # Call the LLM with the formatted prompt\n",
    "    resp = llm.invoke(\n",
    "        input=formatted_prompt  # Pass the formatted prompt to the LLM\n",
    "    )\n",
    "    \n",
    "    return resp"
   ]
  },
  {
   "cell_type": "code",
   "execution_count": 98,
   "id": "aee5b416-ec2b-42be-be82-390925ed1765",
   "metadata": {},
   "outputs": [
    {
     "data": {
      "text/plain": [
       "Document(metadata={'source': 'product-allocation.pdf', 'page': 0, 'start_index': 0}, page_content='9/23/2024\\n1 This is custom documentation. For more information, please visit the SAP Help PortalAPIs for Availability Checks\\nGenerated on: 2024-09-23 07:39:39 GMT+0000\\nSAP S/4HANA | 2023 Latest\\nPUBLIC\\nOriginal content: https://help.sap.com/docs/SAP_S4HANA_ON-PREMISE/15f9e51998a945cc82545cb6b4dbe5c2?locale=en-\\nUS&state=PRODUCTION&version=2023.001\\nWarning\\nThis document has been generated from the SAP Help Portal and is an incomplete version of the oﬃcial SAP product')"
      ]
     },
     "execution_count": 98,
     "metadata": {},
     "output_type": "execute_result"
    }
   ],
   "source": [
    "chunks[0]"
   ]
  },
  {
   "cell_type": "code",
   "execution_count": 113,
   "id": "eb2bf3b3-7183-4d4f-a9ec-bd522a3076bf",
   "metadata": {},
   "outputs": [
    {
     "name": "stdout",
     "output_type": "stream",
     "text": [
      "Generating 10 QA couples...\n"
     ]
    },
    {
     "name": "stderr",
     "output_type": "stream",
     "text": [
      "100%|██████████| 10/10 [00:16<00:00,  1.67s/it]\n"
     ]
    }
   ],
   "source": [
    "import random\n",
    "\n",
    "N_GENERATIONS = 10  \n",
    "\n",
    "print(f\"Generating {N_GENERATIONS} QA couples...\")\n",
    "\n",
    "outputs = []\n",
    "for sampled_context in tqdm(random.sample(chunks, N_GENERATIONS)):\n",
    "\n",
    "    # get QA couple\n",
    "    qa_couple = get_generated_qa(generator_llm,QA_generation_prompt,sampled_context)\n",
    "\n",
    "    # condition check if answer is too long\n",
    "    try:\n",
    "        question = qa_couple.content.split(\"Factoid question: \")[-1].split(\"Answer: \")[0]\n",
    "        answer = qa_couple.content.split(\"Answer: \")[-1]\n",
    "        assert len(answer) < 300, \"Answer is too long\"\n",
    "        outputs.append(\n",
    "            {\n",
    "                \"context\": sampled_context.page_content,\n",
    "                \"question\": question,\n",
    "                \"answer\": answer,\n",
    "                \"source_doc\": sampled_context.metadata[\"source\"],\n",
    "            }\n",
    "        )\n",
    "    except:\n",
    "        continued"
   ]
  },
  {
   "cell_type": "code",
   "execution_count": 117,
   "id": "bf9adc6f-a4c2-42d6-ad16-da40d1c1daf5",
   "metadata": {},
   "outputs": [
    {
     "data": {
      "text/html": [
       "<div>\n",
       "<style scoped>\n",
       "    .dataframe tbody tr th:only-of-type {\n",
       "        vertical-align: middle;\n",
       "    }\n",
       "\n",
       "    .dataframe tbody tr th {\n",
       "        vertical-align: top;\n",
       "    }\n",
       "\n",
       "    .dataframe thead th {\n",
       "        text-align: right;\n",
       "    }\n",
       "</style>\n",
       "<table border=\"1\" class=\"dataframe\">\n",
       "  <thead>\n",
       "    <tr style=\"text-align: right;\">\n",
       "      <th></th>\n",
       "      <th>context</th>\n",
       "      <th>question</th>\n",
       "      <th>answer</th>\n",
       "      <th>source_doc</th>\n",
       "    </tr>\n",
       "  </thead>\n",
       "  <tbody>\n",
       "    <tr>\n",
       "      <th>0</th>\n",
       "      <td>allocation sequence and a given product alloca...</td>\n",
       "      <td>What is the technical name of a product alloca...</td>\n",
       "      <td>A_ProdAllocationSequence</td>\n",
       "      <td>product-allocation.pdf</td>\n",
       "    </tr>\n",
       "    <tr>\n",
       "      <th>1</th>\n",
       "      <td>9/23/2024\\n2 This is custom documentation. For...</td>\n",
       "      <td>What is the technical name of the Product Allo...</td>\n",
       "      <td>API_PRODUCT_ALLOC_SEQUENCE_SRV</td>\n",
       "      <td>product-allocation.pdf</td>\n",
       "    </tr>\n",
       "    <tr>\n",
       "      <th>2</th>\n",
       "      <td>9/23/2024\\n1 This is custom documentation. For...</td>\n",
       "      <td>What is the date when this documentation was g...</td>\n",
       "      <td>September 23, 2024.</td>\n",
       "      <td>product-allocation.pdf</td>\n",
       "    </tr>\n",
       "    <tr>\n",
       "      <th>3</th>\n",
       "      <td>Accelerator Hub.\\nService Structure\\nEntities\\...</td>\n",
       "      <td>What is the necessity of the \"Product Allocati...</td>\n",
       "      <td>Mandatory.</td>\n",
       "      <td>product-allocation.pdf</td>\n",
       "    </tr>\n",
       "    <tr>\n",
       "      <th>4</th>\n",
       "      <td>a large volume of data to be maintained in the...</td>\n",
       "      <td>What is enabled by this service?\\n</td>\n",
       "      <td>The service enables reading of header data for...</td>\n",
       "      <td>product-allocation.pdf</td>\n",
       "    </tr>\n",
       "    <tr>\n",
       "      <th>5</th>\n",
       "      <td>CRUD\\nCreate Read Update Delete\\nX\\nProperties...</td>\n",
       "      <td>What operations are supported for a Product Al...</td>\n",
       "      <td>Read the description of a specific product all...</td>\n",
       "      <td>product-allocation.pdf</td>\n",
       "    </tr>\n",
       "    <tr>\n",
       "      <th>6</th>\n",
       "      <td>Read the description of a speci\u0000c product allo...</td>\n",
       "      <td>What is the technical name of this entity?\\n</td>\n",
       "      <td>A_ProdAllocSqncAssgmt</td>\n",
       "      <td>product-allocation.pdf</td>\n",
       "    </tr>\n",
       "    <tr>\n",
       "      <th>7</th>\n",
       "      <td>POST &lt;host&gt;/sap/opu/odata/SAP/API_PRODUCT_ALLO...</td>\n",
       "      <td>What is the prefix used to enclose a UUID valu...</td>\n",
       "      <td>guid</td>\n",
       "      <td>product-allocation.pdf</td>\n",
       "    </tr>\n",
       "    <tr>\n",
       "      <th>8</th>\n",
       "      <td>ValidityStartUTCDateTime Validity start time\\n...</td>\n",
       "      <td>What are the supported operations for a produc...</td>\n",
       "      <td>Read product-location assignments of a specifi...</td>\n",
       "      <td>product-allocation.pdf</td>\n",
       "    </tr>\n",
       "  </tbody>\n",
       "</table>\n",
       "</div>"
      ],
      "text/plain": [
       "                                             context  \\\n",
       "0  allocation sequence and a given product alloca...   \n",
       "1  9/23/2024\\n2 This is custom documentation. For...   \n",
       "2  9/23/2024\\n1 This is custom documentation. For...   \n",
       "3  Accelerator Hub.\\nService Structure\\nEntities\\...   \n",
       "4  a large volume of data to be maintained in the...   \n",
       "5  CRUD\\nCreate Read Update Delete\\nX\\nProperties...   \n",
       "6  Read the description of a speci\u0000c product allo...   \n",
       "7  POST <host>/sap/opu/odata/SAP/API_PRODUCT_ALLO...   \n",
       "8  ValidityStartUTCDateTime Validity start time\\n...   \n",
       "\n",
       "                                            question  \\\n",
       "0  What is the technical name of a product alloca...   \n",
       "1  What is the technical name of the Product Allo...   \n",
       "2  What is the date when this documentation was g...   \n",
       "3  What is the necessity of the \"Product Allocati...   \n",
       "4                 What is enabled by this service?\\n   \n",
       "5  What operations are supported for a Product Al...   \n",
       "6       What is the technical name of this entity?\\n   \n",
       "7  What is the prefix used to enclose a UUID valu...   \n",
       "8  What are the supported operations for a produc...   \n",
       "\n",
       "                                              answer              source_doc  \n",
       "0                           A_ProdAllocationSequence  product-allocation.pdf  \n",
       "1                     API_PRODUCT_ALLOC_SEQUENCE_SRV  product-allocation.pdf  \n",
       "2                                September 23, 2024.  product-allocation.pdf  \n",
       "3                                         Mandatory.  product-allocation.pdf  \n",
       "4  The service enables reading of header data for...  product-allocation.pdf  \n",
       "5  Read the description of a specific product all...  product-allocation.pdf  \n",
       "6                              A_ProdAllocSqncAssgmt  product-allocation.pdf  \n",
       "7                                               guid  product-allocation.pdf  \n",
       "8  Read product-location assignments of a specifi...  product-allocation.pdf  "
      ]
     },
     "execution_count": 117,
     "metadata": {},
     "output_type": "execute_result"
    }
   ],
   "source": [
    "import pandas as pd\n",
    "\n",
    "qna_df = pd.DataFrame(outputs)\n",
    "qna_df"
   ]
  },
  {
   "cell_type": "markdown",
   "id": "6608e0ec-6c7c-43e8-a1ce-36c15e3d3b32",
   "metadata": {},
   "source": [
    "we can see that the questions are all What questions which are simple questions\n",
    "\n",
    "to do\n",
    "* validate: check if the qna generation is good\n",
    "* see if providing examples from the human dataset can improve the LLM generation\n",
    "    * providing in conversation history not necessary probably, just throw all examples in 1 long prompt"
   ]
  },
  {
   "cell_type": "markdown",
   "id": "274b9683-68ae-4467-9175-2843cf3a0fb9",
   "metadata": {
    "jp-MarkdownHeadingCollapsed": true
   },
   "source": [
    "# setup prompt and llm for critic-llm"
   ]
  },
  {
   "cell_type": "code",
   "execution_count": null,
   "id": "5856ae9e-aae7-4bc9-91e2-adbb34b17226",
   "metadata": {},
   "outputs": [],
   "source": []
  }
 ],
 "metadata": {
  "kernelspec": {
   "display_name": "langchain",
   "language": "python",
   "name": "langchain"
  },
  "language_info": {
   "codemirror_mode": {
    "name": "ipython",
    "version": 3
   },
   "file_extension": ".py",
   "mimetype": "text/x-python",
   "name": "python",
   "nbconvert_exporter": "python",
   "pygments_lexer": "ipython3",
   "version": "3.9.6"
  }
 },
 "nbformat": 4,
 "nbformat_minor": 5
}
